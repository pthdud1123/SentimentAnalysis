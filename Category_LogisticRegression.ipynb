{
 "cells": [
  {
   "cell_type": "code",
   "execution_count": 1,
   "id": "c203312d",
   "metadata": {},
   "outputs": [],
   "source": [
    "import numpy as np\n",
    "import pandas as pd\n",
    "import konlpy\n",
    "import matplotlib as plt\n",
    "import re\n",
    "from konlpy.tag import Mecab\n",
    "from tqdm import tqdm\n",
    "from sklearn.feature_extraction.text import CountVectorizer"
   ]
  },
  {
   "cell_type": "code",
   "execution_count": 2,
   "id": "8d4b9403",
   "metadata": {},
   "outputs": [
    {
     "name": "stdout",
     "output_type": "stream",
     "text": [
      "<class 'pandas.core.frame.DataFrame'>\n",
      "Int64Index: 27748 entries, 0 to 27751\n",
      "Data columns (total 6 columns):\n",
      " #   Column    Non-Null Count  Dtype  \n",
      "---  ------    --------------  -----  \n",
      " 0   space     27748 non-null  object \n",
      " 1   type      27748 non-null  object \n",
      " 2   language  27748 non-null  object \n",
      " 3   day       27748 non-null  int64  \n",
      " 4   text      27748 non-null  object \n",
      " 5   score     27748 non-null  float64\n",
      "dtypes: float64(1), int64(1), object(4)\n",
      "memory usage: 1.5+ MB\n"
     ]
    }
   ],
   "source": [
    "ref=pd.read_csv(\"attraction_all_translate.csv\",encoding='utf-8')\n",
    "ref=ref.drop([ref.columns[6],ref.columns[7],ref.columns[8]],axis=1)\n",
    "ref=ref.dropna(subset=['score'],axis=0)\n",
    "ref.info()"
   ]
  },
  {
   "cell_type": "code",
   "execution_count": 3,
   "id": "3926045b",
   "metadata": {},
   "outputs": [],
   "source": [
    "#language가 한국어가 아닐 수도 있는 경우 삭제\n",
    "ref.drop(ref.loc[ref[\"language\"]==\"일본어\"].index,inplace=True)\n",
    "ref.drop(ref.loc[ref[\"language\"]==\"중국어\"].index,inplace=True)"
   ]
  },
  {
   "cell_type": "code",
   "execution_count": 4,
   "id": "6420e5ed",
   "metadata": {},
   "outputs": [
    {
     "name": "stderr",
     "output_type": "stream",
     "text": [
      "C:\\Users\\pthdu\\anaconda3\\envs\\nltk\\lib\\site-packages\\ipykernel_launcher.py:2: SettingWithCopyWarning: \n",
      "A value is trying to be set on a copy of a slice from a DataFrame\n",
      "\n",
      "See the caveats in the documentation: https://pandas.pydata.org/pandas-docs/stable/user_guide/indexing.html#returning-a-view-versus-a-copy\n",
      "  \n"
     ]
    }
   ],
   "source": [
    "for index, row in ref.iterrows():\n",
    "    ref['text'][index]=re.sub('[-=+,#/\\?:^$.@*\\\"※~&%ㆍ!』\\\\‘|\\(\\)\\[\\]\\<\\>`\\'…》;]','',ref['text'][index])"
   ]
  },
  {
   "cell_type": "code",
   "execution_count": 5,
   "id": "a106b755",
   "metadata": {},
   "outputs": [],
   "source": [
    "mecab=Mecab(dicpath=\"C:\\mecab\\mecab-ko-dic\")\n",
    "ref['token']=ref['text'].apply(mecab.pos)"
   ]
  },
  {
   "cell_type": "code",
   "execution_count": 6,
   "id": "43411050",
   "metadata": {},
   "outputs": [],
   "source": [
    "#명사, 동사, 형용사, 어근, 부정사추출\n",
    "def extraction(tokens):\n",
    "    temp=\"\"\n",
    "    for word in tokens:\n",
    "        if word[1] in['NNG','VV','VA','XR','VCN']:\n",
    "            #print(word[1])\n",
    "            temp+=str(word[0])+\"/\"+str(word[1])\n",
    "            temp+=\" \"\n",
    "    return temp"
   ]
  },
  {
   "cell_type": "code",
   "execution_count": 7,
   "id": "34ef81a4",
   "metadata": {},
   "outputs": [
    {
     "data": {
      "text/html": [
       "<div>\n",
       "<style scoped>\n",
       "    .dataframe tbody tr th:only-of-type {\n",
       "        vertical-align: middle;\n",
       "    }\n",
       "\n",
       "    .dataframe tbody tr th {\n",
       "        vertical-align: top;\n",
       "    }\n",
       "\n",
       "    .dataframe thead th {\n",
       "        text-align: right;\n",
       "    }\n",
       "</style>\n",
       "<table border=\"1\" class=\"dataframe\">\n",
       "  <thead>\n",
       "    <tr style=\"text-align: right;\">\n",
       "      <th></th>\n",
       "      <th>space</th>\n",
       "      <th>type</th>\n",
       "      <th>language</th>\n",
       "      <th>day</th>\n",
       "      <th>text</th>\n",
       "      <th>score</th>\n",
       "      <th>token</th>\n",
       "    </tr>\n",
       "  </thead>\n",
       "  <tbody>\n",
       "    <tr>\n",
       "      <th>0</th>\n",
       "      <td>힐스파</td>\n",
       "      <td>체험</td>\n",
       "      <td>한국어</td>\n",
       "      <td>201702</td>\n",
       "      <td>경치 최고 찜질방에서 하루 숙박했습니다 달맞이길 윗쪽에 위치해서 해운대 일대가 한눈...</td>\n",
       "      <td>5.0</td>\n",
       "      <td>경치/NNG 최고/NNG 찜질방/NNG 하루/NNG 숙박/NNG 달맞이/NNG 길/...</td>\n",
       "    </tr>\n",
       "    <tr>\n",
       "      <th>1</th>\n",
       "      <td>힐스파</td>\n",
       "      <td>체험</td>\n",
       "      <td>한국어</td>\n",
       "      <td>201711</td>\n",
       "      <td>경치가 좋은 스파 너무 좋아요 해운대 바다가 보이는 스파라서 스파하는동안 기분이 좋...</td>\n",
       "      <td>5.0</td>\n",
       "      <td>경치/NNG 좋/VA 좋/VA 해운대/NNG 바다/NNG 보이/VV 하/VV 동안/...</td>\n",
       "    </tr>\n",
       "    <tr>\n",
       "      <th>2</th>\n",
       "      <td>힐스파</td>\n",
       "      <td>체험</td>\n",
       "      <td>한국어</td>\n",
       "      <td>201710</td>\n",
       "      <td>여독풀기 좋은 장소 하루 종일 여행 후 피로를 녹이기 좋은 장소 주차도 잘 됩니다 ...</td>\n",
       "      <td>4.0</td>\n",
       "      <td>여독/NNG 풀/VV 좋/VA 장소/NNG 하루/NNG 종일/NNG 여행/NNG 후...</td>\n",
       "    </tr>\n",
       "    <tr>\n",
       "      <th>3</th>\n",
       "      <td>힐스파</td>\n",
       "      <td>체험</td>\n",
       "      <td>한국어</td>\n",
       "      <td>201602</td>\n",
       "      <td>달맞이 고개의 훌륭한 목욕탕 달맞이 고개에 자리하고 있으며 고지대에 위치한 덕분에 ...</td>\n",
       "      <td>5.0</td>\n",
       "      <td>달맞이/NNG 고개/NNG 훌륭/XR 목욕탕/NNG 달맞이/NNG 고개/NNG 자리...</td>\n",
       "    </tr>\n",
       "    <tr>\n",
       "      <th>4</th>\n",
       "      <td>힐스파</td>\n",
       "      <td>체험</td>\n",
       "      <td>한국어</td>\n",
       "      <td>201504</td>\n",
       "      <td>해운대 달맞이고개의 찜질방 찜질하는 찜질방입니다 스파도 같이 운영합니다 방문객이 많...</td>\n",
       "      <td>3.0</td>\n",
       "      <td>해운대/NNG 달맞이/NNG 고개/NNG 찜질방/NNG 찜질/NNG 찜질방/NNG ...</td>\n",
       "    </tr>\n",
       "  </tbody>\n",
       "</table>\n",
       "</div>"
      ],
      "text/plain": [
       "  space type language     day  \\\n",
       "0   힐스파   체험      한국어  201702   \n",
       "1   힐스파   체험      한국어  201711   \n",
       "2   힐스파   체험      한국어  201710   \n",
       "3   힐스파   체험      한국어  201602   \n",
       "4   힐스파   체험      한국어  201504   \n",
       "\n",
       "                                                text  score  \\\n",
       "0  경치 최고 찜질방에서 하루 숙박했습니다 달맞이길 윗쪽에 위치해서 해운대 일대가 한눈...    5.0   \n",
       "1  경치가 좋은 스파 너무 좋아요 해운대 바다가 보이는 스파라서 스파하는동안 기분이 좋...    5.0   \n",
       "2  여독풀기 좋은 장소 하루 종일 여행 후 피로를 녹이기 좋은 장소 주차도 잘 됩니다 ...    4.0   \n",
       "3  달맞이 고개의 훌륭한 목욕탕 달맞이 고개에 자리하고 있으며 고지대에 위치한 덕분에 ...    5.0   \n",
       "4  해운대 달맞이고개의 찜질방 찜질하는 찜질방입니다 스파도 같이 운영합니다 방문객이 많...    3.0   \n",
       "\n",
       "                                               token  \n",
       "0  경치/NNG 최고/NNG 찜질방/NNG 하루/NNG 숙박/NNG 달맞이/NNG 길/...  \n",
       "1  경치/NNG 좋/VA 좋/VA 해운대/NNG 바다/NNG 보이/VV 하/VV 동안/...  \n",
       "2  여독/NNG 풀/VV 좋/VA 장소/NNG 하루/NNG 종일/NNG 여행/NNG 후...  \n",
       "3  달맞이/NNG 고개/NNG 훌륭/XR 목욕탕/NNG 달맞이/NNG 고개/NNG 자리...  \n",
       "4  해운대/NNG 달맞이/NNG 고개/NNG 찜질방/NNG 찜질/NNG 찜질방/NNG ...  "
      ]
     },
     "execution_count": 7,
     "metadata": {},
     "output_type": "execute_result"
    }
   ],
   "source": [
    "ref['token']=ref['token'].apply(extraction)\n",
    "ref.head()\n",
    "#type_list=list(set(ref['type']))"
   ]
  },
  {
   "cell_type": "code",
   "execution_count": 8,
   "id": "81c30a73",
   "metadata": {},
   "outputs": [
    {
     "name": "stdout",
     "output_type": "stream",
     "text": [
      "<class 'numpy.int32'>\n"
     ]
    }
   ],
   "source": [
    "ref=ref.astype({'score':'float'})\n",
    "ref=ref.astype({'score':'int'})\n",
    "print(type(ref['score'][0]))"
   ]
  },
  {
   "cell_type": "code",
   "execution_count": 9,
   "id": "7b03796a",
   "metadata": {},
   "outputs": [
    {
     "name": "stderr",
     "output_type": "stream",
     "text": [
      "C:\\Users\\pthdu\\anaconda3\\envs\\nltk\\lib\\site-packages\\ipykernel_launcher.py:3: SettingWithCopyWarning: \n",
      "A value is trying to be set on a copy of a slice from a DataFrame\n",
      "\n",
      "See the caveats in the documentation: https://pandas.pydata.org/pandas-docs/stable/user_guide/indexing.html#returning-a-view-versus-a-copy\n",
      "  This is separate from the ipykernel package so we can avoid doing imports until\n",
      "C:\\Users\\pthdu\\anaconda3\\envs\\nltk\\lib\\site-packages\\ipykernel_launcher.py:5: SettingWithCopyWarning: \n",
      "A value is trying to be set on a copy of a slice from a DataFrame\n",
      "\n",
      "See the caveats in the documentation: https://pandas.pydata.org/pandas-docs/stable/user_guide/indexing.html#returning-a-view-versus-a-copy\n",
      "  \"\"\"\n"
     ]
    }
   ],
   "source": [
    "for index,row in ref.iterrows():\n",
    "    if row['score']>3:\n",
    "        ref['score'][index]=1\n",
    "    else:\n",
    "        ref['score'][index]=0"
   ]
  },
  {
   "cell_type": "code",
   "execution_count": 10,
   "id": "a9d735f7",
   "metadata": {},
   "outputs": [],
   "source": [
    "#유형별 카테고리 추출\n",
    "type_list=list(set(ref['type']))"
   ]
  },
  {
   "cell_type": "code",
   "execution_count": 11,
   "id": "fbc4fa2a",
   "metadata": {},
   "outputs": [],
   "source": [
    "# ref dataframe에 있는 token열 string화\n",
    "category_df=[]\n",
    "for index in range(len(type_list)):\n",
    "    category_df.append(ref[ref['type']== type_list[index]])\n",
    "    category_df[index]=category_df[index].astype({'token':'string'})"
   ]
  },
  {
   "cell_type": "markdown",
   "id": "a9841ba2",
   "metadata": {},
   "source": [
    "# CountVectorizer화"
   ]
  },
  {
   "cell_type": "code",
   "execution_count": 13,
   "id": "2b96a3bd",
   "metadata": {},
   "outputs": [],
   "source": [
    "cv_count=[]\n",
    "cv=[]\n",
    "\n",
    "for i in range(len(type_list)):\n",
    "    cv.append(CountVectorizer(\n",
    "        min_df=1,\n",
    "        ngram_range=(1,3),\n",
    "        tokenizer=lambda x:x.split()))\n",
    "\n",
    "    cv_count.append(cv[i].fit_transform(category_df[i]['token']))"
   ]
  },
  {
   "cell_type": "code",
   "execution_count": 14,
   "id": "2d966b2d",
   "metadata": {},
   "outputs": [],
   "source": [
    "cv_feature=[]\n",
    "for i in range(len(type_list)):\n",
    "    cv_feature.append(cv[i].get_feature_names())"
   ]
  },
  {
   "cell_type": "markdown",
   "id": "2142247e",
   "metadata": {},
   "source": [
    "# Logistic Regression"
   ]
  },
  {
   "cell_type": "code",
   "execution_count": 15,
   "id": "d256482e",
   "metadata": {},
   "outputs": [
    {
     "name": "stderr",
     "output_type": "stream",
     "text": [
      "C:\\Users\\pthdu\\anaconda3\\envs\\nltk\\lib\\site-packages\\sklearn\\model_selection\\_split.py:667: UserWarning: The least populated class in y has only 3 members, which is less than n_splits=5.\n",
      "  % (min_groups, self.n_splits)), UserWarning)\n",
      "C:\\Users\\pthdu\\anaconda3\\envs\\nltk\\lib\\site-packages\\sklearn\\model_selection\\_split.py:667: UserWarning: The least populated class in y has only 3 members, which is less than n_splits=5.\n",
      "  % (min_groups, self.n_splits)), UserWarning)\n",
      "C:\\Users\\pthdu\\anaconda3\\envs\\nltk\\lib\\site-packages\\sklearn\\model_selection\\_validation.py:536: FitFailedWarning: Estimator fit failed. The score on this train-test partition for these parameters will be set to nan. Details: \n",
      "AttributeError: 'str' object has no attribute 'decode'\n",
      "\n",
      "  FitFailedWarning)\n",
      "C:\\Users\\pthdu\\anaconda3\\envs\\nltk\\lib\\site-packages\\sklearn\\model_selection\\_validation.py:536: FitFailedWarning: Estimator fit failed. The score on this train-test partition for these parameters will be set to nan. Details: \n",
      "AttributeError: 'str' object has no attribute 'decode'\n",
      "\n",
      "  FitFailedWarning)\n",
      "C:\\Users\\pthdu\\anaconda3\\envs\\nltk\\lib\\site-packages\\sklearn\\model_selection\\_validation.py:536: FitFailedWarning: Estimator fit failed. The score on this train-test partition for these parameters will be set to nan. Details: \n",
      "AttributeError: 'str' object has no attribute 'decode'\n",
      "\n",
      "  FitFailedWarning)\n",
      "C:\\Users\\pthdu\\anaconda3\\envs\\nltk\\lib\\site-packages\\sklearn\\model_selection\\_validation.py:536: FitFailedWarning: Estimator fit failed. The score on this train-test partition for these parameters will be set to nan. Details: \n",
      "AttributeError: 'str' object has no attribute 'decode'\n",
      "\n",
      "  FitFailedWarning)\n",
      "C:\\Users\\pthdu\\anaconda3\\envs\\nltk\\lib\\site-packages\\sklearn\\model_selection\\_validation.py:536: FitFailedWarning: Estimator fit failed. The score on this train-test partition for these parameters will be set to nan. Details: \n",
      "AttributeError: 'str' object has no attribute 'decode'\n",
      "\n",
      "  FitFailedWarning)\n"
     ]
    }
   ],
   "source": [
    "from sklearn.model_selection import GridSearchCV\n",
    "from sklearn.linear_model import LogisticRegression\n",
    "\n",
    "param_grid={'C':[0.001,0.01,0.1,1,10]}\n",
    "grid=[]\n",
    "for i in range(len(type_list)):\n",
    "    grid.append(GridSearchCV(LogisticRegression(), param_grid, cv=5))\n",
    "    grid[i].fit(cv_count[i],category_df[i]['score'])"
   ]
  },
  {
   "cell_type": "code",
   "execution_count": 16,
   "id": "558d7c2c",
   "metadata": {},
   "outputs": [],
   "source": [
    "# Regression 돌린 후 토큰과 빈도수 값 붙여서 word_vec 담기\n",
    "word_vec=[]\n",
    "for i in range(len(type_list)):\n",
    "    temp=grid[i].best_estimator_.coef_[0]\n",
    "    feature=cv_feature[i]\n",
    "    temp2=[]\n",
    "    for j in range(len(temp)):\n",
    "        temp2.append([temp[j],feature[j]])\n",
    "    word_vec.append(temp2)"
   ]
  },
  {
   "cell_type": "markdown",
   "id": "103905ae",
   "metadata": {},
   "source": [
    "# 긍정과 부정으로 나눠서 빈도수 높은 순으로 정렬"
   ]
  },
  {
   "cell_type": "code",
   "execution_count": 18,
   "id": "078965dd",
   "metadata": {},
   "outputs": [],
   "source": [
    "import openpyxl\n",
    "\n",
    "dic=[]\n",
    "for i in range(len(type_list)):\n",
    "    pos=[]\n",
    "    neg=[]\n",
    "    for j in range(len(word_vec[i])):\n",
    "        if word_vec[i][j][0]>=0:\n",
    "            pos.append(word_vec[i][j])\n",
    "        else:\n",
    "            neg.append(word_vec[i][j])\n",
    "    pos.sort(reverse=True)\n",
    "    neg.sort()\n",
    "    dic_pos=pd.DataFrame(data=pos,columns=['pos_freq','pos'])\n",
    "    dic_neg=pd.DataFrame(data=neg,columns=['neg_freq','neg'])\n",
    "    dic.append(pd.concat([dic_pos,dic_neg],axis=1))\n",
    "    \n"
   ]
  },
  {
   "cell_type": "code",
   "execution_count": 19,
   "id": "d3bb189c",
   "metadata": {},
   "outputs": [
    {
     "data": {
      "text/html": [
       "<div>\n",
       "<style scoped>\n",
       "    .dataframe tbody tr th:only-of-type {\n",
       "        vertical-align: middle;\n",
       "    }\n",
       "\n",
       "    .dataframe tbody tr th {\n",
       "        vertical-align: top;\n",
       "    }\n",
       "\n",
       "    .dataframe thead th {\n",
       "        text-align: right;\n",
       "    }\n",
       "</style>\n",
       "<table border=\"1\" class=\"dataframe\">\n",
       "  <thead>\n",
       "    <tr style=\"text-align: right;\">\n",
       "      <th></th>\n",
       "      <th>pos_freq</th>\n",
       "      <th>pos</th>\n",
       "      <th>neg_freq</th>\n",
       "      <th>neg</th>\n",
       "    </tr>\n",
       "  </thead>\n",
       "  <tbody>\n",
       "    <tr>\n",
       "      <th>0</th>\n",
       "      <td>0.647390</td>\n",
       "      <td>친구/nng</td>\n",
       "      <td>-0.881431</td>\n",
       "      <td>없/va</td>\n",
       "    </tr>\n",
       "    <tr>\n",
       "      <th>1</th>\n",
       "      <td>0.630453</td>\n",
       "      <td>최고/nng</td>\n",
       "      <td>-0.703005</td>\n",
       "      <td>같/va</td>\n",
       "    </tr>\n",
       "    <tr>\n",
       "      <th>2</th>\n",
       "      <td>0.582182</td>\n",
       "      <td>좋/va</td>\n",
       "      <td>-0.696637</td>\n",
       "      <td>카지노/nng</td>\n",
       "    </tr>\n",
       "    <tr>\n",
       "      <th>3</th>\n",
       "      <td>0.563713</td>\n",
       "      <td>훌륭/xr</td>\n",
       "      <td>-0.691472</td>\n",
       "      <td>생각/nng</td>\n",
       "    </tr>\n",
       "    <tr>\n",
       "      <th>4</th>\n",
       "      <td>0.549881</td>\n",
       "      <td>편안/nng</td>\n",
       "      <td>-0.615570</td>\n",
       "      <td>실망/nng</td>\n",
       "    </tr>\n",
       "  </tbody>\n",
       "</table>\n",
       "</div>"
      ],
      "text/plain": [
       "   pos_freq     pos  neg_freq      neg\n",
       "0  0.647390  친구/nng -0.881431     없/va\n",
       "1  0.630453  최고/nng -0.703005     같/va\n",
       "2  0.582182    좋/va -0.696637  카지노/nng\n",
       "3  0.563713   훌륭/xr -0.691472   생각/nng\n",
       "4  0.549881  편안/nng -0.615570   실망/nng"
      ]
     },
     "execution_count": 19,
     "metadata": {},
     "output_type": "execute_result"
    }
   ],
   "source": [
    "dic[3].head()"
   ]
  },
  {
   "cell_type": "markdown",
   "id": "88d0efd8",
   "metadata": {},
   "source": [
    " # bokeh"
   ]
  },
  {
   "cell_type": "code",
   "execution_count": 20,
   "id": "17f20bde",
   "metadata": {},
   "outputs": [],
   "source": [
    "from bokeh.layouts import gridplot,column,row\n",
    "from bokeh.plotting import figure, output_file,show\n",
    "from bokeh.models import ColumnDataSource,Select, DataTable, TableColumn\n",
    "from bokeh.palettes import Spectral6\n",
    "from bokeh.palettes import Spectral5\n",
    "from bokeh.plotting import curdoc, figure\n",
    "from bokeh.sampledata.autompg import autompg_clean as df\n",
    "from bokeh.io import curdoc\n",
    "\n"
   ]
  },
  {
   "cell_type": "code",
   "execution_count": 21,
   "id": "e587249f",
   "metadata": {},
   "outputs": [],
   "source": [
    "#call back\n",
    "def change(attrname, old, new):\n",
    "    layout.children[1]=update()\n",
    "\n",
    "    \n",
    "gp=[]\n",
    "def update():\n",
    "    lis=[]\n",
    "    t=ticker1.value\n",
    "    t1=int(t)\n",
    "    pos_token = list(dic[t1]['pos'][:20])\n",
    "    pos_freq = list(dic[t1]['pos_freq'][:20])\n",
    "    neg_token = list(dic[t1]['neg'][:20])\n",
    "    neg_freq = list(dic[t1]['neg_freq'][:20])\n",
    "    p = figure(x_range=pos_token, plot_width=1000,plot_height=300, title=type_list[t1]+\"Postive\")\n",
    "    p.vbar(x=pos_token, top=pos_freq, width=0.7, color='darkblue')\n",
    "    lis.append([p])\n",
    "    p = figure(x_range=neg_token, plot_width=1000,plot_height=300, y_range=(-0.5,0.5), title=type_list[t1]+\"Negative\")\n",
    "    p.vbar(x=neg_token, top=neg_freq, width=0.7, color='red')\n",
    "    lis.append([p])\n",
    "    gp=gridplot(lis)\n",
    "    \n",
    "    return gp\n",
    "    \n"
   ]
  },
  {
   "cell_type": "code",
   "execution_count": 23,
   "id": "87abbbe7",
   "metadata": {},
   "outputs": [],
   "source": [
    "#menu값을 문자형숫자로 설정 해놓은 이유는 dropdown기능을 사용해 값을 선택하면 on_change함수가 실행되고\n",
    "#chage()메서드에서 자식을 생성하는데 update()메서드도 실행됨.update()메서드에서 해당 값을 인트형으로 바꿔서 해당 인덱스의 그래프를 보여줌\n",
    "menu = [\"0\",\"1\",\"2\",\"3\",\"4\",\"5\",\"6\",\"7\",\"8\",\"9\"]\n",
    "\n",
    "ticker1=Select(value=\"1\",options=menu)#기본값 1로 설정\n",
    "ticker1.on_change('value',change) #on_chage함수실행\n",
    "\n",
    "layout=row(ticker1,update()) #ticker1이라는 dropdown객체를 생성했으면 html화면에 붙여 주어야 하는데 [드롭다운-그래프]순으로 보여주기 위해 row 방향으로 lqout생성\n",
    "curdoc().add_root(layout) # layout을 root에 붙여줌\n",
    "curdoc().title=\"LogisticRegression\" #탭 창 이름 설정"
   ]
  },
  {
   "cell_type": "code",
   "execution_count": 25,
   "id": "bc6e1f20",
   "metadata": {},
   "outputs": [
    {
     "name": "stderr",
     "output_type": "stream",
     "text": [
      "WARNING:bokeh.embed.util:\n",
      "You are generating standalone HTML/JS output, but trying to use real Python\n",
      "callbacks (i.e. with on_change or on_event). This combination cannot work.\n",
      "\n",
      "Only JavaScript callbacks may be used with standalone output. For more\n",
      "information on JavaScript callbacks with Bokeh, see:\n",
      "\n",
      "    https://docs.bokeh.org/en/latest/docs/user_guide/interaction/callbacks.html\n",
      "\n",
      "Alternatively, to use real Python callbacks, a Bokeh server application may\n",
      "be used. For more information on building and running Bokeh applications, see:\n",
      "\n",
      "    https://docs.bokeh.org/en/latest/docs/user_guide/server.html\n",
      "\n"
     ]
    }
   ],
   "source": [
    "show(layout) # 이렇게 하면 정적인 화면 밖에 보지 못함\n",
    "#위에서 설정한 드롭다운 화면을 볼려면 \n",
    "#bokeh를 설치하고\n",
    "#anaconda의 가상환경에 이동한 후\n",
    "#이 코드가 있는 상위폴더까지 이동한 후\n",
    "#bokeh serve --show 파일이름.(파일타입)을 쳐주면 시간이 쫌 걸리나 실행이 됨\n",
    "#몇번 에러가 떠서 실패할 수 있는데 와이파이 환경이 약하거나 끊기면 바로 error떠서 여러번 실행시켜봐야함.\n"
   ]
  },
  {
   "cell_type": "markdown",
   "id": "ec2fb35c",
   "metadata": {},
   "source": [
    "print(type_list)"
   ]
  },
  {
   "cell_type": "markdown",
   "id": "8c375939",
   "metadata": {},
   "source": [
    "# Bokeh가 아닌 img로 저장 할 경우"
   ]
  },
  {
   "cell_type": "code",
   "execution_count": null,
   "id": "87a12109",
   "metadata": {},
   "outputs": [],
   "source": [
    "import matplotlib\n",
    "import matplotlib.pyplot as plt\n",
    "import mglearn\n",
    "import matplotlib.font_manager as fm\n",
    "\n",
    "font_location=r'C:\\Windows\\Fonts\\H2PORM.TTF'\n",
    "font_name=fm.FontProperties(fname=font_location).get_name()\n",
    "matplotlib.rc('font',family=font_name)\n",
    "for i in range(len(typelist)):\n",
    "    mglearn.tools.visualize_coefficients(grid[i].best_estimator_.coef_,cv_feature[i], n_top_features=20)\n",
    "    #plt.show()\n",
    "    plt.savefig(typelist[i]+'_keyword_7.jpg',facecolor='#eeeeee')"
   ]
  }
 ],
 "metadata": {
  "kernelspec": {
   "display_name": "Python 3",
   "language": "python",
   "name": "python3"
  },
  "language_info": {
   "codemirror_mode": {
    "name": "ipython",
    "version": 3
   },
   "file_extension": ".py",
   "mimetype": "text/x-python",
   "name": "python",
   "nbconvert_exporter": "python",
   "pygments_lexer": "ipython3",
   "version": "3.7.10"
  }
 },
 "nbformat": 4,
 "nbformat_minor": 5
}
