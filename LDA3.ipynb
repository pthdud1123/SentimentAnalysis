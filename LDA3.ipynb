{
 "cells": [
  {
   "cell_type": "code",
   "execution_count": 1,
   "id": "d1435067",
   "metadata": {},
   "outputs": [],
   "source": [
    "import numpy as np\n",
    "import pandas as pd\n",
    "import konlpy\n",
    "import matplotlib as plt\n",
    "import re\n",
    "from tqdm import tqdm\n",
    "from konlpy.tag import Mecab\n",
    "from ast import literal_eval\n",
    "from sklearn.feature_extraction.text import CountVectorizer"
   ]
  },
  {
   "cell_type": "code",
   "execution_count": 2,
   "id": "076e5525",
   "metadata": {},
   "outputs": [],
   "source": [
    "ref=pd.read_csv('attraction_all_translate.csv',encoding='utf-8')\n",
    "ref=ref.drop(ref.columns[[6,7,8]],axis=1)\n",
    "ref=ref.dropna(subset=['score'],axis=0)"
   ]
  },
  {
   "cell_type": "code",
   "execution_count": 3,
   "id": "9a46ed2d",
   "metadata": {},
   "outputs": [
    {
     "name": "stderr",
     "output_type": "stream",
     "text": [
      "C:\\Users\\pthdu\\anaconda3\\envs\\nltk\\lib\\site-packages\\ipykernel_launcher.py:3: SettingWithCopyWarning: \n",
      "A value is trying to be set on a copy of a slice from a DataFrame\n",
      "\n",
      "See the caveats in the documentation: https://pandas.pydata.org/pandas-docs/stable/user_guide/indexing.html#returning-a-view-versus-a-copy\n",
      "  This is separate from the ipykernel package so we can avoid doing imports until\n",
      "C:\\Users\\pthdu\\anaconda3\\envs\\nltk\\lib\\site-packages\\ipykernel_launcher.py:4: SettingWithCopyWarning: \n",
      "A value is trying to be set on a copy of a slice from a DataFrame\n",
      "\n",
      "See the caveats in the documentation: https://pandas.pydata.org/pandas-docs/stable/user_guide/indexing.html#returning-a-view-versus-a-copy\n",
      "  after removing the cwd from sys.path.\n",
      "C:\\Users\\pthdu\\anaconda3\\envs\\nltk\\lib\\site-packages\\ipykernel_launcher.py:2: SettingWithCopyWarning: \n",
      "A value is trying to be set on a copy of a slice from a DataFrame\n",
      "\n",
      "See the caveats in the documentation: https://pandas.pydata.org/pandas-docs/stable/user_guide/indexing.html#returning-a-view-versus-a-copy\n",
      "  \n"
     ]
    }
   ],
   "source": [
    "for index,row in ref.iterrows():\n",
    "    ref['text'][index]=re.sub('[-=+,#/\\?:^$.@*\\\"※~&%ㆍ!』\\\\‘|\\(\\)\\[\\]\\<\\>`\\'…》;]', '',ref['text'][index])\n",
    "    ref['text'][index]=ref['text'][index].replace(\".\",\"\").strip()\n",
    "    ref['text'][index]=re.sub('[^|가-힣|0-9|a-zA-Z]+','',ref['text'][index])"
   ]
  },
  {
   "cell_type": "code",
   "execution_count": 4,
   "id": "2c4bd544",
   "metadata": {},
   "outputs": [],
   "source": [
    "mecab=Mecab(dicpath=\"C:\\mecab\\mecab-ko-dic\")\n",
    "ref['token']=ref['text'].apply(mecab.pos)"
   ]
  },
  {
   "cell_type": "code",
   "execution_count": 5,
   "id": "651d5a02",
   "metadata": {},
   "outputs": [],
   "source": [
    "def extraction(text_tokens):\n",
    "    return_list=[]\n",
    "    for text_token in text_tokens:\n",
    "        if text_token[1] in ['VV','VA','NNG','XR','VCN']:\n",
    "            if text_token[0] not in ['있','하','되','가','없']:\n",
    "                return_list.append(text_token[0])\n",
    "    return return_list"
   ]
  },
  {
   "cell_type": "code",
   "execution_count": 6,
   "id": "81b59534",
   "metadata": {},
   "outputs": [
    {
     "data": {
      "text/html": [
       "<div>\n",
       "<style scoped>\n",
       "    .dataframe tbody tr th:only-of-type {\n",
       "        vertical-align: middle;\n",
       "    }\n",
       "\n",
       "    .dataframe tbody tr th {\n",
       "        vertical-align: top;\n",
       "    }\n",
       "\n",
       "    .dataframe thead th {\n",
       "        text-align: right;\n",
       "    }\n",
       "</style>\n",
       "<table border=\"1\" class=\"dataframe\">\n",
       "  <thead>\n",
       "    <tr style=\"text-align: right;\">\n",
       "      <th></th>\n",
       "      <th>space</th>\n",
       "      <th>type</th>\n",
       "      <th>language</th>\n",
       "      <th>day</th>\n",
       "      <th>text</th>\n",
       "      <th>score</th>\n",
       "      <th>token</th>\n",
       "      <th>token_1</th>\n",
       "    </tr>\n",
       "  </thead>\n",
       "  <tbody>\n",
       "    <tr>\n",
       "      <th>0</th>\n",
       "      <td>힐스파</td>\n",
       "      <td>체험</td>\n",
       "      <td>한국어</td>\n",
       "      <td>201702</td>\n",
       "      <td>경치최고찜질방에서하루숙박했습니다달맞이길윗쪽에위치해서해운대일대가한눈에내려다보이는정말최...</td>\n",
       "      <td>5.0</td>\n",
       "      <td>[(경치, NNG), (최고, NNG), (찜질방, NNG), (에서, JKB), ...</td>\n",
       "      <td>[경치, 최고, 찜질방, 하루, 숙박, 달맞이, 길, 위치, 해운대, 한눈, 보이,...</td>\n",
       "    </tr>\n",
       "    <tr>\n",
       "      <th>1</th>\n",
       "      <td>힐스파</td>\n",
       "      <td>체험</td>\n",
       "      <td>한국어</td>\n",
       "      <td>201711</td>\n",
       "      <td>경치가좋은스파너무좋아요해운대바다가보이는스파라서스파하는동안기분이좋아요야외스파도있어서시...</td>\n",
       "      <td>5.0</td>\n",
       "      <td>[(경치, NNG), (가, JKS), (좋, VA), (은, ETM), (스파, ...</td>\n",
       "      <td>[경치, 좋, 좋, 해운대, 바다, 보이, 동안, 기분, 좋, 야외, 시원, 좋]</td>\n",
       "    </tr>\n",
       "    <tr>\n",
       "      <th>2</th>\n",
       "      <td>힐스파</td>\n",
       "      <td>체험</td>\n",
       "      <td>한국어</td>\n",
       "      <td>201710</td>\n",
       "      <td>여독풀기좋은장소하루종일여행후피로를녹이기좋은장소주차도잘됩니다바다풍경이매우좋습니다사우나...</td>\n",
       "      <td>4.0</td>\n",
       "      <td>[(여독, NNG), (풀, VV), (기, ETN), (좋, VA), (은, ET...</td>\n",
       "      <td>[여독, 풀, 좋, 장소, 하루, 종일, 여행, 후, 피로, 녹이, 좋, 장소, 주...</td>\n",
       "    </tr>\n",
       "    <tr>\n",
       "      <th>3</th>\n",
       "      <td>힐스파</td>\n",
       "      <td>체험</td>\n",
       "      <td>한국어</td>\n",
       "      <td>201602</td>\n",
       "      <td>달맞이고개의훌륭한목욕탕달맞이고개에자리하고있으며고지대에위치한덕분에목욕탕에서아름다운해운...</td>\n",
       "      <td>5.0</td>\n",
       "      <td>[(달맞이, NNG), (고개, NNG), (의, JKG), (훌륭, XR), (한...</td>\n",
       "      <td>[달맞이, 고개, 훌륭, 목욕탕, 달맞이, 고개, 자리, 고지대, 위치, 덕분, 목...</td>\n",
       "    </tr>\n",
       "    <tr>\n",
       "      <th>4</th>\n",
       "      <td>힐스파</td>\n",
       "      <td>체험</td>\n",
       "      <td>한국어</td>\n",
       "      <td>201504</td>\n",
       "      <td>해운대달맞이고개의찜질방찜질하는찜질방입니다스파도같이운영합니다방문객이많아서숙박용숙소로는...</td>\n",
       "      <td>3.0</td>\n",
       "      <td>[(해운대, NNG), (달맞이, NNG), (고개, NNG), (의, JKG), ...</td>\n",
       "      <td>[해운대, 달맞이, 고개, 찜질방, 찜질, 찜질방, 운영, 방문객, 많, 숙박, 숙...</td>\n",
       "    </tr>\n",
       "    <tr>\n",
       "      <th>5</th>\n",
       "      <td>힐스파</td>\n",
       "      <td>체험</td>\n",
       "      <td>한국어</td>\n",
       "      <td>201303</td>\n",
       "      <td>오션뷰에서엄청싸게숙박돌아가는비행기가다음날아침편이었기때문에이날은숙소를잡지못하고여기에서...</td>\n",
       "      <td>3.0</td>\n",
       "      <td>[(오션, NNP), (뷰, NNP), (에서, JKB), (엄청, MAG), (싸...</td>\n",
       "      <td>[싸, 숙박, 돌아가, 비행기, 다음, 날, 아침, 이날, 숙소, 잡, 숙박, 택시...</td>\n",
       "    </tr>\n",
       "    <tr>\n",
       "      <th>6</th>\n",
       "      <td>힐스파</td>\n",
       "      <td>체험</td>\n",
       "      <td>한국어</td>\n",
       "      <td>201206</td>\n",
       "      <td>경치는좋아요밖에서보이는경치는좋은편인데사람들이많은탓인지별로청결하게보이지는않았어요이른아...</td>\n",
       "      <td>3.0</td>\n",
       "      <td>[(경치, NNG), (는, JX), (좋, VA), (아요, EF), (밖, NN...</td>\n",
       "      <td>[경치, 좋, 밖, 보이, 경치, 좋, 사람, 많, 탓, 청결, 보이, 아침, 해뜨...</td>\n",
       "    </tr>\n",
       "    <tr>\n",
       "      <th>7</th>\n",
       "      <td>힐스파</td>\n",
       "      <td>체험</td>\n",
       "      <td>한국어</td>\n",
       "      <td>201202</td>\n",
       "      <td>바다온천베스타스파의가장멋진점은탕에들어가면바다에서목욕하는듯한느낌이든다는것이다벽이유리로...</td>\n",
       "      <td>4.0</td>\n",
       "      <td>[(바다, NNG), (온천, NNG), (베스타스, NNP), (파, NNG), ...</td>\n",
       "      <td>[바다, 온천, 파, 점, 탕, 들어가, 바다, 목욕, 느낌, 벽, 유리, 밖, 해...</td>\n",
       "    </tr>\n",
       "    <tr>\n",
       "      <th>8</th>\n",
       "      <td>힐스파</td>\n",
       "      <td>체험</td>\n",
       "      <td>한국어</td>\n",
       "      <td>201201</td>\n",
       "      <td>바다위에둥둥아침일찍바다를볼수있다는기대감으로고고몸을담글수있는탕이모두바다를볼수있게되어있...</td>\n",
       "      <td>5.0</td>\n",
       "      <td>[(바다위, NNP), (에, JKB), (둥둥, MAG), (아침, NNG), (...</td>\n",
       "      <td>[아침, 바다, 기대감, 고고, 몸, 탕, 바다, 몸, 시원, 따뜻, 노천탕, 시설...</td>\n",
       "    </tr>\n",
       "    <tr>\n",
       "      <th>9</th>\n",
       "      <td>힐스파</td>\n",
       "      <td>체험</td>\n",
       "      <td>한국어</td>\n",
       "      <td>201105</td>\n",
       "      <td>전면유리밖으로해운대바다랑광안대교가보입니다할머니랑엄마랑같이밤에한번아침에한번갔습니다시설...</td>\n",
       "      <td>4.0</td>\n",
       "      <td>[(전면, NNG), (유리, NNG), (밖, NNG), (으로, JKB), (해...</td>\n",
       "      <td>[전면, 유리, 밖, 해운대, 바다, 광안, 대교, 할머니, 엄마, 밤, 아침, 시...</td>\n",
       "    </tr>\n",
       "  </tbody>\n",
       "</table>\n",
       "</div>"
      ],
      "text/plain": [
       "  space type language     day  \\\n",
       "0   힐스파   체험      한국어  201702   \n",
       "1   힐스파   체험      한국어  201711   \n",
       "2   힐스파   체험      한국어  201710   \n",
       "3   힐스파   체험      한국어  201602   \n",
       "4   힐스파   체험      한국어  201504   \n",
       "5   힐스파   체험      한국어  201303   \n",
       "6   힐스파   체험      한국어  201206   \n",
       "7   힐스파   체험      한국어  201202   \n",
       "8   힐스파   체험      한국어  201201   \n",
       "9   힐스파   체험      한국어  201105   \n",
       "\n",
       "                                                text  score  \\\n",
       "0  경치최고찜질방에서하루숙박했습니다달맞이길윗쪽에위치해서해운대일대가한눈에내려다보이는정말최...    5.0   \n",
       "1  경치가좋은스파너무좋아요해운대바다가보이는스파라서스파하는동안기분이좋아요야외스파도있어서시...    5.0   \n",
       "2  여독풀기좋은장소하루종일여행후피로를녹이기좋은장소주차도잘됩니다바다풍경이매우좋습니다사우나...    4.0   \n",
       "3  달맞이고개의훌륭한목욕탕달맞이고개에자리하고있으며고지대에위치한덕분에목욕탕에서아름다운해운...    5.0   \n",
       "4  해운대달맞이고개의찜질방찜질하는찜질방입니다스파도같이운영합니다방문객이많아서숙박용숙소로는...    3.0   \n",
       "5  오션뷰에서엄청싸게숙박돌아가는비행기가다음날아침편이었기때문에이날은숙소를잡지못하고여기에서...    3.0   \n",
       "6  경치는좋아요밖에서보이는경치는좋은편인데사람들이많은탓인지별로청결하게보이지는않았어요이른아...    3.0   \n",
       "7  바다온천베스타스파의가장멋진점은탕에들어가면바다에서목욕하는듯한느낌이든다는것이다벽이유리로...    4.0   \n",
       "8  바다위에둥둥아침일찍바다를볼수있다는기대감으로고고몸을담글수있는탕이모두바다를볼수있게되어있...    5.0   \n",
       "9  전면유리밖으로해운대바다랑광안대교가보입니다할머니랑엄마랑같이밤에한번아침에한번갔습니다시설...    4.0   \n",
       "\n",
       "                                               token  \\\n",
       "0  [(경치, NNG), (최고, NNG), (찜질방, NNG), (에서, JKB), ...   \n",
       "1  [(경치, NNG), (가, JKS), (좋, VA), (은, ETM), (스파, ...   \n",
       "2  [(여독, NNG), (풀, VV), (기, ETN), (좋, VA), (은, ET...   \n",
       "3  [(달맞이, NNG), (고개, NNG), (의, JKG), (훌륭, XR), (한...   \n",
       "4  [(해운대, NNG), (달맞이, NNG), (고개, NNG), (의, JKG), ...   \n",
       "5  [(오션, NNP), (뷰, NNP), (에서, JKB), (엄청, MAG), (싸...   \n",
       "6  [(경치, NNG), (는, JX), (좋, VA), (아요, EF), (밖, NN...   \n",
       "7  [(바다, NNG), (온천, NNG), (베스타스, NNP), (파, NNG), ...   \n",
       "8  [(바다위, NNP), (에, JKB), (둥둥, MAG), (아침, NNG), (...   \n",
       "9  [(전면, NNG), (유리, NNG), (밖, NNG), (으로, JKB), (해...   \n",
       "\n",
       "                                             token_1  \n",
       "0  [경치, 최고, 찜질방, 하루, 숙박, 달맞이, 길, 위치, 해운대, 한눈, 보이,...  \n",
       "1      [경치, 좋, 좋, 해운대, 바다, 보이, 동안, 기분, 좋, 야외, 시원, 좋]  \n",
       "2  [여독, 풀, 좋, 장소, 하루, 종일, 여행, 후, 피로, 녹이, 좋, 장소, 주...  \n",
       "3  [달맞이, 고개, 훌륭, 목욕탕, 달맞이, 고개, 자리, 고지대, 위치, 덕분, 목...  \n",
       "4  [해운대, 달맞이, 고개, 찜질방, 찜질, 찜질방, 운영, 방문객, 많, 숙박, 숙...  \n",
       "5  [싸, 숙박, 돌아가, 비행기, 다음, 날, 아침, 이날, 숙소, 잡, 숙박, 택시...  \n",
       "6  [경치, 좋, 밖, 보이, 경치, 좋, 사람, 많, 탓, 청결, 보이, 아침, 해뜨...  \n",
       "7  [바다, 온천, 파, 점, 탕, 들어가, 바다, 목욕, 느낌, 벽, 유리, 밖, 해...  \n",
       "8  [아침, 바다, 기대감, 고고, 몸, 탕, 바다, 몸, 시원, 따뜻, 노천탕, 시설...  \n",
       "9  [전면, 유리, 밖, 해운대, 바다, 광안, 대교, 할머니, 엄마, 밤, 아침, 시...  "
      ]
     },
     "execution_count": 6,
     "metadata": {},
     "output_type": "execute_result"
    }
   ],
   "source": [
    "ref['token_1']=ref['token'].apply(extraction)\n",
    "ref[:10]"
   ]
  },
  {
   "cell_type": "code",
   "execution_count": 7,
   "id": "388428c2",
   "metadata": {},
   "outputs": [
    {
     "name": "stderr",
     "output_type": "stream",
     "text": [
      "C:\\Users\\pthdu\\anaconda3\\envs\\nltk\\lib\\site-packages\\gensim\\similarities\\__init__.py:15: UserWarning: The gensim.similarities.levenshtein submodule is disabled, because the optional Levenshtein package <https://pypi.org/project/python-Levenshtein/> is unavailable. Install Levenhstein (e.g. `pip install python-Levenshtein`) to suppress this warning.\n",
      "  warnings.warn(msg)\n"
     ]
    }
   ],
   "source": [
    "from gensim import corpora\n",
    "dc=corpora.Dictionary(ref['token_1'])\n",
    "corpus=[dc.doc2bow(text) for text in ref['token_1']]"
   ]
  },
  {
   "cell_type": "code",
   "execution_count": 8,
   "id": "2b1c15fa",
   "metadata": {},
   "outputs": [],
   "source": [
    "import gensim\n",
    "from gensim.models.ldamodel import LdaModel\n",
    "\n",
    "lda_model_good=gensim.models.ldamodel.LdaModel(corpus=corpus,id2word=dc,num_topics=10,iterations=50,update_every=1,eval_every=1,chunksize=100,per_word_topics=True,alpha='auto',passes=10)\n",
    "lda_model_bad=gensim.models.ldamodel.LdaModel(corpus=corpus,id2word=dc,num_topics=15,iterations=50,update_every=1,chunksize=100,per_word_topics=True,alpha='auto',passes=10)"
   ]
  },
  {
   "cell_type": "code",
   "execution_count": 9,
   "id": "3a96060e",
   "metadata": {},
   "outputs": [],
   "source": [
    "from gensim.models.coherencemodel import CoherenceModel\n",
    "\n",
    "#출처: https://joyhong.tistory.com/138 [옳은 길로..]"
   ]
  },
  {
   "cell_type": "code",
   "execution_count": 10,
   "id": "f6054811",
   "metadata": {},
   "outputs": [],
   "source": [
    "def compute_coherence_values(dictionary,corpus,texts,limit,start=2,step=3):\n",
    "    coherence_values=[]\n",
    "    model_list=[]\n",
    "    for num_topics in range(start, limit, step):\n",
    "        model=LdaModel(corpus=corpus, id2word=dictionary, num_topics=num_topics)\n",
    "        model_list.append(model)\n",
    "        coherencemodel=CoherenceModel(model=model, texts=texts, dictionary=dictionary,coherence='c_v')\n",
    "        coherence_values.append(coherencemodel.get_coherence())\n",
    "    \n",
    "    return model_list,coherence_values"
   ]
  },
  {
   "cell_type": "code",
   "execution_count": 11,
   "id": "8c36f261",
   "metadata": {},
   "outputs": [],
   "source": [
    "def find_optimal_number_of_topics(dictionary,corpus,processed_data):\n",
    "    limit=40;\n",
    "    start=2;\n",
    "    step=6;\n",
    "    \n",
    "    model_list, coherence_values=compute_coherence_values(dictionary=dictionary,corpus=corpus,texts=processed_data,start=start,limit=limit,step=step)\n",
    "    x=range(start,limit,step)\n",
    "    plt.plot(x,coherence_values)\n",
    "    plt.xlabel(\"Num Topics\")\n",
    "    plt.ylabel(\"Coherence score\")\n",
    "    plt.legend((\"coherence_values\"), loc='best')\n",
    "    plt.show()"
   ]
  },
  {
   "cell_type": "code",
   "execution_count": 23,
   "id": "207bc450",
   "metadata": {},
   "outputs": [
    {
     "name": "stderr",
     "output_type": "stream",
     "text": [
      "C:\\Users\\pthdu\\anaconda3\\envs\\nltk\\lib\\site-packages\\ipykernel\\ipkernel.py:287: DeprecationWarning: `should_run_async` will not call `transform_cell` automatically in the future. Please pass the result to `transformed_cell` argument and any exception that happen during thetransform in `preprocessing_exc_tuple` in IPython 7.17 and above.\n",
      "  and should_run_async(code)\n"
     ]
    },
    {
     "data": {
      "image/png": "[encoded data removed]",
      "text/plain": [
       "<Figure size 432x288 with 1 Axes>"
      ]
     },
     "metadata": {
      "needs_background": "light"
     },
     "output_type": "display_data"
    },
    {
     "ename": "AttributeError",
     "evalue": "'NoneType' object has no attribute 'savefig'",
     "output_type": "error",
     "traceback": [
      "\u001b[1;31m---------------------------------------------------------------------------\u001b[0m",
      "\u001b[1;31mAttributeError\u001b[0m                            Traceback (most recent call last)",
      "\u001b[1;32m<ipython-input-23-dee2fd9b9cd8>\u001b[0m in \u001b[0;36m<module>\u001b[1;34m\u001b[0m\n\u001b[0;32m      2\u001b[0m \u001b[1;33m\u001b[0m\u001b[0m\n\u001b[0;32m      3\u001b[0m \u001b[0mplt\u001b[0m\u001b[1;33m=\u001b[0m\u001b[0mfind_optimal_number_of_topics\u001b[0m\u001b[1;33m(\u001b[0m\u001b[0mdc\u001b[0m\u001b[1;33m,\u001b[0m\u001b[0mcorpus\u001b[0m\u001b[1;33m,\u001b[0m\u001b[0mref\u001b[0m\u001b[1;33m[\u001b[0m\u001b[1;34m'token_1'\u001b[0m\u001b[1;33m]\u001b[0m\u001b[1;33m)\u001b[0m\u001b[1;33m\u001b[0m\u001b[1;33m\u001b[0m\u001b[0m\n\u001b[1;32m----> 4\u001b[1;33m \u001b[0mplt\u001b[0m\u001b[1;33m.\u001b[0m\u001b[0msavefig\u001b[0m\u001b[1;33m(\u001b[0m\u001b[1;34m'LDAG.jpg'\u001b[0m\u001b[1;33m)\u001b[0m\u001b[1;33m\u001b[0m\u001b[1;33m\u001b[0m\u001b[0m\n\u001b[0m",
      "\u001b[1;31mAttributeError\u001b[0m: 'NoneType' object has no attribute 'savefig'"
     ]
    }
   ],
   "source": [
    "import matplotlib.pyplot as plt\n",
    "\n",
    "plt=find_optimal_number_of_topics(dc,corpus,ref['token_1'])\n",
    "plt.savefig('LDAG.jpg')"
   ]
  },
  {
   "cell_type": "code",
   "execution_count": 24,
   "id": "a2d9f265",
   "metadata": {},
   "outputs": [
    {
     "name": "stderr",
     "output_type": "stream",
     "text": [
      "C:\\Users\\pthdu\\anaconda3\\envs\\nltk\\lib\\site-packages\\ipykernel\\ipkernel.py:287: DeprecationWarning: `should_run_async` will not call `transform_cell` automatically in the future. Please pass the result to `transformed_cell` argument and any exception that happen during thetransform in `preprocessing_exc_tuple` in IPython 7.17 and above.\n",
      "  and should_run_async(code)\n"
     ]
    }
   ],
   "source": [
    "import gensim\n",
    "from gensim.models.ldamodel import LdaModel\n",
    "\n",
    "lda_model_1=gensim.models.ldamodel.LdaModel(corpus=corpus,id2word=dc,num_topics=8,iterations=50,update_every=1,eval_every=1,chunksize=100,per_word_topics=True,alpha='auto',passes=10)\n",
    "lda_model_2=gensim.models.ldamodel.LdaModel(corpus=corpus,id2word=dc,num_topics=9,iterations=50,update_every=1,eval_every=1,chunksize=100,per_word_topics=True,alpha='auto',passes=10)"
   ]
  },
  {
   "cell_type": "code",
   "execution_count": 25,
   "id": "25ea3d3c",
   "metadata": {},
   "outputs": [
    {
     "name": "stderr",
     "output_type": "stream",
     "text": [
      "C:\\Users\\pthdu\\anaconda3\\envs\\nltk\\lib\\site-packages\\ipykernel\\ipkernel.py:287: DeprecationWarning: `should_run_async` will not call `transform_cell` automatically in the future. Please pass the result to `transformed_cell` argument and any exception that happen during thetransform in `preprocessing_exc_tuple` in IPython 7.17 and above.\n",
      "  and should_run_async(code)\n"
     ]
    },
    {
     "name": "stdout",
     "output_type": "stream",
     "text": [
      "Perplexity_good:  -7.9213516489192\n",
      "\n",
      "Perplexity_bad:  -8.025052976210185\n"
     ]
    }
   ],
   "source": [
    "print('Perplexity_good: ', lda_model_1.log_perplexity(corpus))\n",
    "print('\\nPerplexity_bad: ', lda_model_2.log_perplexity(corpus))"
   ]
  },
  {
   "cell_type": "code",
   "execution_count": 26,
   "id": "c8ee23a0",
   "metadata": {},
   "outputs": [
    {
     "name": "stderr",
     "output_type": "stream",
     "text": [
      "C:\\Users\\pthdu\\anaconda3\\envs\\nltk\\lib\\site-packages\\ipykernel\\ipkernel.py:287: DeprecationWarning: `should_run_async` will not call `transform_cell` automatically in the future. Please pass the result to `transformed_cell` argument and any exception that happen during thetransform in `preprocessing_exc_tuple` in IPython 7.17 and above.\n",
      "  and should_run_async(code)\n"
     ]
    },
    {
     "name": "stdout",
     "output_type": "stream",
     "text": [
      "\n",
      "Coherence Score_1:  0.35695982397356496\n",
      "\n",
      "Coherence Score_2:  0.3799545851360848\n"
     ]
    }
   ],
   "source": [
    "from gensim.models import CoherenceModel\n",
    "coherence_model_lda = CoherenceModel(model=lda_model_1, texts=ref['token_1'], dictionary=dc, coherence='c_v')\n",
    "coherence_lda = coherence_model_lda.get_coherence()\n",
    "print('\\nCoherence Score_1: ', coherence_lda)\n",
    "coherence_model_lda = CoherenceModel(model=lda_model_2, texts=ref['token_1'], dictionary=dc, coherence='c_v')\n",
    "coherence_lda = coherence_model_lda.get_coherence()\n",
    "print('\\nCoherence Score_2: ', coherence_lda)"
   ]
  },
  {
   "cell_type": "code",
   "execution_count": 27,
   "id": "f06c6905",
   "metadata": {},
   "outputs": [
    {
     "name": "stderr",
     "output_type": "stream",
     "text": [
      "C:\\Users\\pthdu\\anaconda3\\envs\\nltk\\lib\\site-packages\\ipykernel\\ipkernel.py:287: DeprecationWarning: `should_run_async` will not call `transform_cell` automatically in the future. Please pass the result to `transformed_cell` argument and any exception that happen during thetransform in `preprocessing_exc_tuple` in IPython 7.17 and above.\n",
      "  and should_run_async(code)\n"
     ]
    }
   ],
   "source": [
    "import pyLDAvis.gensim_models\n",
    "pyLDAvis.enable_notebook()\n",
    "vis=pyLDAvis.gensim_models.prepare(lda_model_1,corpus,dc)\n",
    "#pyLDAvis.display(vis)\n",
    "pyLDAvis.save_html(vis,'test8.html')"
   ]
  },
  {
   "cell_type": "code",
   "execution_count": 28,
   "id": "2d1a25b7",
   "metadata": {},
   "outputs": [
    {
     "name": "stderr",
     "output_type": "stream",
     "text": [
      "C:\\Users\\pthdu\\anaconda3\\envs\\nltk\\lib\\site-packages\\ipykernel\\ipkernel.py:287: DeprecationWarning: `should_run_async` will not call `transform_cell` automatically in the future. Please pass the result to `transformed_cell` argument and any exception that happen during thetransform in `preprocessing_exc_tuple` in IPython 7.17 and above.\n",
      "  and should_run_async(code)\n"
     ]
    }
   ],
   "source": [
    "import pyLDAvis.gensim_models\n",
    "pyLDAvis.enable_notebook()\n",
    "vis=pyLDAvis.gensim_models.prepare(lda_model_2,corpus,dc)\n",
    "pyLDAvis.save_html(vis,'test9.html')\n"
   ]
  },
  {
   "cell_type": "code",
   "execution_count": null,
   "id": "367bbacb",
   "metadata": {},
   "outputs": [],
   "source": []
  }
 ],
 "metadata": {
  "kernelspec": {
   "display_name": "Python 3",
   "language": "python",
   "name": "python3"
  },
  "language_info": {
   "codemirror_mode": {
    "name": "ipython",
    "version": 3
   },
   "file_extension": ".py",
   "mimetype": "text/x-python",
   "name": "python",
   "nbconvert_exporter": "python",
   "pygments_lexer": "ipython3",
   "version": "3.7.10"
  }
 },
 "nbformat": 4,
 "nbformat_minor": 5
}
