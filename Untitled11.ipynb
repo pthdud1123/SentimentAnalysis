{
  "nbformat": 4,
  "nbformat_minor": 0,
  "metadata": {
    "colab": {
      "name": "Untitled11.ipynb",
      "private_outputs": true,
      "provenance": [],
      "collapsed_sections": [],
      "authorship_tag": "ABX9TyOJVY3pQGp84NS5WTbe8es7",
      "include_colab_link": true
    },
    "kernelspec": {
      "name": "python3",
      "display_name": "Python 3"
    },
    "language_info": {
      "name": "python"
    },
    "accelerator": "GPU"
  },
  "cells": [
    {
      "cell_type": "markdown",
      "metadata": {
        "id": "view-in-github",
        "colab_type": "text"
      },
      "source": [
        "<a href=\"https://colab.research.google.com/github/pthdud1123/SentimentAnalysis/blob/main/Untitled11.ipynb\" target=\"_parent\"><img src=\"https://colab.research.google.com/assets/colab-badge.svg\" alt=\"Open In Colab\"/></a>"
      ]
    },
    {
      "cell_type": "code",
      "execution_count": null,
      "metadata": {
        "id": "Z11U7i5qUQyc"
      },
      "outputs": [],
      "source": [
        "from google.colab import files\n",
        "from google.colab import drive"
      ]
    },
    {
      "cell_type": "code",
      "source": [
        "drive.mount('/content/drive')"
      ],
      "metadata": {
        "id": "NM-jeD8GUwGw"
      },
      "execution_count": null,
      "outputs": []
    },
    {
      "cell_type": "code",
      "source": [
        "cd /content/drive/MyDrive"
      ],
      "metadata": {
        "id": "I55dKsljUzUt"
      },
      "execution_count": null,
      "outputs": []
    },
    {
      "cell_type": "code",
      "source": [
        "import pandas as pd\n",
        "df=pd.read_csv('/content/drive/MyDrive/Data.csv')"
      ],
      "metadata": {
        "id": "4ezVzp-7U4GD"
      },
      "execution_count": null,
      "outputs": []
    },
    {
      "cell_type": "markdown",
      "source": [
        "# 읽은 데이터 앞부분만 확인"
      ],
      "metadata": {
        "id": "P2wBMFG2VDGe"
      }
    },
    {
      "cell_type": "code",
      "source": [
        "df.head()"
      ],
      "metadata": {
        "id": "gCeu0cp-VBx0"
      },
      "execution_count": null,
      "outputs": []
    },
    {
      "cell_type": "markdown",
      "source": [
        "# 행 열 전환"
      ],
      "metadata": {
        "id": "9QNrnE_OVRwQ"
      }
    },
    {
      "cell_type": "code",
      "source": [
        "d=df.transpose()\n",
        "d.head()"
      ],
      "metadata": {
        "id": "3w6gIQnEV_dZ"
      },
      "execution_count": null,
      "outputs": []
    },
    {
      "cell_type": "code",
      "source": [
        "d=d.drop(['number'],axis=0)\n",
        "d.head()"
      ],
      "metadata": {
        "id": "7RLOvHmt74pp"
      },
      "execution_count": null,
      "outputs": []
    },
    {
      "cell_type": "code",
      "source": [
        "d.rename(columns={0:'imagepattern',4:'answer'},inplace=True)\n",
        "d.head()"
      ],
      "metadata": {
        "id": "gsR3_LwY_IAD"
      },
      "execution_count": null,
      "outputs": []
    },
    {
      "cell_type": "markdown",
      "source": [
        "# DATA와 TARGET나누기"
      ],
      "metadata": {
        "id": "wSbHZldjAB83"
      }
    },
    {
      "cell_type": "code",
      "source": [
        "Data=d[['imagepattern',1,2,3]]\n",
        "Target=d[['answer']]"
      ],
      "metadata": {
        "id": "oJXGLtF3_22b"
      },
      "execution_count": null,
      "outputs": []
    },
    {
      "cell_type": "markdown",
      "source": [
        "# DATA 전처리\n"
      ],
      "metadata": {
        "id": "EVCEIGC3W1xD"
      }
    },
    {
      "cell_type": "code",
      "source": [
        "#결측값 제거\n",
        "data=Data.dropna(axis=0)\n",
        "target=Target.dropna(axis=0)\n",
        "data.head()\n",
        "target.head()"
      ],
      "metadata": {
        "id": "DQROrbcjVI68"
      },
      "execution_count": null,
      "outputs": []
    },
    {
      "cell_type": "code",
      "source": [
        "# array 형태로 변환\n",
        "dataset_data=data.values\n",
        "dataset_target=target.values\n",
        "dataset_data"
      ],
      "metadata": {
        "id": "YjdcN5QzVdtw"
      },
      "execution_count": null,
      "outputs": []
    },
    {
      "cell_type": "code",
      "source": [
        "# dataset_data 2차원형태로 변환 # 모델 입력 받는 것에 따라 다른 차원으로 변경 가\n",
        "data=dataset_data.reshape(64,-1)\n",
        "target=dataset_target.reshape(64,-1)"
      ],
      "metadata": {
        "id": "thWSeWqidiJ-"
      },
      "execution_count": null,
      "outputs": []
    },
    {
      "cell_type": "markdown",
      "source": [
        "# 훈련/검증 데이터 생성"
      ],
      "metadata": {
        "id": "KCpWgiuYuRpr"
      }
    },
    {
      "cell_type": "code",
      "source": [
        "from sklearn.model_selection import train_test_split\n",
        "train_input,test_input,train_target,test_target=train_test_split(data,target)"
      ],
      "metadata": {
        "id": "M1nzj9Y5uFD1"
      },
      "execution_count": null,
      "outputs": []
    },
    {
      "cell_type": "code",
      "source": [
        "train_target"
      ],
      "metadata": {
        "id": "AHXlXuM5uoBu"
      },
      "execution_count": null,
      "outputs": []
    },
    {
      "cell_type": "markdown",
      "source": [
        "# model 생성"
      ],
      "metadata": {
        "id": "IkWSXxJx69BJ"
      }
    },
    {
      "cell_type": "code",
      "source": [
        ""
      ],
      "metadata": {
        "id": "oDAlPBPE6L56"
      },
      "execution_count": null,
      "outputs": []
    }
  ]
}