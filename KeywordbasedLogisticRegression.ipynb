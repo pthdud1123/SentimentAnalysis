{
 "cells": [
  {
   "cell_type": "code",
   "execution_count": 1,
   "id": "7ebafaa5",
   "metadata": {},
   "outputs": [],
   "source": [
    "import numpy as np\n",
    "import pandas as pd\n",
    "import konlpy \n",
    "from konlpy.tag import Mecab\n",
    "import matplotlib as plt\n",
    "import re\n",
    "from tqdm import tqdm\n",
    "from soykeyword.proportion import CorpusbasedKeywordExtractor"
   ]
  },
  {
   "cell_type": "code",
   "execution_count": 2,
   "id": "f773062f",
   "metadata": {},
   "outputs": [
    {
     "data": {
      "text/html": [
       "<div>\n",
       "<style scoped>\n",
       "    .dataframe tbody tr th:only-of-type {\n",
       "        vertical-align: middle;\n",
       "    }\n",
       "\n",
       "    .dataframe tbody tr th {\n",
       "        vertical-align: top;\n",
       "    }\n",
       "\n",
       "    .dataframe thead th {\n",
       "        text-align: right;\n",
       "    }\n",
       "</style>\n",
       "<table border=\"1\" class=\"dataframe\">\n",
       "  <thead>\n",
       "    <tr style=\"text-align: right;\">\n",
       "      <th></th>\n",
       "      <th>space</th>\n",
       "      <th>type</th>\n",
       "      <th>language</th>\n",
       "      <th>day</th>\n",
       "      <th>text</th>\n",
       "      <th>score</th>\n",
       "    </tr>\n",
       "  </thead>\n",
       "  <tbody>\n",
       "    <tr>\n",
       "      <th>0</th>\n",
       "      <td>힐스파</td>\n",
       "      <td>체험</td>\n",
       "      <td>한국어</td>\n",
       "      <td>201702</td>\n",
       "      <td>경치 최고 찜질방에서 하루 숙박했습니다. 달맞이길 윗쪽에 위치해서 해운대 일대가 한...</td>\n",
       "      <td>5</td>\n",
       "    </tr>\n",
       "    <tr>\n",
       "      <th>1</th>\n",
       "      <td>힐스파</td>\n",
       "      <td>체험</td>\n",
       "      <td>한국어</td>\n",
       "      <td>201711</td>\n",
       "      <td>경치가 좋은 스파 너무 좋아요. 해운대 바다가 보이는 스파라서 스파하는동안 기분이 ...</td>\n",
       "      <td>5</td>\n",
       "    </tr>\n",
       "    <tr>\n",
       "      <th>2</th>\n",
       "      <td>힐스파</td>\n",
       "      <td>체험</td>\n",
       "      <td>한국어</td>\n",
       "      <td>201710</td>\n",
       "      <td>여독풀기 좋은 장소 하루 종일 여행 후 피로를 녹이기 좋은 장소. 주차도 잘 됩니다...</td>\n",
       "      <td>4</td>\n",
       "    </tr>\n",
       "    <tr>\n",
       "      <th>3</th>\n",
       "      <td>힐스파</td>\n",
       "      <td>체험</td>\n",
       "      <td>한국어</td>\n",
       "      <td>201602</td>\n",
       "      <td>달맞이 고개의 훌륭한 목욕탕 달맞이 고개에 자리하고 있으며, 고지대에 위치한 덕분에...</td>\n",
       "      <td>5</td>\n",
       "    </tr>\n",
       "    <tr>\n",
       "      <th>4</th>\n",
       "      <td>힐스파</td>\n",
       "      <td>체험</td>\n",
       "      <td>한국어</td>\n",
       "      <td>201504</td>\n",
       "      <td>해운대 달맞이고개의 찜질방. 찜질하는 찜질방입니다. 스파도 같이 운영합니다. 방문객...</td>\n",
       "      <td>3</td>\n",
       "    </tr>\n",
       "  </tbody>\n",
       "</table>\n",
       "</div>"
      ],
      "text/plain": [
       "  space type language     day  \\\n",
       "0   힐스파   체험      한국어  201702   \n",
       "1   힐스파   체험      한국어  201711   \n",
       "2   힐스파   체험      한국어  201710   \n",
       "3   힐스파   체험      한국어  201602   \n",
       "4   힐스파   체험      한국어  201504   \n",
       "\n",
       "                                                text score  \n",
       "0  경치 최고 찜질방에서 하루 숙박했습니다. 달맞이길 윗쪽에 위치해서 해운대 일대가 한...     5  \n",
       "1  경치가 좋은 스파 너무 좋아요. 해운대 바다가 보이는 스파라서 스파하는동안 기분이 ...     5  \n",
       "2  여독풀기 좋은 장소 하루 종일 여행 후 피로를 녹이기 좋은 장소. 주차도 잘 됩니다...     4  \n",
       "3  달맞이 고개의 훌륭한 목욕탕 달맞이 고개에 자리하고 있으며, 고지대에 위치한 덕분에...     5  \n",
       "4  해운대 달맞이고개의 찜질방. 찜질하는 찜질방입니다. 스파도 같이 운영합니다. 방문객...     3  "
      ]
     },
     "execution_count": 2,
     "metadata": {},
     "output_type": "execute_result"
    }
   ],
   "source": [
    "ref=pd.read_csv(\"attraction_all_translate.csv\",encoding='utf-8')\n",
    "\n",
    "ref=ref.drop([ref.columns[6],ref.columns[7],ref.columns[8]], axis=1)\n",
    "ref.head()\n"
   ]
  },
  {
   "cell_type": "code",
   "execution_count": 3,
   "id": "a2db9e38",
   "metadata": {},
   "outputs": [
    {
     "name": "stderr",
     "output_type": "stream",
     "text": [
      "C:\\Users\\pthdu\\anaconda3\\envs\\nltk\\lib\\site-packages\\ipykernel_launcher.py:3: SettingWithCopyWarning: \n",
      "A value is trying to be set on a copy of a slice from a DataFrame\n",
      "\n",
      "See the caveats in the documentation: https://pandas.pydata.org/pandas-docs/stable/user_guide/indexing.html#returning-a-view-versus-a-copy\n",
      "  This is separate from the ipykernel package so we can avoid doing imports until\n",
      "C:\\Users\\pthdu\\anaconda3\\envs\\nltk\\lib\\site-packages\\ipykernel_launcher.py:5: SettingWithCopyWarning: \n",
      "A value is trying to be set on a copy of a slice from a DataFrame\n",
      "\n",
      "See the caveats in the documentation: https://pandas.pydata.org/pandas-docs/stable/user_guide/indexing.html#returning-a-view-versus-a-copy\n",
      "  \"\"\"\n"
     ]
    }
   ],
   "source": [
    "for index,row in ref.iterrows():\n",
    "    if ref['score'][index]==\"5\" or ref['score'][index]==\"4\":\n",
    "        ref['score'][index]=1\n",
    "    else:\n",
    "        ref['score'][index]=0"
   ]
  },
  {
   "cell_type": "code",
   "execution_count": 4,
   "id": "3b76d2ed",
   "metadata": {},
   "outputs": [
    {
     "data": {
      "text/html": [
       "<div>\n",
       "<style scoped>\n",
       "    .dataframe tbody tr th:only-of-type {\n",
       "        vertical-align: middle;\n",
       "    }\n",
       "\n",
       "    .dataframe tbody tr th {\n",
       "        vertical-align: top;\n",
       "    }\n",
       "\n",
       "    .dataframe thead th {\n",
       "        text-align: right;\n",
       "    }\n",
       "</style>\n",
       "<table border=\"1\" class=\"dataframe\">\n",
       "  <thead>\n",
       "    <tr style=\"text-align: right;\">\n",
       "      <th></th>\n",
       "      <th>space</th>\n",
       "      <th>type</th>\n",
       "      <th>language</th>\n",
       "      <th>day</th>\n",
       "      <th>text</th>\n",
       "      <th>score</th>\n",
       "    </tr>\n",
       "  </thead>\n",
       "  <tbody>\n",
       "    <tr>\n",
       "      <th>0</th>\n",
       "      <td>힐스파</td>\n",
       "      <td>체험</td>\n",
       "      <td>한국어</td>\n",
       "      <td>201702</td>\n",
       "      <td>경치 최고 찜질방에서 하루 숙박했습니다. 달맞이길 윗쪽에 위치해서 해운대 일대가 한...</td>\n",
       "      <td>1</td>\n",
       "    </tr>\n",
       "    <tr>\n",
       "      <th>1</th>\n",
       "      <td>힐스파</td>\n",
       "      <td>체험</td>\n",
       "      <td>한국어</td>\n",
       "      <td>201711</td>\n",
       "      <td>경치가 좋은 스파 너무 좋아요. 해운대 바다가 보이는 스파라서 스파하는동안 기분이 ...</td>\n",
       "      <td>1</td>\n",
       "    </tr>\n",
       "    <tr>\n",
       "      <th>2</th>\n",
       "      <td>힐스파</td>\n",
       "      <td>체험</td>\n",
       "      <td>한국어</td>\n",
       "      <td>201710</td>\n",
       "      <td>여독풀기 좋은 장소 하루 종일 여행 후 피로를 녹이기 좋은 장소. 주차도 잘 됩니다...</td>\n",
       "      <td>1</td>\n",
       "    </tr>\n",
       "    <tr>\n",
       "      <th>3</th>\n",
       "      <td>힐스파</td>\n",
       "      <td>체험</td>\n",
       "      <td>한국어</td>\n",
       "      <td>201602</td>\n",
       "      <td>달맞이 고개의 훌륭한 목욕탕 달맞이 고개에 자리하고 있으며, 고지대에 위치한 덕분에...</td>\n",
       "      <td>1</td>\n",
       "    </tr>\n",
       "    <tr>\n",
       "      <th>4</th>\n",
       "      <td>힐스파</td>\n",
       "      <td>체험</td>\n",
       "      <td>한국어</td>\n",
       "      <td>201504</td>\n",
       "      <td>해운대 달맞이고개의 찜질방. 찜질하는 찜질방입니다. 스파도 같이 운영합니다. 방문객...</td>\n",
       "      <td>0</td>\n",
       "    </tr>\n",
       "  </tbody>\n",
       "</table>\n",
       "</div>"
      ],
      "text/plain": [
       "  space type language     day  \\\n",
       "0   힐스파   체험      한국어  201702   \n",
       "1   힐스파   체험      한국어  201711   \n",
       "2   힐스파   체험      한국어  201710   \n",
       "3   힐스파   체험      한국어  201602   \n",
       "4   힐스파   체험      한국어  201504   \n",
       "\n",
       "                                                text score  \n",
       "0  경치 최고 찜질방에서 하루 숙박했습니다. 달맞이길 윗쪽에 위치해서 해운대 일대가 한...     1  \n",
       "1  경치가 좋은 스파 너무 좋아요. 해운대 바다가 보이는 스파라서 스파하는동안 기분이 ...     1  \n",
       "2  여독풀기 좋은 장소 하루 종일 여행 후 피로를 녹이기 좋은 장소. 주차도 잘 됩니다...     1  \n",
       "3  달맞이 고개의 훌륭한 목욕탕 달맞이 고개에 자리하고 있으며, 고지대에 위치한 덕분에...     1  \n",
       "4  해운대 달맞이고개의 찜질방. 찜질하는 찜질방입니다. 스파도 같이 운영합니다. 방문객...     0  "
      ]
     },
     "execution_count": 4,
     "metadata": {},
     "output_type": "execute_result"
    }
   ],
   "source": [
    "ref.head()"
   ]
  },
  {
   "cell_type": "code",
   "execution_count": 5,
   "id": "99b27d03",
   "metadata": {},
   "outputs": [
    {
     "name": "stderr",
     "output_type": "stream",
     "text": [
      "C:\\Users\\pthdu\\anaconda3\\envs\\nltk\\lib\\site-packages\\ipykernel_launcher.py:4: SettingWithCopyWarning: \n",
      "A value is trying to be set on a copy of a slice from a DataFrame\n",
      "\n",
      "See the caveats in the documentation: https://pandas.pydata.org/pandas-docs/stable/user_guide/indexing.html#returning-a-view-versus-a-copy\n",
      "  after removing the cwd from sys.path.\n"
     ]
    },
    {
     "data": {
      "text/html": [
       "<div>\n",
       "<style scoped>\n",
       "    .dataframe tbody tr th:only-of-type {\n",
       "        vertical-align: middle;\n",
       "    }\n",
       "\n",
       "    .dataframe tbody tr th {\n",
       "        vertical-align: top;\n",
       "    }\n",
       "\n",
       "    .dataframe thead th {\n",
       "        text-align: right;\n",
       "    }\n",
       "</style>\n",
       "<table border=\"1\" class=\"dataframe\">\n",
       "  <thead>\n",
       "    <tr style=\"text-align: right;\">\n",
       "      <th></th>\n",
       "      <th>space</th>\n",
       "      <th>type</th>\n",
       "      <th>language</th>\n",
       "      <th>day</th>\n",
       "      <th>text</th>\n",
       "      <th>score</th>\n",
       "      <th>token</th>\n",
       "    </tr>\n",
       "  </thead>\n",
       "  <tbody>\n",
       "    <tr>\n",
       "      <th>0</th>\n",
       "      <td>힐스파</td>\n",
       "      <td>체험</td>\n",
       "      <td>한국어</td>\n",
       "      <td>201702</td>\n",
       "      <td>경치 최고 찜질방에서 하루 숙박했습니다 달맞이길 윗쪽에 위치해서 해운대 일대가 한눈...</td>\n",
       "      <td>1</td>\n",
       "      <td>[(경치, NNG), (최고, NNG), (찜질방, NNG), (에서, JKB), ...</td>\n",
       "    </tr>\n",
       "    <tr>\n",
       "      <th>1</th>\n",
       "      <td>힐스파</td>\n",
       "      <td>체험</td>\n",
       "      <td>한국어</td>\n",
       "      <td>201711</td>\n",
       "      <td>경치가 좋은 스파 너무 좋아요 해운대 바다가 보이는 스파라서 스파하는동안 기분이 좋...</td>\n",
       "      <td>1</td>\n",
       "      <td>[(경치, NNG), (가, JKS), (좋, VA), (은, ETM), (스파, ...</td>\n",
       "    </tr>\n",
       "    <tr>\n",
       "      <th>2</th>\n",
       "      <td>힐스파</td>\n",
       "      <td>체험</td>\n",
       "      <td>한국어</td>\n",
       "      <td>201710</td>\n",
       "      <td>여독풀기 좋은 장소 하루 종일 여행 후 피로를 녹이기 좋은 장소 주차도 잘 됩니다 ...</td>\n",
       "      <td>1</td>\n",
       "      <td>[(여독, NNG), (풀, VV), (기, ETN), (좋, VA), (은, ET...</td>\n",
       "    </tr>\n",
       "    <tr>\n",
       "      <th>3</th>\n",
       "      <td>힐스파</td>\n",
       "      <td>체험</td>\n",
       "      <td>한국어</td>\n",
       "      <td>201602</td>\n",
       "      <td>달맞이 고개의 훌륭한 목욕탕 달맞이 고개에 자리하고 있으며 고지대에 위치한 덕분에 ...</td>\n",
       "      <td>1</td>\n",
       "      <td>[(달맞이, NNG), (고개, NNG), (의, JKG), (훌륭, XR), (한...</td>\n",
       "    </tr>\n",
       "    <tr>\n",
       "      <th>4</th>\n",
       "      <td>힐스파</td>\n",
       "      <td>체험</td>\n",
       "      <td>한국어</td>\n",
       "      <td>201504</td>\n",
       "      <td>해운대 달맞이고개의 찜질방 찜질하는 찜질방입니다 스파도 같이 운영합니다 방문객이 많...</td>\n",
       "      <td>0</td>\n",
       "      <td>[(해운대, NNG), (달맞이, NNG), (고개, NNG), (의, JKG), ...</td>\n",
       "    </tr>\n",
       "  </tbody>\n",
       "</table>\n",
       "</div>"
      ],
      "text/plain": [
       "  space type language     day  \\\n",
       "0   힐스파   체험      한국어  201702   \n",
       "1   힐스파   체험      한국어  201711   \n",
       "2   힐스파   체험      한국어  201710   \n",
       "3   힐스파   체험      한국어  201602   \n",
       "4   힐스파   체험      한국어  201504   \n",
       "\n",
       "                                                text score  \\\n",
       "0  경치 최고 찜질방에서 하루 숙박했습니다 달맞이길 윗쪽에 위치해서 해운대 일대가 한눈...     1   \n",
       "1  경치가 좋은 스파 너무 좋아요 해운대 바다가 보이는 스파라서 스파하는동안 기분이 좋...     1   \n",
       "2  여독풀기 좋은 장소 하루 종일 여행 후 피로를 녹이기 좋은 장소 주차도 잘 됩니다 ...     1   \n",
       "3  달맞이 고개의 훌륭한 목욕탕 달맞이 고개에 자리하고 있으며 고지대에 위치한 덕분에 ...     1   \n",
       "4  해운대 달맞이고개의 찜질방 찜질하는 찜질방입니다 스파도 같이 운영합니다 방문객이 많...     0   \n",
       "\n",
       "                                               token  \n",
       "0  [(경치, NNG), (최고, NNG), (찜질방, NNG), (에서, JKB), ...  \n",
       "1  [(경치, NNG), (가, JKS), (좋, VA), (은, ETM), (스파, ...  \n",
       "2  [(여독, NNG), (풀, VV), (기, ETN), (좋, VA), (은, ET...  \n",
       "3  [(달맞이, NNG), (고개, NNG), (의, JKG), (훌륭, XR), (한...  \n",
       "4  [(해운대, NNG), (달맞이, NNG), (고개, NNG), (의, JKG), ...  "
      ]
     },
     "execution_count": 5,
     "metadata": {},
     "output_type": "execute_result"
    }
   ],
   "source": [
    "mecab=Mecab(dicpath=\"C:\\mecab\\mecab-ko-dic\")\n",
    "\n",
    "for index, row in ref.iterrows():\n",
    "    ref['text'][index]=re.sub('[-=+,#/\\?:^$.@*\\\"※~&%ㆍ!』\\\\‘|\\(\\)\\[\\]\\<\\>`\\'…》;]', '',ref['text'][index])\n",
    "\n",
    "ref['token']=ref['text'].apply(mecab.pos)\n",
    "ref.head()"
   ]
  },
  {
   "cell_type": "code",
   "execution_count": 12,
   "id": "aa0fdcd6",
   "metadata": {
    "scrolled": true
   },
   "outputs": [
    {
     "name": "stderr",
     "output_type": "stream",
     "text": [
      "0it [00:00, ?it/s]C:\\Users\\pthdu\\anaconda3\\envs\\nltk\\lib\\site-packages\\ipykernel_launcher.py:12: SettingWithCopyWarning: \n",
      "A value is trying to be set on a copy of a slice from a DataFrame\n",
      "\n",
      "See the caveats in the documentation: https://pandas.pydata.org/pandas-docs/stable/user_guide/indexing.html#returning-a-view-versus-a-copy\n",
      "  if sys.path[0] == '':\n",
      "C:\\Users\\pthdu\\anaconda3\\envs\\nltk\\lib\\site-packages\\pandas\\core\\indexing.py:1637: SettingWithCopyWarning: \n",
      "A value is trying to be set on a copy of a slice from a DataFrame\n",
      "\n",
      "See the caveats in the documentation: https://pandas.pydata.org/pandas-docs/stable/user_guide/indexing.html#returning-a-view-versus-a-copy\n",
      "  self._setitem_single_block(indexer, value, name)\n",
      "140it [00:00, 673.56it/s]"
     ]
    },
    {
     "name": "stdout",
     "output_type": "stream",
     "text": [
      "복잡\n",
      "복잡\n",
      "복잡\n"
     ]
    },
    {
     "name": "stderr",
     "output_type": "stream",
     "text": [
      "\r",
      "208it [00:00, 546.95it/s]"
     ]
    },
    {
     "name": "stdout",
     "output_type": "stream",
     "text": [
      "복잡\n",
      "복잡\n",
      "복잡\n"
     ]
    },
    {
     "name": "stderr",
     "output_type": "stream",
     "text": [
      "506it [00:00, 576.97it/s]"
     ]
    },
    {
     "name": "stdout",
     "output_type": "stream",
     "text": [
      "복잡\n",
      "복잡\n",
      "복잡\n",
      "복잡\n"
     ]
    },
    {
     "name": "stderr",
     "output_type": "stream",
     "text": [
      "1965it [00:03, 491.54it/s]"
     ]
    },
    {
     "name": "stdout",
     "output_type": "stream",
     "text": [
      "복잡\n"
     ]
    },
    {
     "name": "stderr",
     "output_type": "stream",
     "text": [
      "3187it [00:05, 920.60it/s]"
     ]
    },
    {
     "name": "stdout",
     "output_type": "stream",
     "text": [
      "복잡\n",
      "복잡\n",
      "복잡\n",
      "복잡\n",
      "복잡\n",
      "복잡\n",
      "복잡\n",
      "복잡\n",
      "복잡\n"
     ]
    },
    {
     "name": "stderr",
     "output_type": "stream",
     "text": [
      "3862it [00:06, 731.09it/s]"
     ]
    },
    {
     "name": "stdout",
     "output_type": "stream",
     "text": [
      "복잡\n",
      "복잡\n"
     ]
    },
    {
     "name": "stderr",
     "output_type": "stream",
     "text": [
      "4070it [00:06, 569.10it/s]"
     ]
    },
    {
     "name": "stdout",
     "output_type": "stream",
     "text": [
      "복잡\n"
     ]
    },
    {
     "name": "stderr",
     "output_type": "stream",
     "text": [
      "4865it [00:08, 513.39it/s]"
     ]
    },
    {
     "name": "stdout",
     "output_type": "stream",
     "text": [
      "복잡\n"
     ]
    },
    {
     "name": "stderr",
     "output_type": "stream",
     "text": [
      "5264it [00:08, 569.43it/s]"
     ]
    },
    {
     "name": "stdout",
     "output_type": "stream",
     "text": [
      "복잡\n"
     ]
    },
    {
     "name": "stderr",
     "output_type": "stream",
     "text": [
      "5774it [00:09, 549.33it/s]"
     ]
    },
    {
     "name": "stdout",
     "output_type": "stream",
     "text": [
      "복잡\n"
     ]
    },
    {
     "name": "stderr",
     "output_type": "stream",
     "text": [
      "6108it [00:10, 545.63it/s]"
     ]
    },
    {
     "name": "stdout",
     "output_type": "stream",
     "text": [
      "복잡\n"
     ]
    },
    {
     "name": "stderr",
     "output_type": "stream",
     "text": [
      "6951it [00:11, 541.26it/s]"
     ]
    },
    {
     "name": "stdout",
     "output_type": "stream",
     "text": [
      "복잡\n",
      "복잡\n",
      "복잡\n",
      "복잡\n",
      "복잡\n",
      "복잡\n",
      "복잡\n",
      "복잡\n",
      "복잡\n"
     ]
    },
    {
     "name": "stderr",
     "output_type": "stream",
     "text": [
      "7183it [00:12, 551.77it/s]"
     ]
    },
    {
     "name": "stdout",
     "output_type": "stream",
     "text": [
      "복잡\n",
      "복잡\n",
      "복잡\n"
     ]
    },
    {
     "name": "stderr",
     "output_type": "stream",
     "text": [
      "8570it [00:14, 521.63it/s]"
     ]
    },
    {
     "name": "stdout",
     "output_type": "stream",
     "text": [
      "복잡\n",
      "복잡\n",
      "복잡\n",
      "복잡\n",
      "복잡\n",
      "복잡\n",
      "복잡\n",
      "복잡\n",
      "복잡\n"
     ]
    },
    {
     "name": "stderr",
     "output_type": "stream",
     "text": [
      "8681it [00:15, 513.26it/s]"
     ]
    },
    {
     "name": "stdout",
     "output_type": "stream",
     "text": [
      "복잡\n",
      "복잡\n"
     ]
    },
    {
     "name": "stderr",
     "output_type": "stream",
     "text": [
      "8893it [00:15, 513.60it/s]"
     ]
    },
    {
     "name": "stdout",
     "output_type": "stream",
     "text": [
      "복잡\n"
     ]
    },
    {
     "name": "stderr",
     "output_type": "stream",
     "text": [
      "9120it [00:15, 550.39it/s]"
     ]
    },
    {
     "name": "stdout",
     "output_type": "stream",
     "text": [
      "복잡\n"
     ]
    },
    {
     "name": "stderr",
     "output_type": "stream",
     "text": [
      "9870it [00:17, 545.50it/s]"
     ]
    },
    {
     "name": "stdout",
     "output_type": "stream",
     "text": [
      "복잡\n",
      "복잡\n"
     ]
    },
    {
     "name": "stderr",
     "output_type": "stream",
     "text": [
      "10213it [00:17, 559.58it/s]"
     ]
    },
    {
     "name": "stdout",
     "output_type": "stream",
     "text": [
      "복잡\n",
      "복잡\n",
      "복잡\n",
      "복잡\n",
      "복잡\n",
      "복잡\n",
      "복잡\n"
     ]
    },
    {
     "name": "stderr",
     "output_type": "stream",
     "text": [
      "10449it [00:18, 556.77it/s]"
     ]
    },
    {
     "name": "stdout",
     "output_type": "stream",
     "text": [
      "복잡\n",
      "복잡\n",
      "복잡\n",
      "복잡\n",
      "복잡\n"
     ]
    },
    {
     "name": "stderr",
     "output_type": "stream",
     "text": [
      "10729it [00:18, 541.06it/s]"
     ]
    },
    {
     "name": "stdout",
     "output_type": "stream",
     "text": [
      "복잡\n",
      "복잡\n"
     ]
    },
    {
     "name": "stderr",
     "output_type": "stream",
     "text": [
      "10839it [00:19, 528.81it/s]"
     ]
    },
    {
     "name": "stdout",
     "output_type": "stream",
     "text": [
      "복잡\n",
      "복잡\n",
      "복잡\n",
      "복잡\n",
      "복잡\n",
      "복잡"
     ]
    },
    {
     "name": "stderr",
     "output_type": "stream",
     "text": [
      "10999it [00:19, 520.38it/s]"
     ]
    },
    {
     "name": "stdout",
     "output_type": "stream",
     "text": [
      "\n",
      "복잡\n",
      "복잡\n",
      "복잡\n",
      "복잡\n",
      "복잡\n"
     ]
    },
    {
     "name": "stderr",
     "output_type": "stream",
     "text": [
      "11107it [00:19, 517.71it/s]"
     ]
    },
    {
     "name": "stdout",
     "output_type": "stream",
     "text": [
      "복잡\n",
      "복잡\n",
      "복잡\n",
      "복잡\n",
      "복잡\n",
      "복잡\n"
     ]
    },
    {
     "name": "stderr",
     "output_type": "stream",
     "text": [
      "11267it [00:19, 521.58it/s]"
     ]
    },
    {
     "name": "stdout",
     "output_type": "stream",
     "text": [
      "복잡\n",
      "복잡\n",
      "복잡\n"
     ]
    },
    {
     "name": "stderr",
     "output_type": "stream",
     "text": [
      "11489it [00:20, 522.06it/s]"
     ]
    },
    {
     "name": "stdout",
     "output_type": "stream",
     "text": [
      "복잡\n",
      "복잡\n",
      "복잡\n",
      "복잡\n",
      "복잡\n",
      "복잡\n",
      "복잡\n"
     ]
    },
    {
     "name": "stderr",
     "output_type": "stream",
     "text": [
      "11648it [00:20, 509.85it/s]"
     ]
    },
    {
     "name": "stdout",
     "output_type": "stream",
     "text": [
      "복잡\n",
      "복잡\n",
      "복잡\n"
     ]
    },
    {
     "name": "stderr",
     "output_type": "stream",
     "text": [
      "11882it [00:21, 568.98it/s]"
     ]
    },
    {
     "name": "stdout",
     "output_type": "stream",
     "text": [
      "복잡\n"
     ]
    },
    {
     "name": "stderr",
     "output_type": "stream",
     "text": [
      "12446it [00:21, 910.90it/s]"
     ]
    },
    {
     "name": "stdout",
     "output_type": "stream",
     "text": [
      "복잡\n",
      "복잡\n",
      "복잡\n",
      "복잡"
     ]
    },
    {
     "name": "stderr",
     "output_type": "stream",
     "text": [
      "12713it [00:21, 867.45it/s]"
     ]
    },
    {
     "name": "stdout",
     "output_type": "stream",
     "text": [
      "\n",
      "복잡\n",
      "복잡\n",
      "복잡\n",
      "복잡\n",
      "복잡\n",
      "복잡\n",
      "복잡\n",
      "복잡\n",
      "복잡\n",
      "복잡\n",
      "복잡\n",
      "복잡\n",
      "복잡\n",
      "복잡\n",
      "복잡\n",
      "복잡\n",
      "복잡\n",
      "복잡\n",
      "복잡\n",
      "복잡\n",
      "복잡\n",
      "복잡\n"
     ]
    },
    {
     "name": "stderr",
     "output_type": "stream",
     "text": [
      "\r",
      "12801it [00:22, 728.53it/s]"
     ]
    },
    {
     "name": "stdout",
     "output_type": "stream",
     "text": [
      "복잡\n",
      "복잡\n",
      "복잡\n",
      "복잡\n",
      "복잡\n",
      "복잡\n",
      "복잡\n",
      "복잡\n",
      "복잡\n",
      "복잡\n",
      "복잡\n",
      "복잡\n",
      "복잡\n",
      "복잡\n",
      "복잡"
     ]
    },
    {
     "name": "stderr",
     "output_type": "stream",
     "text": [
      "12946it [00:22, 585.88it/s]"
     ]
    },
    {
     "name": "stdout",
     "output_type": "stream",
     "text": [
      "\n",
      "복잡\n",
      "복잡\n",
      "복잡\n",
      "복잡\n",
      "복잡\n",
      "복잡\n",
      "복잡\n",
      "복잡\n",
      "복잡\n",
      "복잡\n",
      "복잡\n",
      "복잡\n",
      "복잡\n",
      "복잡\n"
     ]
    },
    {
     "name": "stderr",
     "output_type": "stream",
     "text": [
      "13178it [00:22, 525.89it/s]"
     ]
    },
    {
     "name": "stdout",
     "output_type": "stream",
     "text": [
      "복잡\n",
      "복잡\n",
      "복잡\n",
      "복잡\n",
      "복잡\n"
     ]
    },
    {
     "name": "stderr",
     "output_type": "stream",
     "text": [
      "13517it [00:23, 530.63it/s]"
     ]
    },
    {
     "name": "stdout",
     "output_type": "stream",
     "text": [
      "복잡\n"
     ]
    },
    {
     "name": "stderr",
     "output_type": "stream",
     "text": [
      "15380it [00:27, 506.75it/s]"
     ]
    },
    {
     "name": "stdout",
     "output_type": "stream",
     "text": [
      "복잡\n",
      "복잡\n",
      "복잡\n",
      "복잡\n"
     ]
    },
    {
     "name": "stderr",
     "output_type": "stream",
     "text": [
      "15760it [00:27, 512.12it/s]"
     ]
    },
    {
     "name": "stdout",
     "output_type": "stream",
     "text": [
      "복잡\n"
     ]
    },
    {
     "name": "stderr",
     "output_type": "stream",
     "text": [
      "16081it [00:28, 502.77it/s]"
     ]
    },
    {
     "name": "stdout",
     "output_type": "stream",
     "text": [
      "복잡\n"
     ]
    },
    {
     "name": "stderr",
     "output_type": "stream",
     "text": [
      "16961it [00:30, 495.36it/s]"
     ]
    },
    {
     "name": "stdout",
     "output_type": "stream",
     "text": [
      "복잡\n"
     ]
    },
    {
     "name": "stderr",
     "output_type": "stream",
     "text": [
      "17062it [00:30, 497.03it/s]"
     ]
    },
    {
     "name": "stdout",
     "output_type": "stream",
     "text": [
      "복잡\n",
      "복잡\n",
      "복잡"
     ]
    },
    {
     "name": "stderr",
     "output_type": "stream",
     "text": [
      "17215it [00:30, 480.52it/s]"
     ]
    },
    {
     "name": "stdout",
     "output_type": "stream",
     "text": [
      "\n"
     ]
    },
    {
     "name": "stderr",
     "output_type": "stream",
     "text": [
      "17360it [00:31, 468.46it/s]"
     ]
    },
    {
     "name": "stdout",
     "output_type": "stream",
     "text": [
      "복잡\n"
     ]
    },
    {
     "name": "stderr",
     "output_type": "stream",
     "text": [
      "17776it [00:32, 442.42it/s]"
     ]
    },
    {
     "name": "stdout",
     "output_type": "stream",
     "text": [
      "복잡\n"
     ]
    },
    {
     "name": "stderr",
     "output_type": "stream",
     "text": [
      "17922it [00:32, 452.62it/s]"
     ]
    },
    {
     "name": "stdout",
     "output_type": "stream",
     "text": [
      "복잡\n",
      "복잡\n",
      "복잡\n",
      "복잡\n"
     ]
    },
    {
     "name": "stderr",
     "output_type": "stream",
     "text": [
      "18520it [00:33, 501.77it/s]"
     ]
    },
    {
     "name": "stdout",
     "output_type": "stream",
     "text": [
      "복잡\n",
      "복잡\n"
     ]
    },
    {
     "name": "stderr",
     "output_type": "stream",
     "text": [
      "18867it [00:34, 459.01it/s]"
     ]
    },
    {
     "name": "stdout",
     "output_type": "stream",
     "text": [
      "복잡\n",
      "복잡\n",
      "복잡\n",
      "복잡\n",
      "복잡\n"
     ]
    },
    {
     "name": "stderr",
     "output_type": "stream",
     "text": [
      "19110it [00:34, 452.94it/s]"
     ]
    },
    {
     "name": "stdout",
     "output_type": "stream",
     "text": [
      "복잡\n"
     ]
    },
    {
     "name": "stderr",
     "output_type": "stream",
     "text": [
      "19305it [00:35, 449.58it/s]"
     ]
    },
    {
     "name": "stdout",
     "output_type": "stream",
     "text": [
      "복잡\n"
     ]
    },
    {
     "name": "stderr",
     "output_type": "stream",
     "text": [
      "19474it [00:35, 509.80it/s]"
     ]
    },
    {
     "name": "stdout",
     "output_type": "stream",
     "text": [
      "복잡\n"
     ]
    },
    {
     "name": "stderr",
     "output_type": "stream",
     "text": [
      "19732it [00:36, 450.02it/s]"
     ]
    },
    {
     "name": "stdout",
     "output_type": "stream",
     "text": [
      "복잡\n"
     ]
    },
    {
     "name": "stderr",
     "output_type": "stream",
     "text": [
      "19929it [00:36, 466.72it/s]"
     ]
    },
    {
     "name": "stdout",
     "output_type": "stream",
     "text": [
      "복잡\n"
     ]
    },
    {
     "name": "stderr",
     "output_type": "stream",
     "text": [
      "20242it [00:37, 649.21it/s]"
     ]
    },
    {
     "name": "stdout",
     "output_type": "stream",
     "text": [
      "복잡\n",
      "복잡\n"
     ]
    },
    {
     "name": "stderr",
     "output_type": "stream",
     "text": [
      "20956it [00:38, 588.89it/s]"
     ]
    },
    {
     "name": "stdout",
     "output_type": "stream",
     "text": [
      "복잡\n"
     ]
    },
    {
     "name": "stderr",
     "output_type": "stream",
     "text": [
      "21291it [00:38, 495.05it/s]"
     ]
    },
    {
     "name": "stdout",
     "output_type": "stream",
     "text": [
      "복잡\n"
     ]
    },
    {
     "name": "stderr",
     "output_type": "stream",
     "text": [
      "21444it [00:39, 488.07it/s]"
     ]
    },
    {
     "name": "stdout",
     "output_type": "stream",
     "text": [
      "복잡\n",
      "복잡\n"
     ]
    },
    {
     "name": "stderr",
     "output_type": "stream",
     "text": [
      "22044it [00:40, 513.69it/s]"
     ]
    },
    {
     "name": "stdout",
     "output_type": "stream",
     "text": [
      "복잡\n"
     ]
    },
    {
     "name": "stderr",
     "output_type": "stream",
     "text": [
      "22256it [00:40, 482.13it/s]"
     ]
    },
    {
     "name": "stdout",
     "output_type": "stream",
     "text": [
      "복잡\n",
      "복잡\n"
     ]
    },
    {
     "name": "stderr",
     "output_type": "stream",
     "text": [
      "22652it [00:41, 481.35it/s]"
     ]
    },
    {
     "name": "stdout",
     "output_type": "stream",
     "text": [
      "복잡\n"
     ]
    },
    {
     "name": "stderr",
     "output_type": "stream",
     "text": [
      "22910it [00:42, 487.06it/s]"
     ]
    },
    {
     "name": "stdout",
     "output_type": "stream",
     "text": [
      "복잡\n",
      "복잡\n",
      "복잡\n",
      "복잡\n",
      "복잡\n",
      "복잡\n"
     ]
    },
    {
     "name": "stderr",
     "output_type": "stream",
     "text": [
      "23331it [00:43, 523.13it/s]"
     ]
    },
    {
     "name": "stdout",
     "output_type": "stream",
     "text": [
      "복잡\n"
     ]
    },
    {
     "name": "stderr",
     "output_type": "stream",
     "text": [
      "23536it [00:43, 492.78it/s]"
     ]
    },
    {
     "name": "stdout",
     "output_type": "stream",
     "text": [
      "복잡\n"
     ]
    },
    {
     "name": "stderr",
     "output_type": "stream",
     "text": [
      "23844it [00:44, 498.37it/s]"
     ]
    },
    {
     "name": "stdout",
     "output_type": "stream",
     "text": [
      "복잡\n",
      "복잡\n",
      "복잡\n",
      "복잡\n",
      "복잡\n",
      "복잡\n"
     ]
    },
    {
     "name": "stderr",
     "output_type": "stream",
     "text": [
      "24141it [00:44, 466.38it/s]"
     ]
    },
    {
     "name": "stdout",
     "output_type": "stream",
     "text": [
      "복잡\n"
     ]
    },
    {
     "name": "stderr",
     "output_type": "stream",
     "text": [
      "24304it [00:45, 514.09it/s]"
     ]
    },
    {
     "name": "stdout",
     "output_type": "stream",
     "text": [
      "복잡\n",
      "복잡\n",
      "복잡\n"
     ]
    },
    {
     "name": "stderr",
     "output_type": "stream",
     "text": [
      "25277it [00:46, 495.30it/s]"
     ]
    },
    {
     "name": "stdout",
     "output_type": "stream",
     "text": [
      "복잡\n",
      "복잡\n"
     ]
    },
    {
     "name": "stderr",
     "output_type": "stream",
     "text": [
      "25631it [00:47, 497.59it/s]"
     ]
    },
    {
     "name": "stdout",
     "output_type": "stream",
     "text": [
      "복잡\n",
      "복잡\n",
      "복잡\n",
      "복잡\n"
     ]
    },
    {
     "name": "stderr",
     "output_type": "stream",
     "text": [
      "25780it [00:48, 470.69it/s]"
     ]
    },
    {
     "name": "stdout",
     "output_type": "stream",
     "text": [
      "복잡\n"
     ]
    },
    {
     "name": "stderr",
     "output_type": "stream",
     "text": [
      "26246it [00:49, 499.84it/s]"
     ]
    },
    {
     "name": "stdout",
     "output_type": "stream",
     "text": [
      "복잡\n"
     ]
    },
    {
     "name": "stderr",
     "output_type": "stream",
     "text": [
      "26449it [00:49, 488.49it/s]"
     ]
    },
    {
     "name": "stdout",
     "output_type": "stream",
     "text": [
      "복잡\n",
      "복잡\n"
     ]
    },
    {
     "name": "stderr",
     "output_type": "stream",
     "text": [
      "26648it [00:49, 477.29it/s]"
     ]
    },
    {
     "name": "stdout",
     "output_type": "stream",
     "text": [
      "복잡\n",
      "복잡\n",
      "복잡\n",
      "복잡\n",
      "복잡\n",
      "복잡\n"
     ]
    },
    {
     "name": "stderr",
     "output_type": "stream",
     "text": [
      "26750it [00:50, 481.96it/s]"
     ]
    },
    {
     "name": "stdout",
     "output_type": "stream",
     "text": [
      "복잡\n",
      "복잡\n",
      "복잡\n",
      "복잡\n",
      "복잡\n",
      "복잡\n",
      "복잡\n",
      "복잡\n",
      "복잡\n",
      "복잡\n",
      "복잡\n",
      "복잡\n",
      "복잡\n",
      "복잡\n",
      "복잡\n",
      "복잡\n"
     ]
    },
    {
     "name": "stderr",
     "output_type": "stream",
     "text": [
      "26903it [00:50, 495.47it/s]"
     ]
    },
    {
     "name": "stdout",
     "output_type": "stream",
     "text": [
      "복잡\n"
     ]
    },
    {
     "name": "stderr",
     "output_type": "stream",
     "text": [
      "27102it [00:50, 478.34it/s]"
     ]
    },
    {
     "name": "stdout",
     "output_type": "stream",
     "text": [
      "복잡\n",
      "복잡\n",
      "복잡\n",
      "복잡\n",
      "복잡\n",
      "복잡\n",
      "복잡\n",
      "복잡\n",
      "복잡\n",
      "복잡\n",
      "복잡\n"
     ]
    },
    {
     "name": "stderr",
     "output_type": "stream",
     "text": [
      "27248it [00:51, 476.86it/s]"
     ]
    },
    {
     "name": "stdout",
     "output_type": "stream",
     "text": [
      "복잡\n",
      "복잡\n",
      "복잡\n",
      "복잡\n",
      "복잡\n"
     ]
    },
    {
     "name": "stderr",
     "output_type": "stream",
     "text": [
      "27347it [00:51, 476.32it/s]"
     ]
    },
    {
     "name": "stdout",
     "output_type": "stream",
     "text": [
      "복잡\n",
      "복잡\n",
      "복잡\n"
     ]
    },
    {
     "name": "stderr",
     "output_type": "stream",
     "text": [
      "27594it [00:51, 483.88it/s]"
     ]
    },
    {
     "name": "stdout",
     "output_type": "stream",
     "text": [
      "복잡\n",
      "복잡\n",
      "복잡\n"
     ]
    },
    {
     "name": "stderr",
     "output_type": "stream",
     "text": [
      "27752it [00:52, 531.53it/s]\n"
     ]
    },
    {
     "name": "stdout",
     "output_type": "stream",
     "text": [
      "복잡\n"
     ]
    },
    {
     "data": {
      "text/html": [
       "<div>\n",
       "<style scoped>\n",
       "    .dataframe tbody tr th:only-of-type {\n",
       "        vertical-align: middle;\n",
       "    }\n",
       "\n",
       "    .dataframe tbody tr th {\n",
       "        vertical-align: top;\n",
       "    }\n",
       "\n",
       "    .dataframe thead th {\n",
       "        text-align: right;\n",
       "    }\n",
       "</style>\n",
       "<table border=\"1\" class=\"dataframe\">\n",
       "  <thead>\n",
       "    <tr style=\"text-align: right;\">\n",
       "      <th></th>\n",
       "      <th>space</th>\n",
       "      <th>type</th>\n",
       "      <th>language</th>\n",
       "      <th>day</th>\n",
       "      <th>text</th>\n",
       "      <th>score</th>\n",
       "      <th>token</th>\n",
       "      <th>word</th>\n",
       "    </tr>\n",
       "  </thead>\n",
       "  <tbody>\n",
       "    <tr>\n",
       "      <th>0</th>\n",
       "      <td>힐스파</td>\n",
       "      <td>체험</td>\n",
       "      <td>한국어</td>\n",
       "      <td>201702</td>\n",
       "      <td>경치 최고 찜질방에서 하루 숙박했습니다 달맞이길 윗쪽에 위치해서 해운대 일대가 한눈...</td>\n",
       "      <td>1</td>\n",
       "      <td>[(경치, NNG), (최고, NNG), (찜질방, NNG), (에서, JKB), ...</td>\n",
       "      <td>경치 최고 찜질방 하루 숙박 달맞이 길 위치 해운대 한눈 보이 최고 위치 있 숙박 ...</td>\n",
       "    </tr>\n",
       "    <tr>\n",
       "      <th>1</th>\n",
       "      <td>힐스파</td>\n",
       "      <td>체험</td>\n",
       "      <td>한국어</td>\n",
       "      <td>201711</td>\n",
       "      <td>경치가 좋은 스파 너무 좋아요 해운대 바다가 보이는 스파라서 스파하는동안 기분이 좋...</td>\n",
       "      <td>1</td>\n",
       "      <td>[(경치, NNG), (가, JKS), (좋, VA), (은, ETM), (스파, ...</td>\n",
       "      <td>경치 좋 좋 해운대 바다 보이 하 동안 기분 좋 야외 있 좋</td>\n",
       "    </tr>\n",
       "    <tr>\n",
       "      <th>2</th>\n",
       "      <td>힐스파</td>\n",
       "      <td>체험</td>\n",
       "      <td>한국어</td>\n",
       "      <td>201710</td>\n",
       "      <td>여독풀기 좋은 장소 하루 종일 여행 후 피로를 녹이기 좋은 장소 주차도 잘 됩니다 ...</td>\n",
       "      <td>1</td>\n",
       "      <td>[(여독, NNG), (풀, VV), (기, ETN), (좋, VA), (은, ET...</td>\n",
       "      <td>여독 풀 좋 장소 하루 종일 여행 후 피로 녹이 좋 장소 주차 바다 풍경 좋 찜질방...</td>\n",
       "    </tr>\n",
       "    <tr>\n",
       "      <th>3</th>\n",
       "      <td>힐스파</td>\n",
       "      <td>체험</td>\n",
       "      <td>한국어</td>\n",
       "      <td>201602</td>\n",
       "      <td>달맞이 고개의 훌륭한 목욕탕 달맞이 고개에 자리하고 있으며 고지대에 위치한 덕분에 ...</td>\n",
       "      <td>1</td>\n",
       "      <td>[(달맞이, NNG), (고개, NNG), (의, JKG), (훌륭, XR), (한...</td>\n",
       "      <td>달맞이 고개 목욕탕 달맞이 고개 자리 고지대 위치 덕분 목욕탕 해운대 아경 감상 있...</td>\n",
       "    </tr>\n",
       "    <tr>\n",
       "      <th>4</th>\n",
       "      <td>힐스파</td>\n",
       "      <td>체험</td>\n",
       "      <td>한국어</td>\n",
       "      <td>201504</td>\n",
       "      <td>해운대 달맞이고개의 찜질방 찜질하는 찜질방입니다 스파도 같이 운영합니다 방문객이 많...</td>\n",
       "      <td>0</td>\n",
       "      <td>[(해운대, NNG), (달맞이, NNG), (고개, NNG), (의, JKG), ...</td>\n",
       "      <td>해운대 달맞이 고개 찜질방 찜질 찜질방 운영 방문객 많 숙박 숙소 사람 많 싸우 밑...</td>\n",
       "    </tr>\n",
       "  </tbody>\n",
       "</table>\n",
       "</div>"
      ],
      "text/plain": [
       "  space type language     day  \\\n",
       "0   힐스파   체험      한국어  201702   \n",
       "1   힐스파   체험      한국어  201711   \n",
       "2   힐스파   체험      한국어  201710   \n",
       "3   힐스파   체험      한국어  201602   \n",
       "4   힐스파   체험      한국어  201504   \n",
       "\n",
       "                                                text score  \\\n",
       "0  경치 최고 찜질방에서 하루 숙박했습니다 달맞이길 윗쪽에 위치해서 해운대 일대가 한눈...     1   \n",
       "1  경치가 좋은 스파 너무 좋아요 해운대 바다가 보이는 스파라서 스파하는동안 기분이 좋...     1   \n",
       "2  여독풀기 좋은 장소 하루 종일 여행 후 피로를 녹이기 좋은 장소 주차도 잘 됩니다 ...     1   \n",
       "3  달맞이 고개의 훌륭한 목욕탕 달맞이 고개에 자리하고 있으며 고지대에 위치한 덕분에 ...     1   \n",
       "4  해운대 달맞이고개의 찜질방 찜질하는 찜질방입니다 스파도 같이 운영합니다 방문객이 많...     0   \n",
       "\n",
       "                                               token  \\\n",
       "0  [(경치, NNG), (최고, NNG), (찜질방, NNG), (에서, JKB), ...   \n",
       "1  [(경치, NNG), (가, JKS), (좋, VA), (은, ETM), (스파, ...   \n",
       "2  [(여독, NNG), (풀, VV), (기, ETN), (좋, VA), (은, ET...   \n",
       "3  [(달맞이, NNG), (고개, NNG), (의, JKG), (훌륭, XR), (한...   \n",
       "4  [(해운대, NNG), (달맞이, NNG), (고개, NNG), (의, JKG), ...   \n",
       "\n",
       "                                                word  \n",
       "0  경치 최고 찜질방 하루 숙박 달맞이 길 위치 해운대 한눈 보이 최고 위치 있 숙박 ...  \n",
       "1                 경치 좋 좋 해운대 바다 보이 하 동안 기분 좋 야외 있 좋   \n",
       "2  여독 풀 좋 장소 하루 종일 여행 후 피로 녹이 좋 장소 주차 바다 풍경 좋 찜질방...  \n",
       "3  달맞이 고개 목욕탕 달맞이 고개 자리 고지대 위치 덕분 목욕탕 해운대 아경 감상 있...  \n",
       "4  해운대 달맞이 고개 찜질방 찜질 찜질방 운영 방문객 많 숙박 숙소 사람 많 싸우 밑...  "
      ]
     },
     "execution_count": 12,
     "metadata": {},
     "output_type": "execute_result"
    }
   ],
   "source": [
    "ref['word']=0\n",
    "for index, row in tqdm(ref.iterrows()):\n",
    "    temp=\"\"\n",
    "    for word in ref['token'][index]:\n",
    "        if word[1] in ['VV','VA','NNG']:#'\n",
    "            temp+=word[0]\n",
    "            temp+=\" \"\n",
    "    ref['word'][index]=temp\n",
    "ref.head()        "
   ]
  },
  {
   "cell_type": "code",
   "execution_count": 7,
   "id": "c3b116f0",
   "metadata": {},
   "outputs": [],
   "source": [
    "shoppint=[]\n",
    "culture=[]\n",
    "nature=[]\n",
    "history=[]\n",
    "experience=[]\n",
    "scene=[]\n",
    "etc=[]\n",
    "etc_festival=[]\n",
    "etc_info=[]\n",
    "festival=[]\n",
    "temp=[]"
   ]
  },
  {
   "cell_type": "code",
   "execution_count": 8,
   "id": "453b2e63",
   "metadata": {},
   "outputs": [],
   "source": [
    "shopping_1=[]\n",
    "culture_1=[]\n",
    "nature_1=[]\n",
    "history_1=[]\n",
    "experience_1=[]\n",
    "scene_1=[]\n",
    "etc_1=[]\n",
    "etc_festival_1=[]\n",
    "etc_info_1=[]\n",
    "festival_1=[]\n",
    "temp_1=[]\n",
    "for index, row in ref.iterrows():\n",
    "    if ref['type'][index] in '문화':\n",
    "        culture_1.append(row)\n",
    "    elif ref['type'][index] in '쇼핑':\n",
    "        shopping_1.append(row)\n",
    "    elif ref['type'][index] in '자연':\n",
    "        nature_1.append(row)\n",
    "    elif ref['type'][index] in '역사':\n",
    "        history_1.append(row)\n",
    "    elif ref['type'][index] in '체험':\n",
    "        experience_1.append(row)\n",
    "    elif ref['type'][index] in '경관':\n",
    "        scene_1.append(row)\n",
    "    elif ref['type'][index] in '기타':\n",
    "        etc_1.append(row)\n",
    "    elif ref['type'][index] in '기타-축체':\n",
    "        etc_festival_1.append(row)\n",
    "    elif ref['type'][index] in '기타-안내':\n",
    "        etc_info_1.append(row)\n",
    "    elif ref['type'][index] in '축제':\n",
    "        festival_1.append(row)\n",
    "    else:\n",
    "        temp_1.append(row)\n",
    "culture=pd.DataFrame(culture_1)\n",
    "shopping=pd.DataFrame(shopping_1)\n",
    "nature=pd.DataFrame(nature_1)\n",
    "history=pd.DataFrame(history_1)\n",
    "experience=pd.DataFrame(experience_1)\n",
    "scene=pd.DataFrame(scene_1)\n",
    "etc=pd.DataFrame(etc_1)\n",
    "etc_festival=pd.DataFrame(etc_festival_1)\n",
    "etc_info=pd.DataFrame(etc_info_1)\n",
    "festival=pd.DataFrame(festival_1)\n",
    "temp=pd.DataFrame(temp_1) "
   ]
  },
  {
   "cell_type": "code",
   "execution_count": 9,
   "id": "a391090d",
   "metadata": {},
   "outputs": [
    {
     "data": {
      "text/plain": [
       "{'보이': 12,\n",
       " '하': 25,\n",
       " '즐기': 21,\n",
       " '잡': 20,\n",
       " '가': 0,\n",
       " '보': 10,\n",
       " '오': 19,\n",
       " '되': 5,\n",
       " '들어가': 7,\n",
       " '먹': 8,\n",
       " '앉': 16,\n",
       " '알': 17,\n",
       " '가지': 1,\n",
       " '찾': 23,\n",
       " '받': 9,\n",
       " '얻': 18,\n",
       " '돌': 4,\n",
       " '보내': 11,\n",
       " '걷': 2,\n",
       " '살': 15,\n",
       " '들': 6,\n",
       " '사': 14,\n",
       " '타': 24,\n",
       " '걸': 3,\n",
       " '붐비': 13,\n",
       " '찍': 22}"
      ]
     },
     "execution_count": 9,
     "metadata": {},
     "output_type": "execute_result"
    }
   ],
   "source": [
    "from sklearn.feature_extraction.text import CountVectorizer\n",
    "\n",
    "cv=CountVectorizer(\n",
    "    min_df=0.02,\n",
    "    max_df=0.5,\n",
    "    ngram_range=(1,1),\n",
    "    tokenizer=lambda x: x.split())\n",
    "\n",
    "\n",
    "X=cv.fit_transform(ref['word'])\n",
    "cv.vocabulary_"
   ]
  },
  {
   "cell_type": "markdown",
   "id": "38acd4ab",
   "metadata": {},
   "source": [
    "# 문화"
   ]
  },
  {
   "cell_type": "code",
   "execution_count": 76,
   "id": "801d5381",
   "metadata": {},
   "outputs": [
    {
     "name": "stdout",
     "output_type": "stream",
     "text": [
      "(5989, 148)\n"
     ]
    },
    {
     "data": {
      "text/plain": [
       "{'야외': 81,\n",
       " '광장': 12,\n",
       " '컨벤션': 125,\n",
       " '개최': 3,\n",
       " '목적': 43,\n",
       " '공연': 8,\n",
       " '브랜드': 58,\n",
       " '의류': 98,\n",
       " '싸': 79,\n",
       " '서비스': 67,\n",
       " '연결': 84,\n",
       " '주차장': 112,\n",
       " '카드': 123,\n",
       " '평일': 138,\n",
       " '여유': 83,\n",
       " '교육': 13,\n",
       " '시티': 78,\n",
       " '중심': 114,\n",
       " '놀': 23,\n",
       " '비오': 60,\n",
       " '이번': 100,\n",
       " '영화제': 86,\n",
       " '축제': 121,\n",
       " '만족': 39,\n",
       " '수준': 72,\n",
       " '소개': 68,\n",
       " '맞': 41,\n",
       " '크기': 128,\n",
       " '다리': 25,\n",
       " '갖': 2,\n",
       " '시내': 77,\n",
       " '서면': 66,\n",
       " '쉬': 74,\n",
       " '예상': 87,\n",
       " '대중': 27,\n",
       " '측면': 122,\n",
       " '음료': 97,\n",
       " '기다리': 18,\n",
       " '폐쇄': 139,\n",
       " '디자인': 33,\n",
       " '트': 133,\n",
       " '그룹': 15,\n",
       " '보석': 55,\n",
       " '여성': 82,\n",
       " '의상': 99,\n",
       " '변화': 54,\n",
       " '동굴': 30,\n",
       " '만나': 37,\n",
       " '요금': 93,\n",
       " '게임': 6,\n",
       " '전시물': 105,\n",
       " '만드': 38,\n",
       " '넣': 22,\n",
       " '손': 71,\n",
       " '라인': 35,\n",
       " '관리': 11,\n",
       " '예약': 88,\n",
       " '줄': 113,\n",
       " '산책로': 63,\n",
       " '숨': 73,\n",
       " '종일': 110,\n",
       " '구매': 14,\n",
       " '소요': 69,\n",
       " '페인트': 136,\n",
       " '지금': 115,\n",
       " '믿': 47,\n",
       " '특정': 134,\n",
       " '일본인': 102,\n",
       " '보통': 56,\n",
       " '내용': 21,\n",
       " '맛': 40,\n",
       " '문제': 46,\n",
       " '대신': 26,\n",
       " '옛날': 89,\n",
       " '슈퍼': 75,\n",
       " '도중': 29,\n",
       " '기본': 19,\n",
       " '기간': 16,\n",
       " '이외': 101,\n",
       " '컬렉션': 127,\n",
       " '나가': 20,\n",
       " '조심': 109,\n",
       " '관계': 10,\n",
       " '행복': 145,\n",
       " '통과': 132,\n",
       " '특징': 135,\n",
       " '원': 95,\n",
       " '사항': 62,\n",
       " '방문자': 51,\n",
       " '기념물': 17,\n",
       " '비디오': 59,\n",
       " '반나절': 50,\n",
       " '환상': 146,\n",
       " '조명': 108,\n",
       " '터널': 130,\n",
       " '위아래': 96,\n",
       " '제안': 107,\n",
       " '문': 45,\n",
       " '오르막': 90,\n",
       " '간판': 1,\n",
       " '바람': 49,\n",
       " '등반': 32,\n",
       " '늦': 24,\n",
       " '과거': 9,\n",
       " '전망대': 104,\n",
       " '부족': 57,\n",
       " '모양': 42,\n",
       " '걸리': 5,\n",
       " '열': 85,\n",
       " '대학': 28,\n",
       " '운동': 94,\n",
       " '상상': 64,\n",
       " '바뀌': 48,\n",
       " '따르': 34,\n",
       " '체크': 118,\n",
       " '속': 70,\n",
       " '걱정': 4,\n",
       " '장면': 103,\n",
       " '하이킹': 142,\n",
       " '태양': 129,\n",
       " '오르막길': 91,\n",
       " '동네': 31,\n",
       " '집들이': 117,\n",
       " '골목길': 7,\n",
       " '추억': 120,\n",
       " '가파르': 0,\n",
       " '초등': 119,\n",
       " '슬로프': 76,\n",
       " '항구': 144,\n",
       " '커플': 124,\n",
       " '배우': 52,\n",
       " '오브제': 92,\n",
       " '주거': 111,\n",
       " '학생': 143,\n",
       " '지나': 116,\n",
       " '테마': 131,\n",
       " '색': 65,\n",
       " '절대': 106,\n",
       " '하이라이트': 141,\n",
       " '피하': 140,\n",
       " '무덤': 44,\n",
       " '벚꽃': 53,\n",
       " '마차': 36,\n",
       " '사냥': 61,\n",
       " '컬러': 126,\n",
       " '아쿠아리움': 80,\n",
       " '펭귄': 137,\n",
       " '희생': 147}"
      ]
     },
     "execution_count": 76,
     "metadata": {},
     "output_type": "execute_result"
    }
   ],
   "source": [
    "cv_culture=CountVectorizer(\n",
    "    min_df=0.007,\n",
    "    max_df=0.01,\n",
    "    ngram_range=(1,1),\n",
    "    tokenizer=lambda x: x.split())\n",
    "\n",
    "culture_X=cv_culture.fit_transform(culture['word'])\n",
    "\n",
    "print(culture_X.shape)\n",
    "cv_culture.vocabulary_"
   ]
  },
  {
   "cell_type": "code",
   "execution_count": 77,
   "id": "1f13b635",
   "metadata": {},
   "outputs": [
    {
     "name": "stdout",
     "output_type": "stream",
     "text": [
      "기능 수 : 148\n",
      "['가파르', '간판', '갖', '개최', '걱정', '걸리', '게임', '골목길', '공연', '과거', '관계', '관리', '광장', '교육', '구매', '그룹', '기간', '기념물', '기다리', '기본', '나가', '내용', '넣', '놀', '늦', '다리', '대신', '대중', '대학', '도중', '동굴', '동네', '등반', '디자인', '따르', '라인', '마차', '만나', '만드', '만족', '맛', '맞', '모양', '목적', '무덤', '문', '문제', '믿', '바뀌', '바람', '반나절', '방문자', '배우', '벚꽃', '변화', '보석', '보통', '부족', '브랜드', '비디오', '비오', '사냥', '사항', '산책로', '상상', '색', '서면', '서비스', '소개', '소요', '속', '손', '수준', '숨', '쉬', '슈퍼', '슬로프', '시내', '시티', '싸', '아쿠아리움', '야외', '여성', '여유', '연결', '열', '영화제', '예상', '예약', '옛날', '오르막', '오르막길', '오브제', '요금', '운동', '원', '위아래', '음료', '의류', '의상', '이번', '이외', '일본인', '장면', '전망대', '전시물', '절대', '제안', '조명', '조심', '종일', '주거', '주차장', '줄', '중심', '지금', '지나', '집들이', '체크', '초등', '추억', '축제', '측면', '카드', '커플', '컨벤션', '컬러', '컬렉션', '크기', '태양', '터널', '테마', '통과', '트', '특정', '특징', '페인트', '펭귄', '평일', '폐쇄', '피하', '하이라이트', '하이킹', '학생', '항구', '행복', '환상', '희생']\n"
     ]
    }
   ],
   "source": [
    "culture_names=cv_culture.get_feature_names()\n",
    "print ( \"기능 수 : {}\". format (len (culture_names)))\n",
    "print(culture_names)"
   ]
  },
  {
   "cell_type": "code",
   "execution_count": 78,
   "id": "31d77edf",
   "metadata": {},
   "outputs": [
    {
     "name": "stdout",
     "output_type": "stream",
     "text": [
      "Best cross-validation score: 0.80\n",
      "Best parameters:  {'C': 0.001}\n",
      "Best estimator:  LogisticRegression(C=0.001)\n"
     ]
    }
   ],
   "source": [
    "from sklearn.model_selection import GridSearchCV\n",
    "from sklearn.linear_model import LogisticRegression\n",
    "\n",
    "param_grid={'C':[0.001,0.01,0.1,1,10]}\n",
    "grid=GridSearchCV(LogisticRegression(),param_grid,cv=5)\n",
    "grid.fit(culture_X,culture['score'])\n",
    "\n",
    "print(\"Best cross-validation score: {:.2f}\".format(grid.best_score_))\n",
    "print(\"Best parameters: \", grid.best_params_)\n",
    "print(\"Best estimator: \", grid.best_estimator_)"
   ]
  },
  {
   "cell_type": "code",
   "execution_count": 79,
   "id": "35cf8023",
   "metadata": {},
   "outputs": [
    {
     "name": "stderr",
     "output_type": "stream",
     "text": [
      "C:\\Users\\pthdu\\anaconda3\\envs\\nltk\\lib\\site-packages\\matplotlib\\backends\\backend_agg.py:240: RuntimeWarning: Glyph 8722 missing from current font.\n",
      "  font.set_text(s, 0.0, flags=flags)\n",
      "C:\\Users\\pthdu\\anaconda3\\envs\\nltk\\lib\\site-packages\\matplotlib\\backends\\backend_agg.py:203: RuntimeWarning: Glyph 8722 missing from current font.\n",
      "  font.set_text(s, 0, flags=flags)\n"
     ]
    },
    {
     "data": {
      "image/png": "[encoded data removed]",
      "text/plain": [
       "<Figure size 1080x360 with 1 Axes>"
      ]
     },
     "metadata": {
      "needs_background": "light"
     },
     "output_type": "display_data"
    }
   ],
   "source": [
    "import matplotlib\n",
    "import matplotlib.pyplot as plt\n",
    "import mglearn\n",
    "import matplotlib.font_manager as fm\n",
    "\n",
    "font_location=r'C:\\Windows\\Fonts\\H2PORM.TTF'\n",
    "font_name=fm.FontProperties(fname=font_location).get_name()\n",
    "matplotlib.rc('font',family=font_name)\n",
    "mglearn.tools.visualize_coefficients(grid.best_estimator_.coef_, culture_names, n_top_features=15)\n",
    "plt.show()"
   ]
  },
  {
   "cell_type": "markdown",
   "id": "feb4823d",
   "metadata": {},
   "source": [
    "# 자연"
   ]
  },
  {
   "cell_type": "code",
   "execution_count": 80,
   "id": "14d3244c",
   "metadata": {},
   "outputs": [
    {
     "name": "stdout",
     "output_type": "stream",
     "text": [
      "(6108, 148)\n"
     ]
    },
    {
     "data": {
      "text/plain": [
       "{'주말': 114,\n",
       " '여행': 85,\n",
       " '축제': 125,\n",
       " '주변': 115,\n",
       " '시설': 74,\n",
       " '편리': 134,\n",
       " '아침': 80,\n",
       " '되': 39,\n",
       " '낮': 24,\n",
       " '길': 20,\n",
       " '열차': 87,\n",
       " '가족': 1,\n",
       " '오': 89,\n",
       " '건물': 5,\n",
       " '야경': 83,\n",
       " '끝': 21,\n",
       " '느낌': 29,\n",
       " '코스': 129,\n",
       " '풍경': 137,\n",
       " '놀': 26,\n",
       " '바닷가': 52,\n",
       " '날씨': 23,\n",
       " '편안': 135,\n",
       " '해수욕장': 141,\n",
       " '친구': 126,\n",
       " '쉽': 73,\n",
       " '광안': 16,\n",
       " '도시': 35,\n",
       " '카페': 127,\n",
       " '음식': 93,\n",
       " '전': 106,\n",
       " '잡': 103,\n",
       " '도착': 36,\n",
       " '기분': 18,\n",
       " '바람': 53,\n",
       " '겨울': 7,\n",
       " '정도': 110,\n",
       " '보이': 56,\n",
       " '해안': 142,\n",
       " '최고': 123,\n",
       " '사진': 64,\n",
       " '찍': 120,\n",
       " '휴식': 146,\n",
       " '사용': 63,\n",
       " '위치': 92,\n",
       " '높': 28,\n",
       " '비치': 61,\n",
       " '식사': 78,\n",
       " '분위기': 57,\n",
       " '먹': 46,\n",
       " '날': 22,\n",
       " '물': 50,\n",
       " '바': 51,\n",
       " '앉': 81,\n",
       " '갈매기': 4,\n",
       " '파도': 133,\n",
       " '명소': 48,\n",
       " '찾': 122,\n",
       " '사랑': 62,\n",
       " '앞': 82,\n",
       " '괜찮': 17,\n",
       " '다음': 30,\n",
       " '관광': 14,\n",
       " '추천': 124,\n",
       " '시장': 76,\n",
       " '마시': 42,\n",
       " '아이': 79,\n",
       " '차': 121,\n",
       " '인기': 96,\n",
       " '생각': 68,\n",
       " '도보': 34,\n",
       " '관광객': 15,\n",
       " '도로': 33,\n",
       " '공원': 13,\n",
       " '하루': 139,\n",
       " '넓': 25,\n",
       " '주위': 116,\n",
       " '후': 145,\n",
       " '저녁': 105,\n",
       " '집': 119,\n",
       " '역': 86,\n",
       " '상점': 67,\n",
       " '공연': 12,\n",
       " '인근': 95,\n",
       " '놀이': 27,\n",
       " '불': 58,\n",
       " '옆': 88,\n",
       " '커피': 128,\n",
       " '대부분': 32,\n",
       " '일몰': 98,\n",
       " '시작': 75,\n",
       " '가지': 2,\n",
       " '보내': 55,\n",
       " '매력': 45,\n",
       " '대교': 31,\n",
       " '경치': 9,\n",
       " '해산물': 140,\n",
       " '말': 43,\n",
       " '붐비': 60,\n",
       " '자연': 101,\n",
       " '선택': 69,\n",
       " '작': 102,\n",
       " '산책로': 66,\n",
       " '활동': 144,\n",
       " '등대': 41,\n",
       " '돌': 37,\n",
       " '입구': 100,\n",
       " '무료': 49,\n",
       " '걸': 6,\n",
       " '투어': 131,\n",
       " '지하철': 117,\n",
       " '수족관': 72,\n",
       " '수영': 71,\n",
       " '동안': 38,\n",
       " '일': 97,\n",
       " '산': 65,\n",
       " '재미': 104,\n",
       " '멋지': 47,\n",
       " '시즌': 77,\n",
       " '필요': 138,\n",
       " '혼잡': 143,\n",
       " '들': 40,\n",
       " '이상': 94,\n",
       " '얻': 84,\n",
       " '전체': 108,\n",
       " '불꽃': 59,\n",
       " '맑': 44,\n",
       " '계단': 11,\n",
       " '경험': 10,\n",
       " '가깝': 0,\n",
       " '경우': 8,\n",
       " '지하철역': 118,\n",
       " '정류장': 111,\n",
       " '제공': 112,\n",
       " '일부': 99,\n",
       " '태양': 130,\n",
       " '조명': 113,\n",
       " '섬': 70,\n",
       " '우산': 91,\n",
       " '포장': 136,\n",
       " '기차': 19,\n",
       " '가치': 3,\n",
       " '오후': 90,\n",
       " '흥미': 147,\n",
       " '절벽': 109,\n",
       " '티켓': 132,\n",
       " '바위': 54,\n",
       " '전망대': 107}"
      ]
     },
     "execution_count": 80,
     "metadata": {},
     "output_type": "execute_result"
    }
   ],
   "source": [
    "cv_nature=CountVectorizer(\n",
    "    min_df=0.02,\n",
    "    max_df=0.08,\n",
    "    ngram_range=(1,1),\n",
    "    tokenizer=lambda x: x.split())\n",
    "\n",
    "nature_X=cv_nature.fit_transform(nature['word'])\n",
    "\n",
    "print(nature_X.shape)\n",
    "cv_nature.vocabulary_"
   ]
  },
  {
   "cell_type": "code",
   "execution_count": 81,
   "id": "1e6582d8",
   "metadata": {},
   "outputs": [
    {
     "name": "stdout",
     "output_type": "stream",
     "text": [
      "기능 수 : 148\n",
      "['가깝', '가족', '가지', '가치', '갈매기', '건물', '걸', '겨울', '경우', '경치', '경험', '계단', '공연', '공원', '관광', '관광객', '광안', '괜찮', '기분', '기차', '길', '끝', '날', '날씨', '낮', '넓', '놀', '놀이', '높', '느낌', '다음', '대교', '대부분', '도로', '도보', '도시', '도착', '돌', '동안', '되', '들', '등대', '마시', '말', '맑', '매력', '먹', '멋지', '명소', '무료', '물', '바', '바닷가', '바람', '바위', '보내', '보이', '분위기', '불', '불꽃', '붐비', '비치', '사랑', '사용', '사진', '산', '산책로', '상점', '생각', '선택', '섬', '수영', '수족관', '쉽', '시설', '시작', '시장', '시즌', '식사', '아이', '아침', '앉', '앞', '야경', '얻', '여행', '역', '열차', '옆', '오', '오후', '우산', '위치', '음식', '이상', '인근', '인기', '일', '일몰', '일부', '입구', '자연', '작', '잡', '재미', '저녁', '전', '전망대', '전체', '절벽', '정도', '정류장', '제공', '조명', '주말', '주변', '주위', '지하철', '지하철역', '집', '찍', '차', '찾', '최고', '추천', '축제', '친구', '카페', '커피', '코스', '태양', '투어', '티켓', '파도', '편리', '편안', '포장', '풍경', '필요', '하루', '해산물', '해수욕장', '해안', '혼잡', '활동', '후', '휴식', '흥미']\n"
     ]
    }
   ],
   "source": [
    "nature_names=cv_nature.get_feature_names()\n",
    "print ( \"기능 수 : {}\". format (len (nature_names)))\n",
    "print(nature_names)"
   ]
  },
  {
   "cell_type": "code",
   "execution_count": 82,
   "id": "24fea852",
   "metadata": {},
   "outputs": [
    {
     "name": "stdout",
     "output_type": "stream",
     "text": [
      "Best cross-validation score: 0.85\n",
      "Best parameters:  {'C': 0.01}\n",
      "Best estimator:  LogisticRegression(C=0.01)\n"
     ]
    }
   ],
   "source": [
    "from sklearn.model_selection import GridSearchCV\n",
    "from sklearn.linear_model import LogisticRegression\n",
    "\n",
    "param_grid={'C':[0.001,0.01,0.1,1,10]}\n",
    "grid=GridSearchCV(LogisticRegression(),param_grid,cv=5)\n",
    "grid.fit(nature_X,nature['score'])\n",
    "\n",
    "print(\"Best cross-validation score: {:.2f}\".format(grid.best_score_))\n",
    "print(\"Best parameters: \", grid.best_params_)\n",
    "print(\"Best estimator: \", grid.best_estimator_)"
   ]
  },
  {
   "cell_type": "code",
   "execution_count": 83,
   "id": "73e73a09",
   "metadata": {},
   "outputs": [
    {
     "name": "stderr",
     "output_type": "stream",
     "text": [
      "C:\\Users\\pthdu\\anaconda3\\envs\\nltk\\lib\\site-packages\\matplotlib\\backends\\backend_agg.py:240: RuntimeWarning: Glyph 8722 missing from current font.\n",
      "  font.set_text(s, 0.0, flags=flags)\n",
      "C:\\Users\\pthdu\\anaconda3\\envs\\nltk\\lib\\site-packages\\matplotlib\\backends\\backend_agg.py:203: RuntimeWarning: Glyph 8722 missing from current font.\n",
      "  font.set_text(s, 0, flags=flags)\n"
     ]
    },
    {
     "data": {
      "image/png": "[encoded data removed]",
      "text/plain": [
       "<Figure size 1080x360 with 1 Axes>"
      ]
     },
     "metadata": {
      "needs_background": "light"
     },
     "output_type": "display_data"
    }
   ],
   "source": [
    "import matplotlib\n",
    "import matplotlib.pyplot as plt\n",
    "import mglearn\n",
    "import matplotlib.font_manager as fm\n",
    "\n",
    "font_location=r'C:\\Windows\\Fonts\\H2PORM.TTF'\n",
    "font_name=fm.FontProperties(fname=font_location).get_name()\n",
    "matplotlib.rc('font',family=font_name)\n",
    "mglearn.tools.visualize_coefficients(grid.best_estimator_.coef_, nature_names, n_top_features=15)\n",
    "plt.show()"
   ]
  },
  {
   "cell_type": "markdown",
   "id": "f3db914d",
   "metadata": {},
   "source": [
    "# 역사"
   ]
  },
  {
   "cell_type": "code",
   "execution_count": 131,
   "id": "c8cd207d",
   "metadata": {},
   "outputs": [
    {
     "name": "stdout",
     "output_type": "stream",
     "text": [
      "(3129, 144)\n"
     ]
    },
    {
     "data": {
      "text/plain": [
       "{'불교': 62,\n",
       " '해운대': 140,\n",
       " '사찰': 68,\n",
       " '잡': 102,\n",
       " '없': 83,\n",
       " '하': 135,\n",
       " '분위기': 61,\n",
       " '장소': 103,\n",
       " '해안': 139,\n",
       " '근처': 18,\n",
       " '가': 0,\n",
       " '도착': 33,\n",
       " '곳': 13,\n",
       " '계단': 11,\n",
       " '올라가': 89,\n",
       " '지역': 120,\n",
       " '느낌': 25,\n",
       " '들어가': 40,\n",
       " '사람': 64,\n",
       " '좋': 112,\n",
       " '바다': 50,\n",
       " '보': 59,\n",
       " '도시': 32,\n",
       " '산': 69,\n",
       " '산책': 70,\n",
       " '입구': 98,\n",
       " '방문': 56,\n",
       " '보이': 60,\n",
       " '같': 3,\n",
       " '필요': 134,\n",
       " '되': 38,\n",
       " '역사': 86,\n",
       " '일부': 97,\n",
       " '제공': 111,\n",
       " '찾': 124,\n",
       " '명소': 47,\n",
       " '주말': 113,\n",
       " '관광': 14,\n",
       " '주차장': 116,\n",
       " '시간': 75,\n",
       " '생각': 71,\n",
       " '주변': 114,\n",
       " '바닷가': 51,\n",
       " '경치': 9,\n",
       " '도로': 31,\n",
       " '사진': 67,\n",
       " '찍': 122,\n",
       " '작': 101,\n",
       " '위치': 92,\n",
       " '얻': 82,\n",
       " '절': 107,\n",
       " '때': 41,\n",
       " '많': 42,\n",
       " '바위': 53,\n",
       " '전체': 106,\n",
       " '돌': 35,\n",
       " '길': 21,\n",
       " '투어': 130,\n",
       " '전망': 105,\n",
       " '아름답': 77,\n",
       " '앞': 80,\n",
       " '즐기': 118,\n",
       " '쉽': 74,\n",
       " '풍경': 133,\n",
       " '관광객': 15,\n",
       " '추천': 126,\n",
       " '다음': 27,\n",
       " '여행': 84,\n",
       " '차': 123,\n",
       " '말': 43,\n",
       " '위': 91,\n",
       " '정도': 109,\n",
       " '들': 39,\n",
       " '최고': 125,\n",
       " '경우': 8,\n",
       " '하이킹': 137,\n",
       " '가치': 2,\n",
       " '지하철': 121,\n",
       " '역': 85,\n",
       " '후': 142,\n",
       " '다리': 26,\n",
       " '이상': 94,\n",
       " '걷': 6,\n",
       " '전': 104,\n",
       " '택시': 129,\n",
       " '음식': 93,\n",
       " '가지': 1,\n",
       " '먹': 45,\n",
       " '버스': 58,\n",
       " '거리': 4,\n",
       " '타': 128,\n",
       " '날': 23,\n",
       " '평화': 132,\n",
       " '성전': 72,\n",
       " '정류장': 110,\n",
       " '도달': 30,\n",
       " '동안': 37,\n",
       " '일': 96,\n",
       " '흥미': 143,\n",
       " '인상': 95,\n",
       " '편안': 131,\n",
       " '밖': 54,\n",
       " '주요': 115,\n",
       " '기도': 20,\n",
       " '물': 49,\n",
       " '아침': 78,\n",
       " '해변': 138,\n",
       " '하루': 136,\n",
       " '알': 79,\n",
       " '대부분': 29,\n",
       " '절벽': 108,\n",
       " '자연': 99,\n",
       " '출구': 127,\n",
       " '걸': 7,\n",
       " '방법': 57,\n",
       " '그림': 17,\n",
       " '멋지': 46,\n",
       " '옆': 87,\n",
       " '받': 55,\n",
       " '고요': 12,\n",
       " '경험': 10,\n",
       " '사용': 66,\n",
       " '건물': 5,\n",
       " '오': 88,\n",
       " '언덕': 81,\n",
       " '준비': 117,\n",
       " '자체': 100,\n",
       " '날씨': 24,\n",
       " '신발': 76,\n",
       " '독특': 34,\n",
       " '사랑': 65,\n",
       " '단계': 28,\n",
       " '궁사': 16,\n",
       " '혼잡': 141,\n",
       " '붐비': 63,\n",
       " '바람': 52,\n",
       " '지': 119,\n",
       " '동상': 36,\n",
       " '나무': 22,\n",
       " '무료': 48,\n",
       " '소원': 73,\n",
       " '용': 90,\n",
       " '기념품': 19,\n",
       " '매력': 44}"
      ]
     },
     "execution_count": 131,
     "metadata": {},
     "output_type": "execute_result"
    }
   ],
   "source": [
    "cv_history=CountVectorizer(\n",
    "    min_df=0.03,\n",
    "    max_df=0.5,\n",
    "    ngram_range=(1,1),\n",
    "    tokenizer=lambda x: x.split())\n",
    "\n",
    "history_X=cv_history.fit_transform(history['word'])\n",
    "\n",
    "print(history_X.shape)\n",
    "cv_history.vocabulary_"
   ]
  },
  {
   "cell_type": "code",
   "execution_count": 132,
   "id": "35772739",
   "metadata": {},
   "outputs": [
    {
     "name": "stdout",
     "output_type": "stream",
     "text": [
      "기능 수 : 144\n",
      "['가', '가지', '가치', '같', '거리', '건물', '걷', '걸', '경우', '경치', '경험', '계단', '고요', '곳', '관광', '관광객', '궁사', '그림', '근처', '기념품', '기도', '길', '나무', '날', '날씨', '느낌', '다리', '다음', '단계', '대부분', '도달', '도로', '도시', '도착', '독특', '돌', '동상', '동안', '되', '들', '들어가', '때', '많', '말', '매력', '먹', '멋지', '명소', '무료', '물', '바다', '바닷가', '바람', '바위', '밖', '받', '방문', '방법', '버스', '보', '보이', '분위기', '불교', '붐비', '사람', '사랑', '사용', '사진', '사찰', '산', '산책', '생각', '성전', '소원', '쉽', '시간', '신발', '아름답', '아침', '알', '앞', '언덕', '얻', '없', '여행', '역', '역사', '옆', '오', '올라가', '용', '위', '위치', '음식', '이상', '인상', '일', '일부', '입구', '자연', '자체', '작', '잡', '장소', '전', '전망', '전체', '절', '절벽', '정도', '정류장', '제공', '좋', '주말', '주변', '주요', '주차장', '준비', '즐기', '지', '지역', '지하철', '찍', '차', '찾', '최고', '추천', '출구', '타', '택시', '투어', '편안', '평화', '풍경', '필요', '하', '하루', '하이킹', '해변', '해안', '해운대', '혼잡', '후', '흥미']\n"
     ]
    }
   ],
   "source": [
    "history_names=cv_history.get_feature_names()\n",
    "print ( \"기능 수 : {}\". format (len (history_names)))\n",
    "print(history_names)"
   ]
  },
  {
   "cell_type": "code",
   "execution_count": 133,
   "id": "c7157260",
   "metadata": {},
   "outputs": [
    {
     "name": "stdout",
     "output_type": "stream",
     "text": [
      "Best cross-validation score: 0.85\n",
      "Best parameters:  {'C': 0.01}\n",
      "Best estimator:  LogisticRegression(C=0.01)\n"
     ]
    }
   ],
   "source": [
    "from sklearn.model_selection import GridSearchCV\n",
    "from sklearn.linear_model import LogisticRegression\n",
    "\n",
    "param_grid={'C':[0.001,0.01,0.1,1,10]}\n",
    "grid=GridSearchCV(LogisticRegression(),param_grid,cv=5)\n",
    "grid.fit(history_X,history['score'])\n",
    "\n",
    "print(\"Best cross-validation score: {:.2f}\".format(grid.best_score_))\n",
    "print(\"Best parameters: \", grid.best_params_)\n",
    "print(\"Best estimator: \", grid.best_estimator_)"
   ]
  },
  {
   "cell_type": "code",
   "execution_count": 134,
   "id": "9079e072",
   "metadata": {},
   "outputs": [
    {
     "name": "stderr",
     "output_type": "stream",
     "text": [
      "C:\\Users\\pthdu\\anaconda3\\envs\\nltk\\lib\\site-packages\\matplotlib\\backends\\backend_agg.py:240: RuntimeWarning: Glyph 8722 missing from current font.\n",
      "  font.set_text(s, 0.0, flags=flags)\n",
      "C:\\Users\\pthdu\\anaconda3\\envs\\nltk\\lib\\site-packages\\matplotlib\\backends\\backend_agg.py:203: RuntimeWarning: Glyph 8722 missing from current font.\n",
      "  font.set_text(s, 0, flags=flags)\n"
     ]
    },
    {
     "data": {
      "image/png": "[encoded data removed]",
      "text/plain": [
       "<Figure size 1080x360 with 1 Axes>"
      ]
     },
     "metadata": {
      "needs_background": "light"
     },
     "output_type": "display_data"
    }
   ],
   "source": [
    "import matplotlib\n",
    "import matplotlib.pyplot as plt\n",
    "import mglearn\n",
    "import matplotlib.font_manager as fm\n",
    "\n",
    "font_location=r'C:\\Windows\\Fonts\\H2PORM.TTF'\n",
    "font_name=fm.FontProperties(fname=font_location).get_name()\n",
    "matplotlib.rc('font',family=font_name)\n",
    "mglearn.tools.visualize_coefficients(grid.best_estimator_.coef_, history_names, n_top_features=20)\n",
    "plt.show()"
   ]
  },
  {
   "cell_type": "markdown",
   "id": "9f5f98f9",
   "metadata": {},
   "source": [
    "# 체험"
   ]
  },
  {
   "cell_type": "code",
   "execution_count": 175,
   "id": "996d5509",
   "metadata": {},
   "outputs": [
    {
     "name": "stdout",
     "output_type": "stream",
     "text": [
      "(1440, 179)\n"
     ]
    },
    {
     "data": {
      "text/plain": [
       "{'최고': 155,\n",
       " '하루': 171,\n",
       " '위치': 118,\n",
       " '해운대': 174,\n",
       " '보이': 63,\n",
       " '기분': 17,\n",
       " '야외': 100,\n",
       " '풀': 169,\n",
       " '여행': 103,\n",
       " '자리': 134,\n",
       " '비싸': 69,\n",
       " '물': 53,\n",
       " '즐기': 148,\n",
       " '이용': 123,\n",
       " '식사': 89,\n",
       " '옆': 107,\n",
       " '레스토랑': 39,\n",
       " '다음': 28,\n",
       " '날': 19,\n",
       " '아침': 93,\n",
       " '택시': 165,\n",
       " '거리': 7,\n",
       " '평일': 168,\n",
       " '밤': 58,\n",
       " '야경': 99,\n",
       " '보': 61,\n",
       " '오': 109,\n",
       " '층': 158,\n",
       " '안': 94,\n",
       " '영어': 105,\n",
       " '일본어': 128,\n",
       " '방법': 59,\n",
       " '밖': 56,\n",
       " '들어가': 35,\n",
       " '느낌': 26,\n",
       " '시티': 87,\n",
       " '처음': 153,\n",
       " '체험': 154,\n",
       " '몸': 50,\n",
       " '괜찮': 14,\n",
       " '먹': 49,\n",
       " '음식': 120,\n",
       " '기대': 16,\n",
       " '이상': 122,\n",
       " '앉': 95,\n",
       " '식당': 88,\n",
       " '맛있': 47,\n",
       " '알': 96,\n",
       " '일반': 127,\n",
       " '요금': 114,\n",
       " '온도': 111,\n",
       " '종류': 144,\n",
       " '다양': 27,\n",
       " '마사지': 43,\n",
       " '놀': 24,\n",
       " '공간': 12,\n",
       " '수영장': 83,\n",
       " '선택': 78,\n",
       " '크': 162,\n",
       " '외국인': 113,\n",
       " '가족': 1,\n",
       " '사우나': 73,\n",
       " '작': 136,\n",
       " '아이': 92,\n",
       " '커플': 161,\n",
       " '마지막': 45,\n",
       " '부분': 64,\n",
       " '주': 145,\n",
       " '이후': 125,\n",
       " '돈': 31,\n",
       " '가지': 2,\n",
       " '자신': 135,\n",
       " '서비스': 77,\n",
       " '일': 126,\n",
       " '필요': 170,\n",
       " '취하': 157,\n",
       " '주말': 146,\n",
       " '말': 46,\n",
       " '도착': 30,\n",
       " '욕조': 117,\n",
       " '바디': 55,\n",
       " '호텔': 176,\n",
       " '자': 133,\n",
       " '찾': 152,\n",
       " '바닥': 54,\n",
       " '전': 140,\n",
       " '역': 104,\n",
       " '지하철': 150,\n",
       " '저녁': 139,\n",
       " '사랑': 70,\n",
       " '일부': 129,\n",
       " '대부분': 29,\n",
       " '사우': 72,\n",
       " '가치': 3,\n",
       " '슈퍼': 85,\n",
       " '근처': 15,\n",
       " '높': 25,\n",
       " '맥주': 48,\n",
       " '영역': 106,\n",
       " '추가': 156,\n",
       " '낮': 21,\n",
       " '알몸': 97,\n",
       " '지불': 149,\n",
       " '옷': 112,\n",
       " '입': 130,\n",
       " '이전': 124,\n",
       " '분리': 65,\n",
       " '개인': 4,\n",
       " '직원': 151,\n",
       " '세계': 79,\n",
       " '남성': 20,\n",
       " '여성': 102,\n",
       " '쉽': 84,\n",
       " '제공': 143,\n",
       " '준비': 147,\n",
       " '얻': 101,\n",
       " '문화': 52,\n",
       " '무료': 51,\n",
       " '가능': 0,\n",
       " '확인': 178,\n",
       " '오후': 110,\n",
       " '수건': 82,\n",
       " '신발': 90,\n",
       " '사물함': 71,\n",
       " '넣': 23,\n",
       " '샤워': 75,\n",
       " '혼잡': 177,\n",
       " '사진': 74,\n",
       " '돌': 32,\n",
       " '욕실': 116,\n",
       " '키': 163,\n",
       " '로커': 40,\n",
       " '시도': 86,\n",
       " '앞': 98,\n",
       " '객실': 5,\n",
       " '보내': 62,\n",
       " '비교': 68,\n",
       " '재미': 137,\n",
       " '걷': 8,\n",
       " '마시': 44,\n",
       " '들': 34,\n",
       " '요리': 115,\n",
       " '음료': 119,\n",
       " '샴푸': 76,\n",
       " '한국어': 172,\n",
       " '룸': 42,\n",
       " '손': 80,\n",
       " '현대': 175,\n",
       " '땀': 36,\n",
       " '입장료': 132,\n",
       " '입구': 131,\n",
       " '때밀이': 37,\n",
       " '전체': 141,\n",
       " '관광객': 13,\n",
       " '넓': 22,\n",
       " '재미있': 138,\n",
       " '분위기': 66,\n",
       " '친절': 159,\n",
       " '탈출': 164,\n",
       " '예약': 108,\n",
       " '게임': 9,\n",
       " '테마': 166,\n",
       " '할인': 173,\n",
       " '긴장': 18,\n",
       " '경우': 10,\n",
       " '드': 33,\n",
       " '카지노': 160,\n",
       " '룰렛': 41,\n",
       " '전통': 142,\n",
       " '테이블': 167,\n",
       " '백화점': 60,\n",
       " '고급': 11,\n",
       " '비': 67,\n",
       " '쇼핑': 81,\n",
       " '신세계': 91,\n",
       " '발': 57,\n",
       " '거대': 6,\n",
       " '랜드': 38,\n",
       " '의자': 121}"
      ]
     },
     "execution_count": 175,
     "metadata": {},
     "output_type": "execute_result"
    }
   ],
   "source": [
    "cv_experience=CountVectorizer(\n",
    "    min_df=0.03,\n",
    "    max_df=0.1,\n",
    "    ngram_range=(1,1),\n",
    "    tokenizer=lambda x: x.split())\n",
    "\n",
    "experience_X=cv_experience.fit_transform(experience['word'])\n",
    "\n",
    "print(experience_X.shape)\n",
    "cv_experience.vocabulary_"
   ]
  },
  {
   "cell_type": "code",
   "execution_count": 176,
   "id": "b89d7101",
   "metadata": {},
   "outputs": [
    {
     "name": "stdout",
     "output_type": "stream",
     "text": [
      "기능 수 : 179\n",
      "['가능', '가족', '가지', '가치', '개인', '객실', '거대', '거리', '걷', '게임', '경우', '고급', '공간', '관광객', '괜찮', '근처', '기대', '기분', '긴장', '날', '남성', '낮', '넓', '넣', '놀', '높', '느낌', '다양', '다음', '대부분', '도착', '돈', '돌', '드', '들', '들어가', '땀', '때밀이', '랜드', '레스토랑', '로커', '룰렛', '룸', '마사지', '마시', '마지막', '말', '맛있', '맥주', '먹', '몸', '무료', '문화', '물', '바닥', '바디', '밖', '발', '밤', '방법', '백화점', '보', '보내', '보이', '부분', '분리', '분위기', '비', '비교', '비싸', '사랑', '사물함', '사우', '사우나', '사진', '샤워', '샴푸', '서비스', '선택', '세계', '손', '쇼핑', '수건', '수영장', '쉽', '슈퍼', '시도', '시티', '식당', '식사', '신발', '신세계', '아이', '아침', '안', '앉', '알', '알몸', '앞', '야경', '야외', '얻', '여성', '여행', '역', '영어', '영역', '옆', '예약', '오', '오후', '온도', '옷', '외국인', '요금', '요리', '욕실', '욕조', '위치', '음료', '음식', '의자', '이상', '이용', '이전', '이후', '일', '일반', '일본어', '일부', '입', '입구', '입장료', '자', '자리', '자신', '작', '재미', '재미있', '저녁', '전', '전체', '전통', '제공', '종류', '주', '주말', '준비', '즐기', '지불', '지하철', '직원', '찾', '처음', '체험', '최고', '추가', '취하', '층', '친절', '카지노', '커플', '크', '키', '탈출', '택시', '테마', '테이블', '평일', '풀', '필요', '하루', '한국어', '할인', '해운대', '현대', '호텔', '혼잡', '확인']\n"
     ]
    }
   ],
   "source": [
    "experience_names=cv_experience.get_feature_names()\n",
    "print ( \"기능 수 : {}\". format (len (experience_names)))\n",
    "print(experience_names)"
   ]
  },
  {
   "cell_type": "code",
   "execution_count": 178,
   "id": "e4420786",
   "metadata": {},
   "outputs": [
    {
     "name": "stdout",
     "output_type": "stream",
     "text": [
      "Best cross-validation score: 0.82\n",
      "Best parameters:  {'C': 0.001}\n",
      "Best estimator:  LogisticRegression(C=0.001)\n"
     ]
    }
   ],
   "source": [
    "from sklearn.model_selection import GridSearchCV\n",
    "from sklearn.linear_model import LogisticRegression\n",
    "\n",
    "param_grid={'C':[0.001,0.01,0.1,1,10]}\n",
    "grid=GridSearchCV(LogisticRegression(),param_grid,cv=5)\n",
    "grid.fit(experience_X,experience['score'])\n",
    "\n",
    "print(\"Best cross-validation score: {:.2f}\".format(grid.best_score_))\n",
    "print(\"Best parameters: \", grid.best_params_)\n",
    "print(\"Best estimator: \", grid.best_estimator_)"
   ]
  },
  {
   "cell_type": "code",
   "execution_count": 179,
   "id": "5f05632a",
   "metadata": {},
   "outputs": [
    {
     "name": "stderr",
     "output_type": "stream",
     "text": [
      "C:\\Users\\pthdu\\anaconda3\\envs\\nltk\\lib\\site-packages\\matplotlib\\backends\\backend_agg.py:240: RuntimeWarning: Glyph 8722 missing from current font.\n",
      "  font.set_text(s, 0.0, flags=flags)\n",
      "C:\\Users\\pthdu\\anaconda3\\envs\\nltk\\lib\\site-packages\\matplotlib\\backends\\backend_agg.py:203: RuntimeWarning: Glyph 8722 missing from current font.\n",
      "  font.set_text(s, 0, flags=flags)\n"
     ]
    },
    {
     "data": {
      "image/png": "[encoded data removed]",
      "text/plain": [
       "<Figure size 1080x360 with 1 Axes>"
      ]
     },
     "metadata": {
      "needs_background": "light"
     },
     "output_type": "display_data"
    }
   ],
   "source": [
    "import matplotlib\n",
    "import matplotlib.pyplot as plt\n",
    "import mglearn\n",
    "import matplotlib.font_manager as fm\n",
    "\n",
    "font_location=r'C:\\Windows\\Fonts\\H2PORM.TTF'\n",
    "font_name=fm.FontProperties(fname=font_location).get_name()\n",
    "matplotlib.rc('font',family=font_name)\n",
    "mglearn.tools.visualize_coefficients(grid.best_estimator_.coef_, experience_names, n_top_features=20)\n",
    "plt.show()"
   ]
  },
  {
   "cell_type": "markdown",
   "id": "670a14d5",
   "metadata": {},
   "source": [
    "# 경관"
   ]
  },
  {
   "cell_type": "code",
   "execution_count": 221,
   "id": "f4dffe2c",
   "metadata": {},
   "outputs": [
    {
     "name": "stdout",
     "output_type": "stream",
     "text": [
      "(5884, 297)\n"
     ]
    },
    {
     "data": {
      "text/plain": [
       "{'식사': 152,\n",
       " '모르': 98,\n",
       " '커피': 255,\n",
       " '바라보': 105,\n",
       " '올라가': 179,\n",
       " '후': 292,\n",
       " '식당': 151,\n",
       " '자연': 207,\n",
       " '맑': 90,\n",
       " '물': 102,\n",
       " '분위기': 120,\n",
       " '산책로': 133,\n",
       " '공사': 23,\n",
       " '앞': 161,\n",
       " '시작': 149,\n",
       " '마을': 84,\n",
       " '나오': 50,\n",
       " '걸': 11,\n",
       " '중심': 235,\n",
       " '위치': 184,\n",
       " '주위': 231,\n",
       " '트': 266,\n",
       " '가능': 2,\n",
       " '입구': 201,\n",
       " '괜찮': 29,\n",
       " '넓': 56,\n",
       " '국제': 33,\n",
       " '시민': 147,\n",
       " '항구': 281,\n",
       " '주': 227,\n",
       " '바람': 106,\n",
       " '여름': 169,\n",
       " '느낌': 64,\n",
       " '받': 109,\n",
       " '관광': 24,\n",
       " '명소': 97,\n",
       " '건물': 10,\n",
       " '정도': 220,\n",
       " '아침': 157,\n",
       " '배': 114,\n",
       " '뒤': 77,\n",
       " '느끼': 63,\n",
       " '공간': 20,\n",
       " '시설': 148,\n",
       " '늘': 65,\n",
       " '세계': 139,\n",
       " '다음': 67,\n",
       " '안': 158,\n",
       " '상점': 135,\n",
       " '판매': 269,\n",
       " '적': 213,\n",
       " '터미널': 262,\n",
       " '사': 128,\n",
       " '이전': 192,\n",
       " '가깝': 1,\n",
       " '기대': 39,\n",
       " '지하철': 239,\n",
       " '도보': 72,\n",
       " '접근': 219,\n",
       " '만들': 88,\n",
       " '점': 218,\n",
       " '끝': 47,\n",
       " '모습': 99,\n",
       " '교통': 30,\n",
       " '여유': 170,\n",
       " '알': 160,\n",
       " '이용': 191,\n",
       " '기다리': 38,\n",
       " '앉': 159,\n",
       " '상징': 136,\n",
       " '아이': 156,\n",
       " '비교': 126,\n",
       " '백화점': 115,\n",
       " '전': 214,\n",
       " '가운데': 3,\n",
       " '기억': 41,\n",
       " '처음': 245,\n",
       " '시티': 150,\n",
       " '전망대': 215,\n",
       " '눈': 62,\n",
       " '장면': 210,\n",
       " '구경': 31,\n",
       " '관광객': 25,\n",
       " '자갈치': 204,\n",
       " '기회': 43,\n",
       " '간식': 6,\n",
       " '친절': 252,\n",
       " '시내': 145,\n",
       " '연결': 172,\n",
       " '페리': 270,\n",
       " '편리': 271,\n",
       " '출구': 249,\n",
       " '지하철역': 240,\n",
       " '이번': 189,\n",
       " '밖': 108,\n",
       " '호텔': 288,\n",
       " '사이': 131,\n",
       " '들': 78,\n",
       " '크': 259,\n",
       " '마시': 83,\n",
       " '집': 241,\n",
       " '자체': 208,\n",
       " '최고': 247,\n",
       " '택시': 261,\n",
       " '일몰': 197,\n",
       " '경험': 17,\n",
       " '언덕': 164,\n",
       " '즐기': 237,\n",
       " '공기': 22,\n",
       " '운동': 180,\n",
       " '하루': 276,\n",
       " '흥미': 295,\n",
       " '얻': 165,\n",
       " '가족': 4,\n",
       " '방법': 112,\n",
       " '아래': 155,\n",
       " '돈': 73,\n",
       " '지불': 238,\n",
       " '축제': 248,\n",
       " '주요': 230,\n",
       " '레스토랑': 82,\n",
       " '무료': 100,\n",
       " '일': 196,\n",
       " '동안': 76,\n",
       " '통과': 263,\n",
       " '쉽': 144,\n",
       " '제공': 223,\n",
       " '중간': 234,\n",
       " '해안': 284,\n",
       " '포함': 273,\n",
       " '투어': 265,\n",
       " '역사': 171,\n",
       " '놀랍': 58,\n",
       " '절벽': 217,\n",
       " '물고기': 103,\n",
       " '높': 60,\n",
       " '보내': 118,\n",
       " '사용': 130,\n",
       " '특별': 267,\n",
       " '일부': 200,\n",
       " '돌': 74,\n",
       " '가지': 5,\n",
       " '거대': 9,\n",
       " '신발': 153,\n",
       " '부분': 119,\n",
       " '필요': 274,\n",
       " '가격': 0,\n",
       " '대부분': 69,\n",
       " '늦': 66,\n",
       " '멋지': 96,\n",
       " '잡': 209,\n",
       " '옆': 175,\n",
       " '주차장': 232,\n",
       " '남': 53,\n",
       " '경우': 16,\n",
       " '경로': 15,\n",
       " '선택': 137,\n",
       " '손': 141,\n",
       " '구입': 32,\n",
       " '티켓': 268,\n",
       " '친구': 251,\n",
       " '편안': 272,\n",
       " '날': 51,\n",
       " '준비': 233,\n",
       " '재미': 211,\n",
       " '매력': 93,\n",
       " '멈추': 94,\n",
       " '들어가': 79,\n",
       " '잊': 203,\n",
       " '한국어': 278,\n",
       " '내리': 55,\n",
       " '혼잡': 289,\n",
       " '층': 250,\n",
       " '해산물': 282,\n",
       " '공급': 21,\n",
       " '업체': 167,\n",
       " '짧': 242,\n",
       " '산': 132,\n",
       " '나': 48,\n",
       " '확인': 290,\n",
       " '환상': 291,\n",
       " '하이킹': 277,\n",
       " '영화제': 174,\n",
       " '센터': 140,\n",
       " '인기': 194,\n",
       " '문화': 101,\n",
       " '종류': 226,\n",
       " '말': 89,\n",
       " '섬': 138,\n",
       " '맛': 91,\n",
       " '기차': 42,\n",
       " '인상': 195,\n",
       " '자신': 206,\n",
       " '발견': 111,\n",
       " '시도': 146,\n",
       " '오후': 178,\n",
       " '살': 134,\n",
       " '불꽃': 122,\n",
       " '위': 183,\n",
       " '사랑': 129,\n",
       " '현지': 286,\n",
       " '찍': 243,\n",
       " '주민': 229,\n",
       " '이상': 190,\n",
       " '꼭대기': 45,\n",
       " '전체': 216,\n",
       " '벤치': 117,\n",
       " '운전': 181,\n",
       " '정류장': 221,\n",
       " '케이블카': 256,\n",
       " '견해': 14,\n",
       " '음식점': 186,\n",
       " '휴식': 293,\n",
       " '마음': 85,\n",
       " '일본어': 199,\n",
       " '이동': 187,\n",
       " '마지막': 86,\n",
       " '한국인': 279,\n",
       " '비': 125,\n",
       " '엘리베이터': 168,\n",
       " '날씨': 52,\n",
       " '카페': 253,\n",
       " '기념품': 37,\n",
       " '귀가': 34,\n",
       " '일반': 198,\n",
       " '즐겁': 236,\n",
       " '오르': 177,\n",
       " '자리': 205,\n",
       " '벚꽃': 116,\n",
       " '촬영': 246,\n",
       " '겨울': 12,\n",
       " '그렇': 35,\n",
       " '기분': 40,\n",
       " '재미있': 212,\n",
       " '그림': 36,\n",
       " '인근': 193,\n",
       " '도로': 71,\n",
       " '바닥': 104,\n",
       " '발': 110,\n",
       " '넣': 57,\n",
       " '탑': 260,\n",
       " '라이트': 80,\n",
       " '업': 166,\n",
       " '조명': 225,\n",
       " '주말': 228,\n",
       " '높이': 61,\n",
       " '계단': 18,\n",
       " '예쁘': 176,\n",
       " '빛': 127,\n",
       " '광복': 28,\n",
       " '개인': 8,\n",
       " '감상': 7,\n",
       " '광': 27,\n",
       " '약간': 163,\n",
       " '한눈': 280,\n",
       " '망대': 92,\n",
       " '차': 244,\n",
       " '붐비': 124,\n",
       " '낮': 54,\n",
       " '코스': 258,\n",
       " '송도': 142,\n",
       " '유리': 185,\n",
       " '불': 121,\n",
       " '투명': 264,\n",
       " '야간': 162,\n",
       " '도달': 70,\n",
       " '방향': 113,\n",
       " '조망': 224,\n",
       " '하늘': 275,\n",
       " '불빛': 123,\n",
       " '정상': 222,\n",
       " '나무': 49,\n",
       " '워크': 182,\n",
       " '관광지': 26,\n",
       " '해수욕장': 283,\n",
       " '커플': 254,\n",
       " '바위': 107,\n",
       " '놀이': 59,\n",
       " '입장료': 202,\n",
       " '흔적': 294,\n",
       " '쇼': 143,\n",
       " '달맞이': 68,\n",
       " '멋있': 95,\n",
       " '랜드': 81,\n",
       " '영화': 173,\n",
       " '힘들': 296,\n",
       " '마크': 87,\n",
       " '길거리': 44,\n",
       " '이름': 188,\n",
       " '케이크': 257,\n",
       " '동상': 75,\n",
       " '행렬': 285,\n",
       " '꽃': 46,\n",
       " '씨앗': 154,\n",
       " '호떡': 287,\n",
       " '견과': 13,\n",
       " '계산서': 19}"
      ]
     },
     "execution_count": 221,
     "metadata": {},
     "output_type": "execute_result"
    }
   ],
   "source": [
    "cv_scene=CountVectorizer(\n",
    "    min_df=0.01,\n",
    "    max_df=0.05,\n",
    "    ngram_range=(1,1),\n",
    "    tokenizer=lambda x: x.split())\n",
    "\n",
    "scene_X=cv_scene.fit_transform(scene['word'])\n",
    "\n",
    "print(scene_X.shape)\n",
    "cv_scene.vocabulary_"
   ]
  },
  {
   "cell_type": "code",
   "execution_count": 222,
   "id": "a2b03d55",
   "metadata": {},
   "outputs": [
    {
     "name": "stdout",
     "output_type": "stream",
     "text": [
      "기능 수 : 297\n",
      "['가능', '가족', '가지', '가치', '개인', '객실', '거대', '거리', '걷', '게임', '경우', '고급', '공간', '관광객', '괜찮', '근처', '기대', '기분', '긴장', '날', '남성', '낮', '넓', '넣', '놀', '높', '느낌', '다양', '다음', '대부분', '도착', '돈', '돌', '드', '들', '들어가', '땀', '때밀이', '랜드', '레스토랑', '로커', '룰렛', '룸', '마사지', '마시', '마지막', '말', '맛있', '맥주', '먹', '몸', '무료', '문화', '물', '바닥', '바디', '밖', '발', '밤', '방법', '백화점', '보', '보내', '보이', '부분', '분리', '분위기', '비', '비교', '비싸', '사랑', '사물함', '사우', '사우나', '사진', '샤워', '샴푸', '서비스', '선택', '세계', '손', '쇼핑', '수건', '수영장', '쉽', '슈퍼', '시도', '시티', '식당', '식사', '신발', '신세계', '아이', '아침', '안', '앉', '알', '알몸', '앞', '야경', '야외', '얻', '여성', '여행', '역', '영어', '영역', '옆', '예약', '오', '오후', '온도', '옷', '외국인', '요금', '요리', '욕실', '욕조', '위치', '음료', '음식', '의자', '이상', '이용', '이전', '이후', '일', '일반', '일본어', '일부', '입', '입구', '입장료', '자', '자리', '자신', '작', '재미', '재미있', '저녁', '전', '전체', '전통', '제공', '종류', '주', '주말', '준비', '즐기', '지불', '지하철', '직원', '찾', '처음', '체험', '최고', '추가', '취하', '층', '친절', '카지노', '커플', '크', '키', '탈출', '택시', '테마', '테이블', '평일', '풀', '필요', '하루', '한국어', '할인', '해운대', '현대', '호텔', '혼잡', '확인']\n"
     ]
    }
   ],
   "source": [
    "scene_names=cv_scene.get_feature_names()\n",
    "print ( \"기능 수 : {}\". format (len (scene_names)))\n",
    "print(experience_names)"
   ]
  },
  {
   "cell_type": "code",
   "execution_count": 223,
   "id": "4ad77490",
   "metadata": {},
   "outputs": [
    {
     "name": "stderr",
     "output_type": "stream",
     "text": [
      "C:\\Users\\pthdu\\anaconda3\\envs\\nltk\\lib\\site-packages\\sklearn\\linear_model\\_logistic.py:765: ConvergenceWarning: lbfgs failed to converge (status=1):\n",
      "STOP: TOTAL NO. of ITERATIONS REACHED LIMIT.\n",
      "\n",
      "Increase the number of iterations (max_iter) or scale the data as shown in:\n",
      "    https://scikit-learn.org/stable/modules/preprocessing.html\n",
      "Please also refer to the documentation for alternative solver options:\n",
      "    https://scikit-learn.org/stable/modules/linear_model.html#logistic-regression\n",
      "  extra_warning_msg=_LOGISTIC_SOLVER_CONVERGENCE_MSG)\n",
      "C:\\Users\\pthdu\\anaconda3\\envs\\nltk\\lib\\site-packages\\sklearn\\linear_model\\_logistic.py:765: ConvergenceWarning: lbfgs failed to converge (status=1):\n",
      "STOP: TOTAL NO. of ITERATIONS REACHED LIMIT.\n",
      "\n",
      "Increase the number of iterations (max_iter) or scale the data as shown in:\n",
      "    https://scikit-learn.org/stable/modules/preprocessing.html\n",
      "Please also refer to the documentation for alternative solver options:\n",
      "    https://scikit-learn.org/stable/modules/linear_model.html#logistic-regression\n",
      "  extra_warning_msg=_LOGISTIC_SOLVER_CONVERGENCE_MSG)\n"
     ]
    },
    {
     "name": "stdout",
     "output_type": "stream",
     "text": [
      "Best cross-validation score: 0.76\n",
      "Best parameters:  {'C': 0.01}\n",
      "Best estimator:  LogisticRegression(C=0.01)\n"
     ]
    }
   ],
   "source": [
    "from sklearn.model_selection import GridSearchCV\n",
    "from sklearn.linear_model import LogisticRegression\n",
    "\n",
    "param_grid={'C':[0.001,0.01,0.1,1,10]}\n",
    "grid=GridSearchCV(LogisticRegression(),param_grid,cv=5)\n",
    "grid.fit(scene_X,scene['score'])\n",
    "\n",
    "print(\"Best cross-validation score: {:.2f}\".format(grid.best_score_))\n",
    "print(\"Best parameters: \", grid.best_params_)\n",
    "print(\"Best estimator: \", grid.best_estimator_)"
   ]
  },
  {
   "cell_type": "code",
   "execution_count": 225,
   "id": "8f8364bb",
   "metadata": {},
   "outputs": [
    {
     "data": {
      "image/png": "[encoded data removed]",
      "text/plain": [
       "<Figure size 1080x360 with 1 Axes>"
      ]
     },
     "metadata": {
      "needs_background": "light"
     },
     "output_type": "display_data"
    }
   ],
   "source": [
    "import matplotlib\n",
    "import matplotlib.pyplot as plt\n",
    "import mglearn\n",
    "import matplotlib.font_manager as fm\n",
    "\n",
    "font_location=r'C:\\Windows\\Fonts\\H2PORM.TTF'\n",
    "font_name=fm.FontProperties(fname=font_location).get_name()\n",
    "matplotlib.rc('font',family=font_name)\n",
    "mglearn.tools.visualize_coefficients(grid.best_estimator_.coef_, scene_names, n_top_features=20)\n",
    "plt.show()"
   ]
  },
  {
   "cell_type": "markdown",
   "id": "a0ca6375",
   "metadata": {},
   "source": [
    "# 쇼핑"
   ]
  },
  {
   "cell_type": "code",
   "execution_count": 241,
   "id": "61563fcc",
   "metadata": {},
   "outputs": [
    {
     "name": "stdout",
     "output_type": "stream",
     "text": [
      "(3811, 140)\n"
     ]
    },
    {
     "data": {
      "text/plain": [
       "{'쇼핑': 70,\n",
       " '좋': 111,\n",
       " '브랜드': 56,\n",
       " '많': 39,\n",
       " '푸드': 129,\n",
       " '되': 34,\n",
       " '같': 5,\n",
       " '작': 99,\n",
       " '생각': 66,\n",
       " '들': 35,\n",
       " '건물': 8,\n",
       " '느낌': 28,\n",
       " '때': 36,\n",
       " '오': 88,\n",
       " '신발': 78,\n",
       " '곳': 14,\n",
       " '가격': 2,\n",
       " '방문': 52,\n",
       " '물건': 45,\n",
       " '찾': 118,\n",
       " '정도': 107,\n",
       " '옷': 89,\n",
       " '하': 131,\n",
       " '맛': 41,\n",
       " '먹': 43,\n",
       " '추천': 120,\n",
       " '백화점': 53,\n",
       " '구입': 18,\n",
       " '크': 123,\n",
       " '근처': 20,\n",
       " '위치': 92,\n",
       " '세계': 69,\n",
       " '층': 121,\n",
       " '종류': 110,\n",
       " '사람': 59,\n",
       " '다양': 29,\n",
       " '필요': 130,\n",
       " '앞': 82,\n",
       " '선택': 68,\n",
       " '경험': 13,\n",
       " '쉽': 72,\n",
       " '판매': 125,\n",
       " '대부분': 31,\n",
       " '관광객': 16,\n",
       " '여행': 85,\n",
       " '시간': 73,\n",
       " '없': 84,\n",
       " '국제': 19,\n",
       " '경우': 12,\n",
       " '상점': 64,\n",
       " '사용': 61,\n",
       " '걷': 9,\n",
       " '날': 24,\n",
       " '쇼핑몰': 71,\n",
       " '거리': 7,\n",
       " '후': 138,\n",
       " '지역': 115,\n",
       " '높': 27,\n",
       " '일부': 97,\n",
       " '준비': 114,\n",
       " '가게': 1,\n",
       " '레스토랑': 37,\n",
       " '발견': 50,\n",
       " '알': 81,\n",
       " '마차': 38,\n",
       " '한국어': 132,\n",
       " '시도': 74,\n",
       " '최고': 119,\n",
       " '사': 58,\n",
       " '맛있': 42,\n",
       " '파': 124,\n",
       " '싸': 79,\n",
       " '음식': 93,\n",
       " '받': 49,\n",
       " '제공': 108,\n",
       " '보': 54,\n",
       " '호텔': 136,\n",
       " '관광': 15,\n",
       " '지하철': 117,\n",
       " '걸': 10,\n",
       " '얻': 83,\n",
       " '가': 0,\n",
       " '거대': 6,\n",
       " '동안': 33,\n",
       " '장소': 100,\n",
       " '일': 95,\n",
       " '가지': 3,\n",
       " '현지': 135,\n",
       " '해운대': 134,\n",
       " '의류': 94,\n",
       " '주변': 113,\n",
       " '가치': 4,\n",
       " '물': 44,\n",
       " '점심': 106,\n",
       " '식사': 76,\n",
       " '역': 86,\n",
       " '다음': 30,\n",
       " '돌': 32,\n",
       " '넓': 26,\n",
       " '옆': 87,\n",
       " '상품': 65,\n",
       " '편리': 127,\n",
       " '길': 22,\n",
       " '사진': 62,\n",
       " '일본어': 96,\n",
       " '친구': 122,\n",
       " '포장': 128,\n",
       " '자갈치': 98,\n",
       " '지하': 116,\n",
       " '기념품': 21,\n",
       " '말': 40,\n",
       " '전통': 105,\n",
       " '해산물': 133,\n",
       " '흥미': 139,\n",
       " '비싸': 57,\n",
       " '밖': 48,\n",
       " '식당': 75,\n",
       " '팔': 126,\n",
       " '게': 11,\n",
       " '제품': 109,\n",
       " '재미': 101,\n",
       " '물고기': 46,\n",
       " '생선': 67,\n",
       " '냄새': 25,\n",
       " '전': 103,\n",
       " '요리': 90,\n",
       " '아침': 80,\n",
       " '분위기': 55,\n",
       " '주문': 112,\n",
       " '구경': 17,\n",
       " '저녁': 102,\n",
       " '살': 63,\n",
       " '식품': 77,\n",
       " '활기': 137,\n",
       " '밤': 51,\n",
       " '바다': 47,\n",
       " '낙지': 23,\n",
       " '위층': 91,\n",
       " '전복': 104,\n",
       " '사시미': 60}"
      ]
     },
     "execution_count": 241,
     "metadata": {},
     "output_type": "execute_result"
    }
   ],
   "source": [
    "cv_shopping=CountVectorizer(\n",
    "    min_df=0.03,\n",
    "    max_df=0.5,\n",
    "    ngram_range=(1,1),\n",
    "    tokenizer=lambda x: x.split())\n",
    "\n",
    "shopping_X=cv_shopping.fit_transform(shopping['word'])\n",
    "\n",
    "print(shopping_X.shape)\n",
    "cv_shopping.vocabulary_"
   ]
  },
  {
   "cell_type": "code",
   "execution_count": 242,
   "id": "2fa6aff4",
   "metadata": {},
   "outputs": [
    {
     "name": "stdout",
     "output_type": "stream",
     "text": [
      "기능 수 : 140\n",
      "['가', '가게', '가격', '가지', '가치', '같', '거대', '거리', '건물', '걷', '걸', '게', '경우', '경험', '곳', '관광', '관광객', '구경', '구입', '국제', '근처', '기념품', '길', '낙지', '날', '냄새', '넓', '높', '느낌', '다양', '다음', '대부분', '돌', '동안', '되', '들', '때', '레스토랑', '마차', '많', '말', '맛', '맛있', '먹', '물', '물건', '물고기', '바다', '밖', '받', '발견', '밤', '방문', '백화점', '보', '분위기', '브랜드', '비싸', '사', '사람', '사시미', '사용', '사진', '살', '상점', '상품', '생각', '생선', '선택', '세계', '쇼핑', '쇼핑몰', '쉽', '시간', '시도', '식당', '식사', '식품', '신발', '싸', '아침', '알', '앞', '얻', '없', '여행', '역', '옆', '오', '옷', '요리', '위층', '위치', '음식', '의류', '일', '일본어', '일부', '자갈치', '작', '장소', '재미', '저녁', '전', '전복', '전통', '점심', '정도', '제공', '제품', '종류', '좋', '주문', '주변', '준비', '지역', '지하', '지하철', '찾', '최고', '추천', '층', '친구', '크', '파', '판매', '팔', '편리', '포장', '푸드', '필요', '하', '한국어', '해산물', '해운대', '현지', '호텔', '활기', '후', '흥미']\n"
     ]
    }
   ],
   "source": [
    "shopping_names=cv_shopping.get_feature_names()\n",
    "print ( \"기능 수 : {}\". format (len (shopping_names)))\n",
    "print(shopping_names)"
   ]
  },
  {
   "cell_type": "code",
   "execution_count": 243,
   "id": "cef039cb",
   "metadata": {},
   "outputs": [
    {
     "name": "stdout",
     "output_type": "stream",
     "text": [
      "Best cross-validation score: 0.69\n",
      "Best parameters:  {'C': 0.01}\n",
      "Best estimator:  LogisticRegression(C=0.01)\n"
     ]
    }
   ],
   "source": [
    "from sklearn.model_selection import GridSearchCV\n",
    "from sklearn.linear_model import LogisticRegression\n",
    "\n",
    "param_grid={'C':[0.001,0.01,0.1,1,10]}\n",
    "grid=GridSearchCV(LogisticRegression(),param_grid,cv=5)\n",
    "grid.fit(shopping_X,shopping['score'])\n",
    "\n",
    "print(\"Best cross-validation score: {:.2f}\".format(grid.best_score_))\n",
    "print(\"Best parameters: \", grid.best_params_)\n",
    "print(\"Best estimator: \", grid.best_estimator_)"
   ]
  },
  {
   "cell_type": "code",
   "execution_count": 244,
   "id": "7b055189",
   "metadata": {},
   "outputs": [
    {
     "name": "stderr",
     "output_type": "stream",
     "text": [
      "C:\\Users\\pthdu\\anaconda3\\envs\\nltk\\lib\\site-packages\\matplotlib\\backends\\backend_agg.py:240: RuntimeWarning: Glyph 8722 missing from current font.\n",
      "  font.set_text(s, 0.0, flags=flags)\n",
      "C:\\Users\\pthdu\\anaconda3\\envs\\nltk\\lib\\site-packages\\matplotlib\\backends\\backend_agg.py:203: RuntimeWarning: Glyph 8722 missing from current font.\n",
      "  font.set_text(s, 0, flags=flags)\n"
     ]
    },
    {
     "data": {
      "image/png": "[encoded data removed]",
      "text/plain": [
       "<Figure size 1080x360 with 1 Axes>"
      ]
     },
     "metadata": {
      "needs_background": "light"
     },
     "output_type": "display_data"
    }
   ],
   "source": [
    "import matplotlib\n",
    "import matplotlib.pyplot as plt\n",
    "import mglearn\n",
    "import matplotlib.font_manager as fm\n",
    "\n",
    "font_location=r'C:\\Windows\\Fonts\\H2PORM.TTF'\n",
    "font_name=fm.FontProperties(fname=font_location).get_name()\n",
    "matplotlib.rc('font',family=font_name)\n",
    "mglearn.tools.visualize_coefficients(grid.best_estimator_.coef_, shopping_names, n_top_features=20)\n",
    "plt.show()"
   ]
  },
  {
   "cell_type": "markdown",
   "id": "9ba1e710",
   "metadata": {},
   "source": [
    "# 축제"
   ]
  },
  {
   "cell_type": "code",
   "execution_count": 286,
   "id": "389bd6df",
   "metadata": {},
   "outputs": [
    {
     "name": "stdout",
     "output_type": "stream",
     "text": [
      "(19, 218)\n"
     ]
    },
    {
     "data": {
      "text/plain": [
       "{'최근': 183,\n",
       " '간': 4,\n",
       " '자리': 149,\n",
       " '중요': 167,\n",
       " '접하': 156,\n",
       " '각지': 3,\n",
       " '고품격': 17,\n",
       " '포기': 201,\n",
       " '고민': 16,\n",
       " '무대': 52,\n",
       " '인사': 141,\n",
       " '추가': 186,\n",
       " '해수욕장': 209,\n",
       " '부대': 67,\n",
       " '기간': 31,\n",
       " '셔틀버스': 84,\n",
       " '운행': 126,\n",
       " '옛날': 116,\n",
       " '떠올리': 44,\n",
       " '바닷가': 57,\n",
       " '중심지': 166,\n",
       " '분위기': 69,\n",
       " '여': 105,\n",
       " '바다': 56,\n",
       " '배경': 63,\n",
       " '영화배우': 113,\n",
       " '오픈': 119,\n",
       " '토크': 193,\n",
       " '회': 215,\n",
       " '유명': 132,\n",
       " '주말': 160,\n",
       " '집중': 171,\n",
       " '설치': 83,\n",
       " '생각': 80,\n",
       " '체험': 180,\n",
       " '야외': 99,\n",
       " '새벽': 79,\n",
       " '연속': 109,\n",
       " '패션': 197,\n",
       " '강추': 6,\n",
       " '기대': 33,\n",
       " '관람': 21,\n",
       " '티케': 194,\n",
       " '나라': 36,\n",
       " '예술': 114,\n",
       " '유일': 133,\n",
       " '일대': 143,\n",
       " '주차': 163,\n",
       " '지하': 169,\n",
       " '주차장': 164,\n",
       " '무료': 53,\n",
       " '기다리': 32,\n",
       " '페스티벌': 199,\n",
       " '빼놓': 71,\n",
       " '시민': 90,\n",
       " '돌아오': 41,\n",
       " '한때': 207,\n",
       " '우리나라': 125,\n",
       " '국민': 28,\n",
       " '받': 58,\n",
       " '극장가': 29,\n",
       " '중심': 165,\n",
       " '초창기': 181,\n",
       " '참여': 175,\n",
       " '열기': 110,\n",
       " '찬물': 173,\n",
       " '끼얹': 35,\n",
       " '사건': 73,\n",
       " '휘청거리': 216,\n",
       " '하루': 205,\n",
       " '정상': 157,\n",
       " '부당': 66,\n",
       " '간섭': 5,\n",
       " '압력': 97,\n",
       " '책임자': 177,\n",
       " '책임': 176,\n",
       " '앞': 98,\n",
       " '가꾸': 0,\n",
       " '본래': 64,\n",
       " '모습': 50,\n",
       " '스케일': 87,\n",
       " '볼거리': 65,\n",
       " '제공': 158,\n",
       " '개막식': 8,\n",
       " '구하': 27,\n",
       " '빠르': 70,\n",
       " '팬': 198,\n",
       " '시설물': 92,\n",
       " '스크린': 88,\n",
       " '곡': 18,\n",
       " '대표': 39,\n",
       " '오래': 118,\n",
       " '문화': 55,\n",
       " '완공': 123,\n",
       " '건물': 14,\n",
       " '멋있': 47,\n",
       " '유니크': 131,\n",
       " '어울리': 101,\n",
       " '스팟': 89,\n",
       " '홈페이지': 211,\n",
       " '표': 202,\n",
       " '필수': 204,\n",
       " '확인': 214,\n",
       " '가을': 1,\n",
       " '사': 72,\n",
       " '거리': 13,\n",
       " '광장': 23,\n",
       " '팝업': 196,\n",
       " '쇼핑': 85,\n",
       " '주요': 162,\n",
       " '명동': 49,\n",
       " '핸드': 210,\n",
       " '프린트': 203,\n",
       " '산책로': 76,\n",
       " '서명': 81,\n",
       " '근처': 30,\n",
       " '편리': 200,\n",
       " '위치': 130,\n",
       " '먹': 46,\n",
       " '경험': 15,\n",
       " '상단': 77,\n",
       " '매주': 45,\n",
       " '수요일': 86,\n",
       " '밤': 61,\n",
       " '개방': 11,\n",
       " '공기': 19,\n",
       " '입장료': 146,\n",
       " '앉': 95,\n",
       " '자신': 151,\n",
       " '음료': 135,\n",
       " '지하철': 170,\n",
       " '출구': 188,\n",
       " '시설': 91,\n",
       " '재생': 155,\n",
       " '화면': 213,\n",
       " '오늘날': 117,\n",
       " '놀랍': 37,\n",
       " '영어': 112,\n",
       " '친구': 191,\n",
       " '멋지': 48,\n",
       " '위': 129,\n",
       " '언급': 102,\n",
       " '언어': 103,\n",
       " '자막': 150,\n",
       " '괴롭히': 24,\n",
       " '이유': 140,\n",
       " '이륙': 137,\n",
       " '흥미': 217,\n",
       " '의상': 136,\n",
       " '입': 144,\n",
       " '해변': 208,\n",
       " '작': 152,\n",
       " '재미있': 154,\n",
       " '온라인': 121,\n",
       " '발': 59,\n",
       " '시스템': 93,\n",
       " '한국어': 206,\n",
       " '티켓': 195,\n",
       " '구매': 25,\n",
       " '발표': 60,\n",
       " '웹': 128,\n",
       " '사이트': 75,\n",
       " '방문': 62,\n",
       " '때': 43,\n",
       " '완화': 124,\n",
       " '대화': 40,\n",
       " '상자': 78,\n",
       " '사무소': 74,\n",
       " '개회식': 12,\n",
       " '구입': 26,\n",
       " '최대': 184,\n",
       " '여행': 107,\n",
       " '설영': 82,\n",
       " '단계': 38,\n",
       " '오후': 120,\n",
       " '같': 7,\n",
       " '최초': 185,\n",
       " '출신': 189,\n",
       " '처음': 178,\n",
       " '끄': 34,\n",
       " '관객': 20,\n",
       " '관점': 22,\n",
       " '재능': 153,\n",
       " '개발': 10,\n",
       " '촉진': 182,\n",
       " '지도자': 168,\n",
       " '자금원': 148,\n",
       " '연결': 108,\n",
       " '시장': 94,\n",
       " '개명': 9,\n",
       " '영구': 111,\n",
       " '가정': 2,\n",
       " '청중': 179,\n",
       " '인재': 142,\n",
       " '육성': 134,\n",
       " '홍보': 212,\n",
       " '측면': 190,\n",
       " '이사': 138,\n",
       " '자금': 147,\n",
       " '조달': 159,\n",
       " '원': 127,\n",
       " '묶': 54,\n",
       " '추진': 187,\n",
       " '북쪽': 68,\n",
       " '주변': 161,\n",
       " '입장권': 145,\n",
       " '얻': 104,\n",
       " '목적지': 51,\n",
       " '알': 96,\n",
       " '이외': 139,\n",
       " '어려움': 100,\n",
       " '카펫': 192,\n",
       " '여배우': 106,\n",
       " '드레스': 42,\n",
       " '차림': 172,\n",
       " '올해': 122,\n",
       " '예정': 115,\n",
       " '참석': 174}"
      ]
     },
     "execution_count": 286,
     "metadata": {},
     "output_type": "execute_result"
    }
   ],
   "source": [
    "cv_festival=CountVectorizer(\n",
    "    min_df=0.01,\n",
    "    max_df=0.1,\n",
    "    ngram_range=(1,1),\n",
    "    tokenizer=lambda x: x.split())\n",
    "\n",
    "festival_X=cv_festival.fit_transform(festival['word'])\n",
    "\n",
    "print(festival_X.shape)\n",
    "cv_festival.vocabulary_"
   ]
  },
  {
   "cell_type": "code",
   "execution_count": 287,
   "id": "c1634bad",
   "metadata": {},
   "outputs": [
    {
     "name": "stdout",
     "output_type": "stream",
     "text": [
      "기능 수 : 218\n",
      "['가꾸', '가을', '가정', '각지', '간', '간섭', '강추', '같', '개막식', '개명', '개발', '개방', '개회식', '거리', '건물', '경험', '고민', '고품격', '곡', '공기', '관객', '관람', '관점', '광장', '괴롭히', '구매', '구입', '구하', '국민', '극장가', '근처', '기간', '기다리', '기대', '끄', '끼얹', '나라', '놀랍', '단계', '대표', '대화', '돌아오', '드레스', '때', '떠올리', '매주', '먹', '멋있', '멋지', '명동', '모습', '목적지', '무대', '무료', '묶', '문화', '바다', '바닷가', '받', '발', '발표', '밤', '방문', '배경', '본래', '볼거리', '부당', '부대', '북쪽', '분위기', '빠르', '빼놓', '사', '사건', '사무소', '사이트', '산책로', '상단', '상자', '새벽', '생각', '서명', '설영', '설치', '셔틀버스', '쇼핑', '수요일', '스케일', '스크린', '스팟', '시민', '시설', '시설물', '시스템', '시장', '앉', '알', '압력', '앞', '야외', '어려움', '어울리', '언급', '언어', '얻', '여', '여배우', '여행', '연결', '연속', '열기', '영구', '영어', '영화배우', '예술', '예정', '옛날', '오늘날', '오래', '오픈', '오후', '온라인', '올해', '완공', '완화', '우리나라', '운행', '원', '웹', '위', '위치', '유니크', '유명', '유일', '육성', '음료', '의상', '이륙', '이사', '이외', '이유', '인사', '인재', '일대', '입', '입장권', '입장료', '자금', '자금원', '자리', '자막', '자신', '작', '재능', '재미있', '재생', '접하', '정상', '제공', '조달', '주말', '주변', '주요', '주차', '주차장', '중심', '중심지', '중요', '지도자', '지하', '지하철', '집중', '차림', '찬물', '참석', '참여', '책임', '책임자', '처음', '청중', '체험', '초창기', '촉진', '최근', '최대', '최초', '추가', '추진', '출구', '출신', '측면', '친구', '카펫', '토크', '티케', '티켓', '팝업', '패션', '팬', '페스티벌', '편리', '포기', '표', '프린트', '필수', '하루', '한국어', '한때', '해변', '해수욕장', '핸드', '홈페이지', '홍보', '화면', '확인', '회', '휘청거리', '흥미']\n"
     ]
    }
   ],
   "source": [
    "festival_names=cv_festival.get_feature_names()\n",
    "print ( \"기능 수 : {}\". format (len (festival_names)))\n",
    "print(festival_names)"
   ]
  },
  {
   "cell_type": "code",
   "execution_count": 289,
   "id": "623a38e5",
   "metadata": {},
   "outputs": [
    {
     "name": "stdout",
     "output_type": "stream",
     "text": [
      "Best cross-validation score: 0.80\n",
      "Best parameters:  {'C': 0.001}\n",
      "Best estimator:  LogisticRegression(C=0.001)\n"
     ]
    },
    {
     "name": "stderr",
     "output_type": "stream",
     "text": [
      "C:\\Users\\pthdu\\anaconda3\\envs\\nltk\\lib\\site-packages\\sklearn\\model_selection\\_split.py:668: UserWarning: The least populated class in y has only 4 members, which is less than n_splits=5.\n",
      "  % (min_groups, self.n_splits)), UserWarning)\n"
     ]
    }
   ],
   "source": [
    "from sklearn.model_selection import GridSearchCV\n",
    "from sklearn.linear_model import LogisticRegression\n",
    "\n",
    "param_grid={'C':[0.001,0.01,0.1,1,10]}\n",
    "grid=GridSearchCV(LogisticRegression(),param_grid,cv=5)\n",
    "grid.fit(festival_X,festival['score'])\n",
    "\n",
    "print(\"Best cross-validation score: {:.2f}\".format(grid.best_score_))\n",
    "print(\"Best parameters: \", grid.best_params_)\n",
    "print(\"Best estimator: \", grid.best_estimator_)"
   ]
  },
  {
   "cell_type": "code",
   "execution_count": 290,
   "id": "d5b5d070",
   "metadata": {},
   "outputs": [
    {
     "name": "stderr",
     "output_type": "stream",
     "text": [
      "C:\\Users\\pthdu\\anaconda3\\envs\\nltk\\lib\\site-packages\\matplotlib\\backends\\backend_agg.py:240: RuntimeWarning: Glyph 8722 missing from current font.\n",
      "  font.set_text(s, 0.0, flags=flags)\n",
      "C:\\Users\\pthdu\\anaconda3\\envs\\nltk\\lib\\site-packages\\matplotlib\\backends\\backend_agg.py:203: RuntimeWarning: Glyph 8722 missing from current font.\n",
      "  font.set_text(s, 0, flags=flags)\n"
     ]
    },
    {
     "data": {
      "image/png": "[encoded data removed]",
      "text/plain": [
       "<Figure size 1080x360 with 1 Axes>"
      ]
     },
     "metadata": {
      "needs_background": "light"
     },
     "output_type": "display_data"
    }
   ],
   "source": [
    "import matplotlib\n",
    "import matplotlib.pyplot as plt\n",
    "import mglearn\n",
    "import matplotlib.font_manager as fm\n",
    "\n",
    "font_location=r'C:\\Windows\\Fonts\\H2PORM.TTF'\n",
    "font_name=fm.FontProperties(fname=font_location).get_name()\n",
    "matplotlib.rc('font',family=font_name)\n",
    "mglearn.tools.visualize_coefficients(grid.best_estimator_.coef_, festival_names, n_top_features=20)\n",
    "plt.show()"
   ]
  },
  {
   "cell_type": "markdown",
   "id": "c9b9c978",
   "metadata": {},
   "source": [
    "# 기타"
   ]
  },
  {
   "cell_type": "code",
   "execution_count": 325,
   "id": "8de11992",
   "metadata": {},
   "outputs": [
    {
     "name": "stdout",
     "output_type": "stream",
     "text": [
      "(1057, 131)\n"
     ]
    },
    {
     "data": {
      "text/plain": [
       "{'앉': 64,\n",
       " '주위': 96,\n",
       " '중국어': 98,\n",
       " '경험': 9,\n",
       " '지역': 101,\n",
       " '혼잡': 127,\n",
       " '거리': 6,\n",
       " '길': 16,\n",
       " '이해': 79,\n",
       " '다음': 24,\n",
       " '위치': 75,\n",
       " '방문': 44,\n",
       " '도움': 27,\n",
       " '일': 80,\n",
       " '친절': 115,\n",
       " '가격': 0,\n",
       " '최고': 112,\n",
       " '서면': 55,\n",
       " '들': 32,\n",
       " '장소': 85,\n",
       " '직원': 104,\n",
       " '이상': 78,\n",
       " '주요': 95,\n",
       " '편안': 119,\n",
       " '동안': 30,\n",
       " '돌': 29,\n",
       " '오': 71,\n",
       " '받': 40,\n",
       " '보': 48,\n",
       " '수단': 58,\n",
       " '방면': 43,\n",
       " '처음': 110,\n",
       " '짐': 105,\n",
       " '앞': 65,\n",
       " '좌석': 93,\n",
       " '넓': 18,\n",
       " '경전철': 8,\n",
       " '차량': 108,\n",
       " '가능': 1,\n",
       " '액세스': 66,\n",
       " '갈': 4,\n",
       " '모르': 36,\n",
       " '호텔': 126,\n",
       " '정도': 91,\n",
       " '방송': 45,\n",
       " '표': 122,\n",
       " '느낌': 21,\n",
       " '목적지': 37,\n",
       " '지도': 99,\n",
       " '승차': 60,\n",
       " '나오': 17,\n",
       " '터미널': 117,\n",
       " '얻': 68,\n",
       " '제공': 92,\n",
       " '찾': 109,\n",
       " '선택': 57,\n",
       " '후': 130,\n",
       " '서비스': 56,\n",
       " '작': 84,\n",
       " '가치': 3,\n",
       " '마찬가지': 34,\n",
       " '빠르': 51,\n",
       " '철도': 111,\n",
       " '접근': 90,\n",
       " '편하': 121,\n",
       " '노선도': 19,\n",
       " '하루': 124,\n",
       " '다니': 22,\n",
       " '사': 52,\n",
       " '운전': 73,\n",
       " '구매': 13,\n",
       " '기계': 14,\n",
       " '문제': 39,\n",
       " '점': 89,\n",
       " '차': 106,\n",
       " '시설': 61,\n",
       " '대중': 26,\n",
       " '사상': 53,\n",
       " '안심': 63,\n",
       " '다르': 23,\n",
       " '운행': 74,\n",
       " '전철': 87,\n",
       " '가방': 2,\n",
       " '무인': 38,\n",
       " '어렵': 67,\n",
       " '일부': 81,\n",
       " '에스컬레이터': 69,\n",
       " '괜찮': 12,\n",
       " '계단': 10,\n",
       " '엘리베이터': 70,\n",
       " '지하철역': 103,\n",
       " '명소': 35,\n",
       " '관광객': 11,\n",
       " '표시': 123,\n",
       " '전하': 88,\n",
       " '출구': 113,\n",
       " '불편': 49,\n",
       " '비교': 50,\n",
       " '확인': 129,\n",
       " '주변': 94,\n",
       " '유용': 76,\n",
       " '라인': 33,\n",
       " '싸': 62,\n",
       " '전': 86,\n",
       " '기본': 15,\n",
       " '걷': 7,\n",
       " '지상': 100,\n",
       " '패스': 118,\n",
       " '이번': 77,\n",
       " '지하': 102,\n",
       " '방송국': 46,\n",
       " '발표': 42,\n",
       " '편의점': 120,\n",
       " '스테이션': 59,\n",
       " '노인': 20,\n",
       " '상점': 54,\n",
       " '운송': 72,\n",
       " '탐색': 116,\n",
       " '읽': 82,\n",
       " '충전': 114,\n",
       " '번호': 47,\n",
       " '주의': 97,\n",
       " '동전': 31,\n",
       " '자동': 83,\n",
       " '돈': 28,\n",
       " '한글': 125,\n",
       " '발매기': 41,\n",
       " '개찰구': 5,\n",
       " '차내': 107,\n",
       " '홈': 128,\n",
       " '대응': 25}"
      ]
     },
     "execution_count": 325,
     "metadata": {},
     "output_type": "execute_result"
    }
   ],
   "source": [
    "cv_etc=CountVectorizer(\n",
    "    min_df=0.02,\n",
    "    max_df=0.05,\n",
    "    ngram_range=(1,1),\n",
    "    tokenizer=lambda x: x.split())\n",
    "\n",
    "etc_X=cv_etc.fit_transform(etc['word'])\n",
    "\n",
    "print(etc_X.shape)\n",
    "cv_etc.vocabulary_"
   ]
  },
  {
   "cell_type": "code",
   "execution_count": 326,
   "id": "ef6d8f16",
   "metadata": {},
   "outputs": [
    {
     "name": "stdout",
     "output_type": "stream",
     "text": [
      "기능 수 : 131\n",
      "['가격', '가능', '가방', '가치', '갈', '개찰구', '거리', '걷', '경전철', '경험', '계단', '관광객', '괜찮', '구매', '기계', '기본', '길', '나오', '넓', '노선도', '노인', '느낌', '다니', '다르', '다음', '대응', '대중', '도움', '돈', '돌', '동안', '동전', '들', '라인', '마찬가지', '명소', '모르', '목적지', '무인', '문제', '받', '발매기', '발표', '방면', '방문', '방송', '방송국', '번호', '보', '불편', '비교', '빠르', '사', '사상', '상점', '서면', '서비스', '선택', '수단', '스테이션', '승차', '시설', '싸', '안심', '앉', '앞', '액세스', '어렵', '얻', '에스컬레이터', '엘리베이터', '오', '운송', '운전', '운행', '위치', '유용', '이번', '이상', '이해', '일', '일부', '읽', '자동', '작', '장소', '전', '전철', '전하', '점', '접근', '정도', '제공', '좌석', '주변', '주요', '주위', '주의', '중국어', '지도', '지상', '지역', '지하', '지하철역', '직원', '짐', '차', '차내', '차량', '찾', '처음', '철도', '최고', '출구', '충전', '친절', '탐색', '터미널', '패스', '편안', '편의점', '편하', '표', '표시', '하루', '한글', '호텔', '혼잡', '홈', '확인', '후']\n"
     ]
    }
   ],
   "source": [
    "etc_names=cv_etc.get_feature_names()\n",
    "print ( \"기능 수 : {}\". format (len (etc_names)))\n",
    "print(etc_names)"
   ]
  },
  {
   "cell_type": "code",
   "execution_count": 327,
   "id": "d7ddb14c",
   "metadata": {},
   "outputs": [
    {
     "name": "stdout",
     "output_type": "stream",
     "text": [
      "Best cross-validation score: 0.81\n",
      "Best parameters:  {'C': 0.001}\n",
      "Best estimator:  LogisticRegression(C=0.001)\n"
     ]
    }
   ],
   "source": [
    "from sklearn.model_selection import GridSearchCV\n",
    "from sklearn.linear_model import LogisticRegression\n",
    "\n",
    "param_grid={'C':[0.001,0.01,0.1,1,10]}\n",
    "grid=GridSearchCV(LogisticRegression(),param_grid,cv=5)\n",
    "grid.fit(etc_X,etc['score'])\n",
    "\n",
    "print(\"Best cross-validation score: {:.2f}\".format(grid.best_score_))\n",
    "print(\"Best parameters: \", grid.best_params_)\n",
    "print(\"Best estimator: \", grid.best_estimator_)"
   ]
  },
  {
   "cell_type": "code",
   "execution_count": 328,
   "id": "12fd1b79",
   "metadata": {},
   "outputs": [
    {
     "name": "stderr",
     "output_type": "stream",
     "text": [
      "C:\\Users\\pthdu\\anaconda3\\envs\\nltk\\lib\\site-packages\\matplotlib\\backends\\backend_agg.py:240: RuntimeWarning: Glyph 8722 missing from current font.\n",
      "  font.set_text(s, 0.0, flags=flags)\n",
      "C:\\Users\\pthdu\\anaconda3\\envs\\nltk\\lib\\site-packages\\matplotlib\\backends\\backend_agg.py:203: RuntimeWarning: Glyph 8722 missing from current font.\n",
      "  font.set_text(s, 0, flags=flags)\n"
     ]
    },
    {
     "data": {
      "image/png": "[encoded data removed]",
      "text/plain": [
       "<Figure size 1080x360 with 1 Axes>"
      ]
     },
     "metadata": {
      "needs_background": "light"
     },
     "output_type": "display_data"
    }
   ],
   "source": [
    "import matplotlib\n",
    "import matplotlib.pyplot as plt\n",
    "import mglearn\n",
    "import matplotlib.font_manager as fm\n",
    "\n",
    "font_location=r'C:\\Windows\\Fonts\\H2PORM.TTF'\n",
    "font_name=fm.FontProperties(fname=font_location).get_name()\n",
    "matplotlib.rc('font',family=font_name)\n",
    "mglearn.tools.visualize_coefficients(grid.best_estimator_.coef_, etc_names, n_top_features=20)\n",
    "plt.show()"
   ]
  },
  {
   "cell_type": "markdown",
   "id": "49cbb387",
   "metadata": {},
   "source": [
    "# 기타-축제"
   ]
  },
  {
   "cell_type": "code",
   "execution_count": 346,
   "id": "21a15ae3",
   "metadata": {},
   "outputs": [
    {
     "name": "stdout",
     "output_type": "stream",
     "text": [
      "(51, 129)\n"
     ]
    },
    {
     "data": {
      "text/plain": [
       "{'최고': 105,\n",
       " '올해': 81,\n",
       " '괜찮': 15,\n",
       " '구경': 16,\n",
       " '준비': 99,\n",
       " '아이': 71,\n",
       " '다음': 33,\n",
       " '같': 5,\n",
       " '불꽃놀이': 58,\n",
       " '크': 109,\n",
       " '오': 79,\n",
       " '밤': 52,\n",
       " '모양': 48,\n",
       " '광안': 14,\n",
       " '대교': 35,\n",
       " '일대': 89,\n",
       " '마린': 44,\n",
       " '시티': 68,\n",
       " '가을': 2,\n",
       " '하늘': 115,\n",
       " '혼잡': 121,\n",
       " '땅': 42,\n",
       " '열리': 76,\n",
       " '행사': 120,\n",
       " '당일': 34,\n",
       " '오후': 80,\n",
       " '지하철': 102,\n",
       " '붐비': 59,\n",
       " '잡': 90,\n",
       " '지역': 100,\n",
       " '높': 31,\n",
       " '보이': 56,\n",
       " '해수욕장': 117,\n",
       " '마지막': 45,\n",
       " '대표': 36,\n",
       " '근처': 22,\n",
       " '바람': 50,\n",
       " '밤하늘': 53,\n",
       " '부': 57,\n",
       " '이때': 86,\n",
       " '가격': 0,\n",
       " '규모': 20,\n",
       " '주제': 98,\n",
       " '되': 41,\n",
       " '시작': 67,\n",
       " '상점': 61,\n",
       " '아름답': 70,\n",
       " '유료': 84,\n",
       " '노래': 29,\n",
       " '낭만': 28,\n",
       " '석': 63,\n",
       " '나오': 27,\n",
       " '후': 126,\n",
       " '가지': 3,\n",
       " '돌아가': 39,\n",
       " '필요': 114,\n",
       " '참석': 103,\n",
       " '숨': 66,\n",
       " '주변': 97,\n",
       " '예약': 78,\n",
       " '다리': 32,\n",
       " '행복': 119,\n",
       " '가능': 1,\n",
       " '열차': 77,\n",
       " '휴식': 128,\n",
       " '재미': 93,\n",
       " '확인': 124,\n",
       " '기다리': 23,\n",
       " '후회': 127,\n",
       " '조명': 96,\n",
       " '처음': 104,\n",
       " '전': 95,\n",
       " '결정': 8,\n",
       " '밖': 51,\n",
       " '없': 73,\n",
       " '화장실': 122,\n",
       " '음식': 85,\n",
       " '판매': 112,\n",
       " '구입': 17,\n",
       " '놀랍': 30,\n",
       " '방문': 54,\n",
       " '지점': 101,\n",
       " '장엄': 92,\n",
       " '길': 26,\n",
       " '가치': 4,\n",
       " '관중': 12,\n",
       " '만드': 46,\n",
       " '생각': 62,\n",
       " '개최': 7,\n",
       " '레이저': 43,\n",
       " '바': 49,\n",
       " '이벤트': 88,\n",
       " '기대': 24,\n",
       " '계획': 9,\n",
       " '군중': 18,\n",
       " '개인': 6,\n",
       " '광': 13,\n",
       " '얻': 72,\n",
       " '식사': 69,\n",
       " '통과': 111,\n",
       " '카페': 108,\n",
       " '동기': 40,\n",
       " '도보': 37,\n",
       " '도착': 38,\n",
       " '모래': 47,\n",
       " '기타': 25,\n",
       " '테이블': 110,\n",
       " '위치': 83,\n",
       " '그렇': 21,\n",
       " '열': 75,\n",
       " '추천': 106,\n",
       " '소요': 65,\n",
       " '장소': 91,\n",
       " '세계': 64,\n",
       " '확보': 123,\n",
       " '이번': 87,\n",
       " '친구': 107,\n",
       " '권장': 19,\n",
       " '관광': 11,\n",
       " '항공': 116,\n",
       " '여행': 74,\n",
       " '배경': 55,\n",
       " '활동': 125,\n",
       " '요리': 82,\n",
       " '해안': 118,\n",
       " '저녁': 94,\n",
       " '공연': 10,\n",
       " '편리': 113,\n",
       " '삶': 60}"
      ]
     },
     "execution_count": 346,
     "metadata": {},
     "output_type": "execute_result"
    }
   ],
   "source": [
    "cv_etc_festival=CountVectorizer(\n",
    "    min_df=0.03,\n",
    "    max_df=0.1,\n",
    "    ngram_range=(1,1),\n",
    "    tokenizer=lambda x: x.split())\n",
    "\n",
    "etc_festival_X=cv_etc_festival.fit_transform(etc_festival['word'])\n",
    "\n",
    "print(etc_festival_X.shape)\n",
    "cv_etc_festival.vocabulary_"
   ]
  },
  {
   "cell_type": "code",
   "execution_count": 347,
   "id": "a8bb1115",
   "metadata": {},
   "outputs": [
    {
     "name": "stdout",
     "output_type": "stream",
     "text": [
      "기능 수 : 129\n",
      "['가격', '가능', '가을', '가지', '가치', '같', '개인', '개최', '결정', '계획', '공연', '관광', '관중', '광', '광안', '괜찮', '구경', '구입', '군중', '권장', '규모', '그렇', '근처', '기다리', '기대', '기타', '길', '나오', '낭만', '노래', '놀랍', '높', '다리', '다음', '당일', '대교', '대표', '도보', '도착', '돌아가', '동기', '되', '땅', '레이저', '마린', '마지막', '만드', '모래', '모양', '바', '바람', '밖', '밤', '밤하늘', '방문', '배경', '보이', '부', '불꽃놀이', '붐비', '삶', '상점', '생각', '석', '세계', '소요', '숨', '시작', '시티', '식사', '아름답', '아이', '얻', '없', '여행', '열', '열리', '열차', '예약', '오', '오후', '올해', '요리', '위치', '유료', '음식', '이때', '이번', '이벤트', '일대', '잡', '장소', '장엄', '재미', '저녁', '전', '조명', '주변', '주제', '준비', '지역', '지점', '지하철', '참석', '처음', '최고', '추천', '친구', '카페', '크', '테이블', '통과', '판매', '편리', '필요', '하늘', '항공', '해수욕장', '해안', '행복', '행사', '혼잡', '화장실', '확보', '확인', '활동', '후', '후회', '휴식']\n"
     ]
    }
   ],
   "source": [
    "etc_festival_names=cv_etc_festival.get_feature_names()\n",
    "print ( \"기능 수 : {}\". format (len (etc_festival_names)))\n",
    "print(etc_festival_names)"
   ]
  },
  {
   "cell_type": "code",
   "execution_count": 348,
   "id": "ab76cd9c",
   "metadata": {},
   "outputs": [
    {
     "name": "stderr",
     "output_type": "stream",
     "text": [
      "C:\\Users\\pthdu\\anaconda3\\envs\\nltk\\lib\\site-packages\\sklearn\\model_selection\\_split.py:668: UserWarning: The least populated class in y has only 4 members, which is less than n_splits=5.\n",
      "  % (min_groups, self.n_splits)), UserWarning)\n"
     ]
    },
    {
     "name": "stdout",
     "output_type": "stream",
     "text": [
      "Best cross-validation score: 0.92\n",
      "Best parameters:  {'C': 0.001}\n",
      "Best estimator:  LogisticRegression(C=0.001)\n"
     ]
    }
   ],
   "source": [
    "from sklearn.model_selection import GridSearchCV\n",
    "from sklearn.linear_model import LogisticRegression\n",
    "\n",
    "param_grid={'C':[0.001,0.01,0.1,1,10]}\n",
    "grid=GridSearchCV(LogisticRegression(),param_grid,cv=5)\n",
    "grid.fit(etc_festival_X,etc_festival['score'])\n",
    "\n",
    "print(\"Best cross-validation score: {:.2f}\".format(grid.best_score_))\n",
    "print(\"Best parameters: \", grid.best_params_)\n",
    "print(\"Best estimator: \", grid.best_estimator_)"
   ]
  },
  {
   "cell_type": "code",
   "execution_count": 349,
   "id": "66a44f31",
   "metadata": {},
   "outputs": [
    {
     "name": "stderr",
     "output_type": "stream",
     "text": [
      "C:\\Users\\pthdu\\anaconda3\\envs\\nltk\\lib\\site-packages\\matplotlib\\backends\\backend_agg.py:240: RuntimeWarning: Glyph 8722 missing from current font.\n",
      "  font.set_text(s, 0.0, flags=flags)\n",
      "C:\\Users\\pthdu\\anaconda3\\envs\\nltk\\lib\\site-packages\\matplotlib\\backends\\backend_agg.py:203: RuntimeWarning: Glyph 8722 missing from current font.\n",
      "  font.set_text(s, 0, flags=flags)\n"
     ]
    },
    {
     "data": {
      "image/png": "[encoded data removed]",
      "text/plain": [
       "<Figure size 1080x360 with 1 Axes>"
      ]
     },
     "metadata": {
      "needs_background": "light"
     },
     "output_type": "display_data"
    }
   ],
   "source": [
    "import matplotlib\n",
    "import matplotlib.pyplot as plt\n",
    "import mglearn\n",
    "import matplotlib.font_manager as fm\n",
    "\n",
    "font_location=r'C:\\Windows\\Fonts\\H2PORM.TTF'\n",
    "font_name=fm.FontProperties(fname=font_location).get_name()\n",
    "matplotlib.rc('font',family=font_name)\n",
    "mglearn.tools.visualize_coefficients(grid.best_estimator_.coef_, etc_festival_names, n_top_features=20)\n",
    "plt.show()"
   ]
  },
  {
   "cell_type": "markdown",
   "id": "9985ffbf",
   "metadata": {},
   "source": [
    "# 기타-안내"
   ]
  },
  {
   "cell_type": "code",
   "execution_count": 361,
   "id": "02c9337e",
   "metadata": {},
   "outputs": [
    {
     "name": "stdout",
     "output_type": "stream",
     "text": [
      "(264, 140)\n"
     ]
    },
    {
     "data": {
      "text/plain": [
       "{'관광': 10,\n",
       " '정보': 103,\n",
       " '얻': 77,\n",
       " '공항': 9,\n",
       " '국제선': 18,\n",
       " '층': 119,\n",
       " '옆': 84,\n",
       " '곳': 8,\n",
       " '지도': 107,\n",
       " '알': 75,\n",
       " '때': 34,\n",
       " '이용': 91,\n",
       " '여행': 80,\n",
       " '타': 124,\n",
       " '가': 0,\n",
       " '시간': 68,\n",
       " '오': 85,\n",
       " '같': 4,\n",
       " '하': 131,\n",
       " '앞': 76,\n",
       " '필요': 130,\n",
       " '없': 78,\n",
       " '안내소': 74,\n",
       " '사람': 57,\n",
       " '친절': 120,\n",
       " '관광객': 11,\n",
       " '좋': 105,\n",
       " '정도': 102,\n",
       " '많': 39,\n",
       " '먹': 41,\n",
       " '전': 101,\n",
       " '구입': 15,\n",
       " '안내': 73,\n",
       " '받': 48,\n",
       " '설명': 62,\n",
       " '찾': 114,\n",
       " '위치': 87,\n",
       " '도시': 27,\n",
       " '쉽': 65,\n",
       " '듣': 32,\n",
       " '질문': 111,\n",
       " '크': 122,\n",
       " '작': 98,\n",
       " '생각': 60,\n",
       " '라운지': 35,\n",
       " '안': 72,\n",
       " '국내선': 16,\n",
       " '면세점': 42,\n",
       " '밖': 47,\n",
       " '시설': 70,\n",
       " '모르': 43,\n",
       " '건물': 6,\n",
       " '일': 93,\n",
       " '도착': 29,\n",
       " '리무진': 38,\n",
       " '물': 46,\n",
       " '외국인': 86,\n",
       " '직원': 110,\n",
       " '거리': 5,\n",
       " '택시': 126,\n",
       " '환승': 137,\n",
       " '시내': 69,\n",
       " '들': 33,\n",
       " '제공': 104,\n",
       " '나오': 23,\n",
       " '출구': 117,\n",
       " '방문': 49,\n",
       " '도움': 28,\n",
       " '되': 31,\n",
       " '비행기': 55,\n",
       " '체크인': 116,\n",
       " '이민': 90,\n",
       " '지역': 108,\n",
       " '후': 139,\n",
       " '가능': 1,\n",
       " '상점': 59,\n",
       " '효율': 138,\n",
       " '국제': 17,\n",
       " '크기': 123,\n",
       " '혼잡': 135,\n",
       " '빠르': 56,\n",
       " '출발': 118,\n",
       " '수하물': 64,\n",
       " '짐': 112,\n",
       " '항공편': 133,\n",
       " '일반': 94,\n",
       " '동안': 30,\n",
       " '아침': 71,\n",
       " '음식': 88,\n",
       " '레스토랑': 36,\n",
       " '한국어': 132,\n",
       " '보': 53,\n",
       " '괜찮': 13,\n",
       " '사용': 58,\n",
       " '터미널': 127,\n",
       " '가지': 3,\n",
       " '기다리': 20,\n",
       " '일부': 96,\n",
       " '호텔': 134,\n",
       " '여행자': 81,\n",
       " '화장실': 136,\n",
       " '근처': 19,\n",
       " '버스': 52,\n",
       " '문제': 45,\n",
       " '경우': 7,\n",
       " '말': 40,\n",
       " '이동': 89,\n",
       " '영어': 83,\n",
       " '넓': 25,\n",
       " '지하철': 109,\n",
       " '길': 22,\n",
       " '여객': 79,\n",
       " '장소': 99,\n",
       " '서비스': 61,\n",
       " '기차': 21,\n",
       " '역': 82,\n",
       " '방향': 50,\n",
       " '편리': 129,\n",
       " '무료': 44,\n",
       " '적': 100,\n",
       " '교통': 14,\n",
       " '센터': 63,\n",
       " '카운터': 121,\n",
       " '승강장': 67,\n",
       " '일본어': 95,\n",
       " '대응': 26,\n",
       " '남포': 24,\n",
       " '자체': 97,\n",
       " '로비': 37,\n",
       " '이전': 92,\n",
       " '중국어': 106,\n",
       " '책자': 115,\n",
       " '관광지': 12,\n",
       " '가이드': 2,\n",
       " '팜플렛': 128,\n",
       " '보이': 54,\n",
       " '스탭': 66,\n",
       " '차이': 113,\n",
       " '배': 51,\n",
       " '타운': 125}"
      ]
     },
     "execution_count": 361,
     "metadata": {},
     "output_type": "execute_result"
    }
   ],
   "source": [
    "cv_etc_info=CountVectorizer(\n",
    "    min_df=0.03,\n",
    "    max_df=0.5,\n",
    "    ngram_range=(1,1),\n",
    "    tokenizer=lambda x: x.split())\n",
    "\n",
    "etc_info_X=cv_etc_info.fit_transform(etc_info['word'])\n",
    "\n",
    "print(etc_info_X.shape)\n",
    "cv_etc_info.vocabulary_"
   ]
  },
  {
   "cell_type": "code",
   "execution_count": 362,
   "id": "26a51fdf",
   "metadata": {},
   "outputs": [
    {
     "name": "stdout",
     "output_type": "stream",
     "text": [
      "기능 수 : 140\n",
      "['가', '가능', '가이드', '가지', '같', '거리', '건물', '경우', '곳', '공항', '관광', '관광객', '관광지', '괜찮', '교통', '구입', '국내선', '국제', '국제선', '근처', '기다리', '기차', '길', '나오', '남포', '넓', '대응', '도시', '도움', '도착', '동안', '되', '듣', '들', '때', '라운지', '레스토랑', '로비', '리무진', '많', '말', '먹', '면세점', '모르', '무료', '문제', '물', '밖', '받', '방문', '방향', '배', '버스', '보', '보이', '비행기', '빠르', '사람', '사용', '상점', '생각', '서비스', '설명', '센터', '수하물', '쉽', '스탭', '승강장', '시간', '시내', '시설', '아침', '안', '안내', '안내소', '알', '앞', '얻', '없', '여객', '여행', '여행자', '역', '영어', '옆', '오', '외국인', '위치', '음식', '이동', '이민', '이용', '이전', '일', '일반', '일본어', '일부', '자체', '작', '장소', '적', '전', '정도', '정보', '제공', '좋', '중국어', '지도', '지역', '지하철', '직원', '질문', '짐', '차이', '찾', '책자', '체크인', '출구', '출발', '층', '친절', '카운터', '크', '크기', '타', '타운', '택시', '터미널', '팜플렛', '편리', '필요', '하', '한국어', '항공편', '호텔', '혼잡', '화장실', '환승', '효율', '후']\n"
     ]
    }
   ],
   "source": [
    "etc_info_names=cv_etc_info.get_feature_names()\n",
    "print ( \"기능 수 : {}\". format (len (etc_info_names)))\n",
    "print(etc_info_names)"
   ]
  },
  {
   "cell_type": "code",
   "execution_count": 363,
   "id": "eb6503dc",
   "metadata": {},
   "outputs": [
    {
     "name": "stdout",
     "output_type": "stream",
     "text": [
      "Best cross-validation score: 0.62\n",
      "Best parameters:  {'C': 0.01}\n",
      "Best estimator:  LogisticRegression(C=0.01)\n"
     ]
    }
   ],
   "source": [
    "from sklearn.model_selection import GridSearchCV\n",
    "from sklearn.linear_model import LogisticRegression\n",
    "\n",
    "param_grid={'C':[0.001,0.01,0.1,1,10]}\n",
    "grid=GridSearchCV(LogisticRegression(),param_grid,cv=5)\n",
    "grid.fit(etc_info_X,etc_info['score'])\n",
    "\n",
    "print(\"Best cross-validation score: {:.2f}\".format(grid.best_score_))\n",
    "print(\"Best parameters: \", grid.best_params_)\n",
    "print(\"Best estimator: \", grid.best_estimator_)"
   ]
  },
  {
   "cell_type": "code",
   "execution_count": 364,
   "id": "17666373",
   "metadata": {},
   "outputs": [
    {
     "name": "stderr",
     "output_type": "stream",
     "text": [
      "C:\\Users\\pthdu\\anaconda3\\envs\\nltk\\lib\\site-packages\\matplotlib\\backends\\backend_agg.py:240: RuntimeWarning: Glyph 8722 missing from current font.\n",
      "  font.set_text(s, 0.0, flags=flags)\n",
      "C:\\Users\\pthdu\\anaconda3\\envs\\nltk\\lib\\site-packages\\matplotlib\\backends\\backend_agg.py:203: RuntimeWarning: Glyph 8722 missing from current font.\n",
      "  font.set_text(s, 0, flags=flags)\n"
     ]
    },
    {
     "data": {
      "image/png": "[encoded data removed]",
      "text/plain": [
       "<Figure size 1080x360 with 1 Axes>"
      ]
     },
     "metadata": {
      "needs_background": "light"
     },
     "output_type": "display_data"
    }
   ],
   "source": [
    "import matplotlib\n",
    "import matplotlib.pyplot as plt\n",
    "import mglearn\n",
    "import matplotlib.font_manager as fm\n",
    "\n",
    "font_location=r'C:\\Windows\\Fonts\\H2PORM.TTF'\n",
    "font_name=fm.FontProperties(fname=font_location).get_name()\n",
    "matplotlib.rc('font',family=font_name)\n",
    "mglearn.tools.visualize_coefficients(grid.best_estimator_.coef_, etc_info_names, n_top_features=20)\n",
    "plt.show()"
   ]
  },
  {
   "cell_type": "code",
   "execution_count": null,
   "id": "b237054b",
   "metadata": {},
   "outputs": [],
   "source": []
  }
 ],
 "metadata": {
  "kernelspec": {
   "display_name": "Python 3",
   "language": "python",
   "name": "python3"
  },
  "language_info": {
   "codemirror_mode": {
    "name": "ipython",
    "version": 3
   },
   "file_extension": ".py",
   "mimetype": "text/x-python",
   "name": "python",
   "nbconvert_exporter": "python",
   "pygments_lexer": "ipython3",
   "version": "3.7.10"
  }
 },
 "nbformat": 4,
 "nbformat_minor": 5
}
