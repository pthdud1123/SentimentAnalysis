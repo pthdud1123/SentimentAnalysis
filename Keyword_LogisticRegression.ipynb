{
 "cells": [
  {
   "cell_type": "code",
   "execution_count": 1,
   "metadata": {},
   "outputs": [],
   "source": [
    "import numpy as np\n",
    "import pandas as pd\n",
    "import konlpy\n",
    "from konlpy.tag import Mecab\n",
    "import matplotlib as plt\n",
    "import re\n",
    "from sklearn.feature_extraction.text import CountVectorizer"
   ]
  },
  {
   "cell_type": "code",
   "execution_count": 2,
   "metadata": {},
   "outputs": [
    {
     "name": "stdout",
     "output_type": "stream",
     "text": [
      "<class 'pandas.core.frame.DataFrame'>\n",
      "Int64Index: 27748 entries, 0 to 27751\n",
      "Data columns (total 6 columns):\n",
      " #   Column    Non-Null Count  Dtype  \n",
      "---  ------    --------------  -----  \n",
      " 0   space     27748 non-null  object \n",
      " 1   type      27748 non-null  object \n",
      " 2   language  27748 non-null  object \n",
      " 3   day       27748 non-null  int64  \n",
      " 4   text      27748 non-null  object \n",
      " 5   score     27748 non-null  float64\n",
      "dtypes: float64(1), int64(1), object(4)\n",
      "memory usage: 1.5+ MB\n"
     ]
    },
    {
     "data": {
      "text/html": [
       "<div>\n",
       "<style scoped>\n",
       "    .dataframe tbody tr th:only-of-type {\n",
       "        vertical-align: middle;\n",
       "    }\n",
       "\n",
       "    .dataframe tbody tr th {\n",
       "        vertical-align: top;\n",
       "    }\n",
       "\n",
       "    .dataframe thead th {\n",
       "        text-align: right;\n",
       "    }\n",
       "</style>\n",
       "<table border=\"1\" class=\"dataframe\">\n",
       "  <thead>\n",
       "    <tr style=\"text-align: right;\">\n",
       "      <th></th>\n",
       "      <th>space</th>\n",
       "      <th>type</th>\n",
       "      <th>language</th>\n",
       "      <th>day</th>\n",
       "      <th>text</th>\n",
       "      <th>score</th>\n",
       "    </tr>\n",
       "  </thead>\n",
       "  <tbody>\n",
       "    <tr>\n",
       "      <th>0</th>\n",
       "      <td>힐스파</td>\n",
       "      <td>체험</td>\n",
       "      <td>한국어</td>\n",
       "      <td>201702</td>\n",
       "      <td>경치 최고 찜질방에서 하루 숙박했습니다. 달맞이길 윗쪽에 위치해서 해운대 일대가 한...</td>\n",
       "      <td>5.0</td>\n",
       "    </tr>\n",
       "    <tr>\n",
       "      <th>1</th>\n",
       "      <td>힐스파</td>\n",
       "      <td>체험</td>\n",
       "      <td>한국어</td>\n",
       "      <td>201711</td>\n",
       "      <td>경치가 좋은 스파 너무 좋아요. 해운대 바다가 보이는 스파라서 스파하는동안 기분이 ...</td>\n",
       "      <td>5.0</td>\n",
       "    </tr>\n",
       "    <tr>\n",
       "      <th>2</th>\n",
       "      <td>힐스파</td>\n",
       "      <td>체험</td>\n",
       "      <td>한국어</td>\n",
       "      <td>201710</td>\n",
       "      <td>여독풀기 좋은 장소 하루 종일 여행 후 피로를 녹이기 좋은 장소. 주차도 잘 됩니다...</td>\n",
       "      <td>4.0</td>\n",
       "    </tr>\n",
       "    <tr>\n",
       "      <th>3</th>\n",
       "      <td>힐스파</td>\n",
       "      <td>체험</td>\n",
       "      <td>한국어</td>\n",
       "      <td>201602</td>\n",
       "      <td>달맞이 고개의 훌륭한 목욕탕 달맞이 고개에 자리하고 있으며, 고지대에 위치한 덕분에...</td>\n",
       "      <td>5.0</td>\n",
       "    </tr>\n",
       "    <tr>\n",
       "      <th>4</th>\n",
       "      <td>힐스파</td>\n",
       "      <td>체험</td>\n",
       "      <td>한국어</td>\n",
       "      <td>201504</td>\n",
       "      <td>해운대 달맞이고개의 찜질방. 찜질하는 찜질방입니다. 스파도 같이 운영합니다. 방문객...</td>\n",
       "      <td>3.0</td>\n",
       "    </tr>\n",
       "    <tr>\n",
       "      <th>5</th>\n",
       "      <td>힐스파</td>\n",
       "      <td>체험</td>\n",
       "      <td>한국어</td>\n",
       "      <td>201303</td>\n",
       "      <td>오션뷰에서 엄청싸게 숙박 돌아가는 비행기가 다음 날 아침 편이었기 때문에 이날은 숙...</td>\n",
       "      <td>3.0</td>\n",
       "    </tr>\n",
       "    <tr>\n",
       "      <th>6</th>\n",
       "      <td>힐스파</td>\n",
       "      <td>체험</td>\n",
       "      <td>한국어</td>\n",
       "      <td>201206</td>\n",
       "      <td>경치는 좋아요... 밖에서 보이는 경치는 좋은 편인데,, 사람들이 많은 탓인지.. ...</td>\n",
       "      <td>3.0</td>\n",
       "    </tr>\n",
       "    <tr>\n",
       "      <th>7</th>\n",
       "      <td>힐스파</td>\n",
       "      <td>체험</td>\n",
       "      <td>한국어</td>\n",
       "      <td>201202</td>\n",
       "      <td>바다온천 베스타스파의 가장 멋진점은, 탕에 들어가면 바다에서 목욕하는 듯한 느낌이 ...</td>\n",
       "      <td>4.0</td>\n",
       "    </tr>\n",
       "    <tr>\n",
       "      <th>8</th>\n",
       "      <td>힐스파</td>\n",
       "      <td>체험</td>\n",
       "      <td>한국어</td>\n",
       "      <td>201201</td>\n",
       "      <td>바다위에 둥둥 아침 일찍 바다를 볼 수 있다는 기대감으로 고고... 몸을 담글 수 ...</td>\n",
       "      <td>5.0</td>\n",
       "    </tr>\n",
       "    <tr>\n",
       "      <th>9</th>\n",
       "      <td>힐스파</td>\n",
       "      <td>체험</td>\n",
       "      <td>한국어</td>\n",
       "      <td>201105</td>\n",
       "      <td>전면 유리 밖으로 해운대 바다랑 광안대교가 보입니다 할머니랑 엄마랑 같이 밤에 한번...</td>\n",
       "      <td>4.0</td>\n",
       "    </tr>\n",
       "  </tbody>\n",
       "</table>\n",
       "</div>"
      ],
      "text/plain": [
       "  space type language     day  \\\n",
       "0   힐스파   체험      한국어  201702   \n",
       "1   힐스파   체험      한국어  201711   \n",
       "2   힐스파   체험      한국어  201710   \n",
       "3   힐스파   체험      한국어  201602   \n",
       "4   힐스파   체험      한국어  201504   \n",
       "5   힐스파   체험      한국어  201303   \n",
       "6   힐스파   체험      한국어  201206   \n",
       "7   힐스파   체험      한국어  201202   \n",
       "8   힐스파   체험      한국어  201201   \n",
       "9   힐스파   체험      한국어  201105   \n",
       "\n",
       "                                                text  score  \n",
       "0  경치 최고 찜질방에서 하루 숙박했습니다. 달맞이길 윗쪽에 위치해서 해운대 일대가 한...    5.0  \n",
       "1  경치가 좋은 스파 너무 좋아요. 해운대 바다가 보이는 스파라서 스파하는동안 기분이 ...    5.0  \n",
       "2  여독풀기 좋은 장소 하루 종일 여행 후 피로를 녹이기 좋은 장소. 주차도 잘 됩니다...    4.0  \n",
       "3  달맞이 고개의 훌륭한 목욕탕 달맞이 고개에 자리하고 있으며, 고지대에 위치한 덕분에...    5.0  \n",
       "4  해운대 달맞이고개의 찜질방. 찜질하는 찜질방입니다. 스파도 같이 운영합니다. 방문객...    3.0  \n",
       "5  오션뷰에서 엄청싸게 숙박 돌아가는 비행기가 다음 날 아침 편이었기 때문에 이날은 숙...    3.0  \n",
       "6  경치는 좋아요... 밖에서 보이는 경치는 좋은 편인데,, 사람들이 많은 탓인지.. ...    3.0  \n",
       "7  바다온천 베스타스파의 가장 멋진점은, 탕에 들어가면 바다에서 목욕하는 듯한 느낌이 ...    4.0  \n",
       "8  바다위에 둥둥 아침 일찍 바다를 볼 수 있다는 기대감으로 고고... 몸을 담글 수 ...    5.0  \n",
       "9  전면 유리 밖으로 해운대 바다랑 광안대교가 보입니다 할머니랑 엄마랑 같이 밤에 한번...    4.0  "
      ]
     },
     "execution_count": 2,
     "metadata": {},
     "output_type": "execute_result"
    }
   ],
   "source": [
    "ref=pd.read_csv('attraction_all_translate.csv',encoding='utf-8')\n",
    "ref=ref.drop(ref.columns[[6,7,8]],axis=1)\n",
    "ref=ref.dropna(subset=['score'],axis=0)\n",
    "ref.astype({'score':'float'})\n",
    "ref.astype({'score':'int'})\n",
    "ref.info()\n",
    "ref[:10]"
   ]
  },
  {
   "cell_type": "code",
   "execution_count": 3,
   "metadata": {},
   "outputs": [
    {
     "name": "stderr",
     "output_type": "stream",
     "text": [
      "C:\\Users\\pthdu\\anaconda3\\lib\\site-packages\\ipykernel_launcher.py:5: SettingWithCopyWarning: \n",
      "A value is trying to be set on a copy of a slice from a DataFrame\n",
      "\n",
      "See the caveats in the documentation: https://pandas.pydata.org/pandas-docs/stable/user_guide/indexing.html#returning-a-view-versus-a-copy\n",
      "  \"\"\"\n"
     ]
    }
   ],
   "source": [
    "#language가 한국어가 아닐 수도 있는 경우 삭제\n",
    "ref.drop(ref.loc[ref[\"language\"]==\"일본어\"].index,inplace=True)\n",
    "ref.drop(ref.loc[ref[\"language\"]==\"중국어\"].index,inplace=True)\n",
    "for index, row in ref.iterrows():\n",
    "    ref['text'][index]=re.sub('[-=+,#/\\?:^$.@*\\\"※~&%ㆍ!』\\\\‘|\\(\\)\\[\\]\\<\\>`\\'…》;]','',ref['text'][index])"
   ]
  },
  {
   "cell_type": "code",
   "execution_count": 4,
   "metadata": {},
   "outputs": [
    {
     "ename": "Exception",
     "evalue": "Install MeCab in order to use it: http://konlpy.org/en/latest/install/",
     "output_type": "error",
     "traceback": [
      "\u001b[1;31m---------------------------------------------------------------------------\u001b[0m",
      "\u001b[1;31mNameError\u001b[0m                                 Traceback (most recent call last)",
      "\u001b[1;32m~\\anaconda3\\lib\\site-packages\\konlpy\\tag\\_mecab.py\u001b[0m in \u001b[0;36m__init__\u001b[1;34m(self, dicpath)\u001b[0m\n\u001b[0;32m    107\u001b[0m         \u001b[1;32mtry\u001b[0m\u001b[1;33m:\u001b[0m\u001b[1;33m\u001b[0m\u001b[1;33m\u001b[0m\u001b[0m\n\u001b[1;32m--> 108\u001b[1;33m             \u001b[0mself\u001b[0m\u001b[1;33m.\u001b[0m\u001b[0mtagger\u001b[0m \u001b[1;33m=\u001b[0m \u001b[0mTagger\u001b[0m\u001b[1;33m(\u001b[0m\u001b[1;34m'-d %s'\u001b[0m \u001b[1;33m%\u001b[0m \u001b[0mdicpath\u001b[0m\u001b[1;33m)\u001b[0m\u001b[1;33m\u001b[0m\u001b[1;33m\u001b[0m\u001b[0m\n\u001b[0m\u001b[0;32m    109\u001b[0m             \u001b[0mself\u001b[0m\u001b[1;33m.\u001b[0m\u001b[0mtagset\u001b[0m \u001b[1;33m=\u001b[0m \u001b[0mutils\u001b[0m\u001b[1;33m.\u001b[0m\u001b[0mread_json\u001b[0m\u001b[1;33m(\u001b[0m\u001b[1;34m'%s/data/tagset/mecab.json'\u001b[0m \u001b[1;33m%\u001b[0m \u001b[0mutils\u001b[0m\u001b[1;33m.\u001b[0m\u001b[0minstallpath\u001b[0m\u001b[1;33m)\u001b[0m\u001b[1;33m\u001b[0m\u001b[1;33m\u001b[0m\u001b[0m\n",
      "\u001b[1;31mNameError\u001b[0m: name 'Tagger' is not defined",
      "\nDuring handling of the above exception, another exception occurred:\n",
      "\u001b[1;31mException\u001b[0m                                 Traceback (most recent call last)",
      "\u001b[1;32m<ipython-input-4-3a138e118876>\u001b[0m in \u001b[0;36m<module>\u001b[1;34m\u001b[0m\n\u001b[1;32m----> 1\u001b[1;33m \u001b[0mmecab\u001b[0m\u001b[1;33m=\u001b[0m\u001b[0mMecab\u001b[0m\u001b[1;33m(\u001b[0m\u001b[0mdicpath\u001b[0m\u001b[1;33m=\u001b[0m\u001b[1;34m\"C:\\mecab\\mecab-ko-dic\"\u001b[0m\u001b[1;33m)\u001b[0m\u001b[1;33m\u001b[0m\u001b[1;33m\u001b[0m\u001b[0m\n\u001b[0m\u001b[0;32m      2\u001b[0m \u001b[0mref\u001b[0m\u001b[1;33m[\u001b[0m\u001b[1;34m'token'\u001b[0m\u001b[1;33m]\u001b[0m\u001b[1;33m=\u001b[0m\u001b[0mref\u001b[0m\u001b[1;33m[\u001b[0m\u001b[1;34m'text'\u001b[0m\u001b[1;33m]\u001b[0m\u001b[1;33m.\u001b[0m\u001b[0mapply\u001b[0m\u001b[1;33m(\u001b[0m\u001b[0mmecab\u001b[0m\u001b[1;33m.\u001b[0m\u001b[0mpos\u001b[0m\u001b[1;33m)\u001b[0m\u001b[1;33m\u001b[0m\u001b[1;33m\u001b[0m\u001b[0m\n\u001b[0;32m      3\u001b[0m \u001b[0mref\u001b[0m\u001b[1;33m.\u001b[0m\u001b[0mhead\u001b[0m\u001b[1;33m(\u001b[0m\u001b[1;33m)\u001b[0m\u001b[1;33m\u001b[0m\u001b[1;33m\u001b[0m\u001b[0m\n",
      "\u001b[1;32m~\\anaconda3\\lib\\site-packages\\konlpy\\tag\\_mecab.py\u001b[0m in \u001b[0;36m__init__\u001b[1;34m(self, dicpath)\u001b[0m\n\u001b[0;32m    111\u001b[0m             \u001b[1;32mraise\u001b[0m \u001b[0mException\u001b[0m\u001b[1;33m(\u001b[0m\u001b[1;34m'The MeCab dictionary does not exist at \"%s\". Is the dictionary correctly installed?\\nYou can also try entering the dictionary path when initializing the Mecab class: \"Mecab(\\'/some/dic/path\\')\"'\u001b[0m \u001b[1;33m%\u001b[0m \u001b[0mdicpath\u001b[0m\u001b[1;33m)\u001b[0m\u001b[1;33m\u001b[0m\u001b[1;33m\u001b[0m\u001b[0m\n\u001b[0;32m    112\u001b[0m         \u001b[1;32mexcept\u001b[0m \u001b[0mNameError\u001b[0m\u001b[1;33m:\u001b[0m\u001b[1;33m\u001b[0m\u001b[1;33m\u001b[0m\u001b[0m\n\u001b[1;32m--> 113\u001b[1;33m             \u001b[1;32mraise\u001b[0m \u001b[0mException\u001b[0m\u001b[1;33m(\u001b[0m\u001b[1;34m'Install MeCab in order to use it: http://konlpy.org/en/latest/install/'\u001b[0m\u001b[1;33m)\u001b[0m\u001b[1;33m\u001b[0m\u001b[1;33m\u001b[0m\u001b[0m\n\u001b[0m\u001b[0;32m    114\u001b[0m \u001b[1;33m\u001b[0m\u001b[0m\n\u001b[0;32m    115\u001b[0m     \u001b[1;32mdef\u001b[0m \u001b[0m__setstate__\u001b[0m\u001b[1;33m(\u001b[0m\u001b[0mself\u001b[0m\u001b[1;33m,\u001b[0m \u001b[0mstate\u001b[0m\u001b[1;33m)\u001b[0m\u001b[1;33m:\u001b[0m\u001b[1;33m\u001b[0m\u001b[1;33m\u001b[0m\u001b[0m\n",
      "\u001b[1;31mException\u001b[0m: Install MeCab in order to use it: http://konlpy.org/en/latest/install/"
     ]
    }
   ],
   "source": [
    "mecab=Mecab(dicpath=\"C:\\mecab\\mecab-ko-dic\")\n",
    "ref['token']=ref['text'].apply(mecab.pos)\n",
    "ref.head()"
   ]
  },
  {
   "cell_type": "code",
   "execution_count": null,
   "metadata": {},
   "outputs": [],
   "source": [
    "temp=ref\n",
    "print(temp['token'][0][0][0])"
   ]
  },
  {
   "cell_type": "code",
   "execution_count": null,
   "metadata": {},
   "outputs": [],
   "source": [
    "search_list=[['행사','장소','비교','행사장','다양','재미','멋','축제','공연','티켓','제공','도전','일반','기본','동일','평상시','유사','기존','발견','평소','줄','자극','별거','비슷','비수기','대회'],\n",
    "             ['사람','방문','곳','참여','프로그램','직접','처음','독특','흥미','수집','기대','아무것','특별','차이','전형','기대치','포기','흥분','동일'],\n",
    "             ['기념품','상품','종류','품질','적당','다양','가격','축제','효율','우수','선물','상점','쇼핑','브랜드','잡화','할인','기념품','쇼핑몰','협상','낭비','돈','행상','간판','비용','고가','바가지','개점','고장','노점','흥정','객','면세점','가격표','청구','제품','고객','지하상가','디자이너','사기','관광객','쇼핑몰','가짜','수입','가격','상인','거스름돈','본전','공예','모자','현금','단골','폐업','상품','강요','먹자골목','군것질','거품'],\n",
    "             ['음식','종류','가격','맛','김치','설탕','맛집','레스토랑','음식','가격','포장','간식','냄새','쓰레기','빵','음식점','술집','거북','중식','바베큐','조리','갈치','주문'],\n",
    "             ['생각','일정','홍보','내용','정보','목적','생각','경험','공부','곳','때','분류','혜택','관심','생각','예상','목적','광고','시기','방식','의도','검토','잠재','메리트','소문'],\n",
    "             ['안내','관광','안내소','시설','자료','구비','행사','장소','책자','지도','팜플렛','표준','뜻','여행자','안내소','기사','여행객','번역','관광지','안내서','개인','배부'],\n",
    "             ['행사장','안내요원','직원','사람','분위기','대응','신속','친절','사람','서비스','인상','직업','무시','화','정직','점원','요구','주인','말','무례','우호','욕설','욕','태도','위화감'],\n",
    "             ['기차','버스','지하철','차','택시','도보','지하철','버스','편도','경로','근처','대중교통','산책로','보도','통행','기차역','에스컬레이터','왕래','방면','방해','승강장','혼잡','목적지','지하도','부두','국제터미널','정류장','길가','승강장','건너편','승차','가도','우회전','셔틀버스','통과','종점','자전거','지하철역'],\n",
    "             ['교통','주차','시간','때','주차장','시간','역','교통','차','주차','용이','노선','고속','길거리','주차','부과','반환','보행자'],\n",
    "             ['휴식공간','벤치','휴게실','편안','수퍼','편의점','가게','편의','로비','전용','수질','유모차'],\n",
    "             ['시설','화장실','공중','위생','오염','화장실'],\n",
    "             ['공간','곳','근처','거리','좌석','디자인','자리','거리','장소','사물함','주위','공사','설비','조형물','설치','좌우','분리'],\n",
    "             ['문화','부산','해운대','지역','문화','예술','지역','전통','유명','산업','박물관','전시실'],\n",
    "             ['안전','시설','안심','보호','위험','휠체어'],\n",
    "             ['가치','경치','풍경','만족','호감','참여','최고','사랑','완벽','절대','가치','환상','만족','굿','자랑','여행','충전','만점','감동','평화','평균','실망','평가','보통','비교','부족','최악','유감','결과','불편','개선','의견','이유','매력','아쉬움','결론','관광','느낌','불평','의문','망설','비추','장점','슬픔'],\n",
    "             ['참여','추천','추천','강추','감사','가족','친구']\n",
    "            ]\n",
    "\n",
    "temp=[]\n",
    "\n",
    "def score_check(text_tokens,i):\n",
    "    for text_token in text_tokens:\n",
    "        if text_token[0] in search_list[i]:\n",
    "            return 1\n",
    "        else:\n",
    "            continue\n",
    "    return 0"
   ]
  },
  {
   "cell_type": "code",
   "execution_count": null,
   "metadata": {},
   "outputs": [],
   "source": [
    "from tqdm import tqdm\n",
    "dc=[]\n",
    "dc_temp=[]\n",
    "for i in tqdm(range(len(search_list))):#len(search_list)\n",
    "    dc_temp=ref.copy()\n",
    "    s=[]\n",
    "    print(dc_temp)\n",
    "    for index,row in dc_temp.iterrows():\n",
    "        s.append(score_check(dc_temp['token'][index],i))\n",
    "    dc_temp['score']=s\n",
    "    print(dc_temp)\n",
    "    dc.append(dc_temp)"
   ]
  },
  {
   "cell_type": "code",
   "execution_count": null,
   "metadata": {},
   "outputs": [],
   "source": [
    "ref.head()"
   ]
  },
  {
   "cell_type": "code",
   "execution_count": null,
   "metadata": {},
   "outputs": [],
   "source": [
    "#명사, 동사, 형용사, 어근, 부정사추출\n",
    "def extraction(tokens):\n",
    "    temp=\"\"\n",
    "    for word in tokens:\n",
    "        if word[1] in['NNG','VV','VA','XR','VCN']:\n",
    "            #print(word[1])\n",
    "            temp+=str(word[0])+\"/\"+str(word[1])\n",
    "            temp+=\" \"\n",
    "    return temp"
   ]
  },
  {
   "cell_type": "code",
   "execution_count": null,
   "metadata": {},
   "outputs": [],
   "source": [
    "for i in range(len(search_list)):\n",
    "    dc[i]['token']=dc[i]['token'].apply(extraction)\n"
   ]
  },
  {
   "cell_type": "markdown",
   "metadata": {},
   "source": [
    "# Count Vectorizer화"
   ]
  },
  {
   "cell_type": "code",
   "execution_count": null,
   "metadata": {},
   "outputs": [],
   "source": [
    "cv_count=[]\n",
    "cv=[]\n",
    "\n",
    "for i in range(len(search_list)):\n",
    "    cv.append(CountVectorizer(\n",
    "        min_df=1,\n",
    "        ngram_range=(1,3),\n",
    "        tokenizer=lambda x:x.split()))\n",
    "\n",
    "    cv_count.append(cv[i].fit_transform(dc[i]['token']))"
   ]
  },
  {
   "cell_type": "code",
   "execution_count": null,
   "metadata": {},
   "outputs": [],
   "source": [
    "cv_feature=[]\n",
    "for i in range(len(search_list)):\n",
    "    cv_feature.append(cv[i].get_feature_names())"
   ]
  },
  {
   "cell_type": "code",
   "execution_count": null,
   "metadata": {},
   "outputs": [],
   "source": [
    "dc[14].head()"
   ]
  },
  {
   "cell_type": "markdown",
   "metadata": {},
   "source": [
    "# Logistic Regression"
   ]
  },
  {
   "cell_type": "code",
   "execution_count": null,
   "metadata": {},
   "outputs": [],
   "source": [
    "from sklearn.model_selection import GridSearchCV\n",
    "from sklearn.linear_model import LogisticRegression\n",
    "\n",
    "param_grid={'C':[0.001,0.01,0.1,1,10]}\n",
    "grid=[]\n",
    "for i in tqdm(range(len(search_list))):\n",
    "    grid.append(GridSearchCV(LogisticRegression(), param_grid, cv=5))\n",
    "    grid[i].fit(cv_count[i],dc[i]['score'])"
   ]
  },
  {
   "cell_type": "code",
   "execution_count": null,
   "metadata": {},
   "outputs": [],
   "source": [
    "import matplotlib\n",
    "import matplotlib.pyplot as plt\n",
    "import mglearn\n",
    "import matplotlib.font_manager as fm\n",
    "\n",
    "font_location=r'C:\\Windows\\Fonts\\H2PORM.TTF'\n",
    "font_name=fm.FontProperties(fname=font_location).get_name()\n",
    "matplotlib.rc('font',family=font_name)\n",
    "for i in range(len(search_list)):\n",
    "    mglearn.tools.visualize_coefficients(grid[i].best_estimator_.coef_,cv_feature[i], n_top_features=20)\n",
    "    plt.show()\n",
    "    #plt.savefig(typelist[i]+'_keyword.jpg',facecolor='#eeeeee')"
   ]
  },
  {
   "cell_type": "code",
   "execution_count": null,
   "metadata": {},
   "outputs": [],
   "source": []
  }
 ],
 "metadata": {
  "kernelspec": {
   "display_name": "Python 3",
   "language": "python",
   "name": "python3"
  },
  "language_info": {
   "codemirror_mode": {
    "name": "ipython",
    "version": 3
   },
   "file_extension": ".py",
   "mimetype": "text/x-python",
   "name": "python",
   "nbconvert_exporter": "python",
   "pygments_lexer": "ipython3",
   "version": "3.7.6"
  }
 },
 "nbformat": 4,
 "nbformat_minor": 5
}
